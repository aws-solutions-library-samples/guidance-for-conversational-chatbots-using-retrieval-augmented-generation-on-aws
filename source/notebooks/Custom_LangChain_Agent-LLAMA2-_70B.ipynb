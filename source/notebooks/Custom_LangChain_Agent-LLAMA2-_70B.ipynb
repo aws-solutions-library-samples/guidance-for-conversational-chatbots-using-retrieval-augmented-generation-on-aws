{
 "cells": [
  {
   "cell_type": "code",
   "execution_count": null,
   "metadata": {
    "tags": []
   },
   "outputs": [],
   "source": [
    "!pip install pydantic"
   ]
  },
  {
   "cell_type": "code",
   "execution_count": null,
   "metadata": {
    "tags": []
   },
   "outputs": [],
   "source": [
    "!pip install --upgrade boto3"
   ]
  },
  {
   "cell_type": "code",
   "execution_count": null,
   "metadata": {
    "tags": []
   },
   "outputs": [],
   "source": [
    "!pip install --upgrade langchain"
   ]
  },
  {
   "cell_type": "markdown",
   "metadata": {},
   "source": [
    "# This notebook is used to evaluate LLAMA2 for RAG with Amazon Kendra . This notebook uses custom Langchain Agents with Amazon Kendra as a Tool for RAG"
   ]
  },
  {
   "cell_type": "markdown",
   "metadata": {},
   "source": [
    "## Full fledged Chatbot (Agents approch) implementation are avaialbe at :\n",
    "### Financial Bot : https://demos.aiml.aws.dev/intro.html?demo=conv-search-finance\n",
    "### Clinical Trail Bot :https://demos.aiml.aws.dev/intro.html?demo=clinical-trials-bot\n",
    "##### **Above 2 demos use Anthropic model\n",
    "##### **Reach out to Abhishek Maligehalli Shivalingaiah (@abhmalig) if you have questions\n"
   ]
  },
  {
   "cell_type": "markdown",
   "metadata": {
    "tags": []
   },
   "source": [
    "# Based on experimentation in this notebook LLAMA2 13B/70B LLM seems like a *VIABLE* choice to build such demos (chatbots)"
   ]
  },
  {
   "cell_type": "code",
   "execution_count": 26,
   "metadata": {
    "tags": []
   },
   "outputs": [],
   "source": [
    "from langchain import SagemakerEndpoint #,Kendra\n",
    "from langchain.docstore.document import Document\n",
    "from langchain.agents import load_tools,initialize_agent,Tool\n",
    "from langchain.agents.react.base import DocstoreExplorer\n",
    "from langchain.llms.sagemaker_endpoint import ContentHandlerBase,LLMContentHandler\n",
    "from typing import Dict ,List\n",
    "import json\n",
    "#import Anthropic\n",
    "from langchain.llms import Anthropic\n",
    "from langchain.prompts import StringPromptTemplate\n",
    "from langchain.agents import Tool, AgentExecutor, LLMSingleActionAgent, AgentOutputParser \n",
    "\n",
    "from langchain.agents import Tool, AgentExecutor, LLMSingleActionAgent, AgentOutputParser\n",
    "from langchain.prompts import StringPromptTemplate\n",
    "from langchain import OpenAI, SerpAPIWrapper, LLMChain\n",
    "from typing import List, Union\n",
    "from langchain.schema import AgentAction, AgentFinish\n",
    "from langchain.docstore.base import Docstore\n",
    "import re\n",
    "\n"
   ]
  },
  {
   "cell_type": "markdown",
   "metadata": {
    "tags": []
   },
   "source": [
    "## Kendra as Docstore"
   ]
  },
  {
   "cell_type": "code",
   "execution_count": 27,
   "metadata": {
    "tags": []
   },
   "outputs": [],
   "source": [
    "class Kendra(Docstore):\n",
    "    \"\"\"Wrapper around Kendra API.\"\"\"\n",
    "\n",
    "    def __init__(self,kendra_index_id :str, region_name:str) -> None:\n",
    "        \"\"\"Check that boto3 package is installed.\"\"\"\n",
    "        \n",
    "        self.used = False\n",
    "        self.URL = \"\"\n",
    "        \n",
    "        try:\n",
    "            import boto3\n",
    "            self.kendra_client = boto3.client(\"kendra\",region_name=region_name)\n",
    "            self.s3_client = boto3.client(\"s3\")\n",
    "            self.kendra_index_id = kendra_index_id\n",
    "            \n",
    "        except ImportError:\n",
    "            raise ValueError(\n",
    "                \"Could not import boto3 python package. \"\n",
    "                \"Please it install it with `pip install boto3`.\"\n",
    "            )\n",
    "\n",
    "    def parseResponse(self,response):\n",
    "        for each_loop in response['ResultItems'][0]['DocumentAttributes']:\n",
    "            if (each_loop['Key']=='_excerpt_page_number'):\n",
    "                pagenumber = each_loop['Value']['LongValue'] -1   \n",
    "        return pagenumber\n",
    "    \n",
    "    def parseBucketandKey(self,SourceURI):\n",
    "        return (SourceURI.split('/', 3)[2],SourceURI.split('/', 3)[3])\n",
    "\n",
    "\n",
    "    #def search(self, query : str ) -> str, Document]:\n",
    "    def search(self, query : str ) -> str:\n",
    "        \"\"\"Try to search for a document in Kendra Index\"\"\n",
    "        \n",
    "        \"\"\"\n",
    "        try:\n",
    "            page_size = 4\n",
    "            page_number = 1\n",
    "\n",
    "            result =  self.kendra_client.retrieve(\n",
    "                    IndexId = self.kendra_index_id,\n",
    "                    QueryText = query,\n",
    "                    PageSize = page_size,\n",
    "                    PageNumber = page_number)\n",
    "        except:\n",
    "            return \"RELAVENT PASSAGES NOT FOUND\"\n",
    "\n",
    "        # Concatinating the results from Kendra Retreive API \n",
    "        # https://docs.aws.amazon.com/kendra/latest/dg/searching-retrieve.html\n",
    "        context =\"\"\n",
    "        for retrieve_result in result[\"ResultItems\"]:\n",
    "            context =context +'['\n",
    "            context = context + \"Title: \" + str(retrieve_result[\"DocumentTitle\"] + \", URI: \" + str(retrieve_result[\"DocumentURI\"]) +\", Passage content: \" + str(retrieve_result[\"Content\"]))\n",
    "            context =context + '] '\n",
    "        return context"
   ]
  },
  {
   "cell_type": "code",
   "execution_count": 28,
   "metadata": {
    "tags": []
   },
   "outputs": [
    {
     "data": {
      "text/plain": [
       "'[Title: Antares Pharma, Inc. - Manufacturing Agreement, URI: https://s3.us-east-1.amazonaws.com/qna-llm-data/legal/Manufacturing/Antares Pharma, Inc. - Manufacturing Agreement.PDF, Passage content: ALL SUCH OMITTED MATERIAL HAS BEEN FILED WITH THE SECURITIES AND EXCHANGE COMMISSION PURSUANT TO RULE 24b-2 PROMULGATED UNDER THE SECURITIES EXCHANGE ACT OF 1934, AS AMENDED “Binding Forecast” has the meaning specified in Section 3.2(a); “[***]” has the meaning specified in Section 3.2(c); “Business Day” means a day other than a Saturday, Sunday or a day that is a federal holiday in the United States; “Calendar Quarter” means a three-month period ending on March 31, June 30, September 30 or December 31; , Sunday or a day that is a federal holiday in the United States; “Calendar Year” means a calendar year occurring after the Effective Date; provided, however, the first Calendar Year means the period from the Effective Date up to and including December 31 of the same calendar year in which the Effective Date occurs; “Certificate of Analysis (Device)” means “Certificate of Analysis (Device)” means a document signed by an authorized representative of Antares or the Subcontractor that conducted the applicable analysis, in reasonable and customary form, that: (i) describes the specifications for, and] [Title: Antares Pharma, Inc. - Manufacturing Agreement, URI: https://s3.us-east-1.amazonaws.com/anycorp-legaldata/Data/Manufacturing/Antares Pharma, Inc. - Manufacturing Agreement.PDF, Passage content: ALL SUCH OMITTED MATERIAL HAS BEEN FILED WITH THE SECURITIES AND EXCHANGE COMMISSION PURSUANT TO RULE 24b-2 PROMULGATED UNDER THE SECURITIES EXCHANGE ACT OF 1934, AS AMENDED “Binding Forecast” has the meaning specified in Section 3.2(a); “[***]” has the meaning specified in Section 3.2(c); “Business Day” means a day other than a Saturday, Sunday or a day that is a federal holiday in the United States; “Calendar Quarter” means a three-month period ending on March 31, June 30, September 30 or December 31; , Sunday or a day that is a federal holiday in the United States; “Calendar Year” means a calendar year occurring after the Effective Date; provided, however, the first Calendar Year means the period from the Effective Date up to and including December 31 of the same calendar year in which the Effective Date occurs; “Certificate of Analysis (Device)” means “Certificate of Analysis (Device)” means a document signed by an authorized representative of Antares or the Subcontractor that conducted the applicable analysis, in reasonable and customary form, that: (i) describes the specifications for, and] [Title: NeoformaInc_19991202_S-1A_EX-10.26_5224521_EX-10.26_Co-Branding Agreement, URI: https://s3.us-east-1.amazonaws.com/anycorp-legaldata/Data/Co_Branding/NeoformaInc_19991202_S-1A_EX-10.26_5224521_EX-10.26_Co-Branding Agreement.pdf, Passage content: the [*] month anniversary of the Effective Date, the third installment payable on the [*] month anniversary of the Effective Date, the fourth installment payable on the [*] month anniversary of the Effective Date, the fifth installment payable on the [*] month anniversary of the Effective Date, the sixth installment payable on the [*] month anniversary of the Effective Date, the seventh installment payable on the [*] month anniversary of the Effective Date and the eighth and final installment payable on the [*] month anniversary of the Effective Date. 10.3 MEDICAL PRODUCTS LISTINGS. of the Effective Date, the seventh installment payable on 10.3.1 During each 12 month period during the Initial Term that commences on the Effective Date or an anniversary of the Effective Date (each, a \"Contract Year\"), *Certain information on this page has been omitted and filed separately with the Commission. Confidential treatment has been requested with respect to the omitted portions. 14 15 commissions shall accrue in an amount equal to [*] of any Medical Products Net Revenues during such Contract Year resulting from (a) any VerticalNet Medical Products Listing or (b) any Neoforma Medical Products Listing for which VerticalNet was the Transaction Origination Party.] [Title: NeoformaInc_19991202_S-1A_EX-10.26_5224521_EX-10.26_Co-Branding Agreement, URI: https://s3.us-east-1.amazonaws.com/qna-llm-data/legal/Co_Branding/NeoformaInc_19991202_S-1A_EX-10.26_5224521_EX-10.26_Co-Branding Agreement.pdf, Passage content: the [*] month anniversary of the Effective Date, the third installment payable on the [*] month anniversary of the Effective Date, the fourth installment payable on the [*] month anniversary of the Effective Date, the fifth installment payable on the [*] month anniversary of the Effective Date, the sixth installment payable on the [*] month anniversary of the Effective Date, the seventh installment payable on the [*] month anniversary of the Effective Date and the eighth and final installment payable on the [*] month anniversary of the Effective Date. 10.3 MEDICAL PRODUCTS LISTINGS. of the Effective Date, the seventh installment payable on 10.3.1 During each 12 month period during the Initial Term that commences on the Effective Date or an anniversary of the Effective Date (each, a \"Contract Year\"), *Certain information on this page has been omitted and filed separately with the Commission. Confidential treatment has been requested with respect to the omitted portions. 14 15 commissions shall accrue in an amount equal to [*] of any Medical Products Net Revenues during such Contract Year resulting from (a) any VerticalNet Medical Products Listing or (b) any Neoforma Medical Products Listing for which VerticalNet was the Transaction Origination Party.] '"
      ]
     },
     "execution_count": 28,
     "metadata": {},
     "output_type": "execute_result"
    }
   ],
   "source": [
    "kendra_docstore = Kendra(kendra_index_id =\"ea70f4fe-e80b-432b-b160-8cb33205930f\",region_name='us-east-1')\n",
    "#kendra_docstore.search(\"what is the agreement signing date EcoScience Solutions contract ? \")\n",
    "#kendra_docstore.search(\"EcoScience Solutions contract date ? \")\n",
    "#kendra_docstore.search(\"EcoScience Solutions contract  ? \")\n",
    "kendra_docstore.search(\"what is the effective date for\")"
   ]
  },
  {
   "cell_type": "code",
   "execution_count": 29,
   "metadata": {
    "tags": []
   },
   "outputs": [
    {
     "data": {
      "text/plain": [
       "'[Title: PaidFamilyLeaveProgram_California, URI: https://s3.us-east-1.amazonaws.com/qna-llm-data/HR/PaidFamilyLeaveProgram_California.pdf, Passage content: Caregiving: Available to customers to care for a seriously ill child, parent, parent-in-law, grandparent, grandchild, sibling, spouse, or registered domestic partner. PFL defines “seriously ill” as an illness, injury, impairment, or physical or mental condition that requires: • At-home care or in-patient care in a hospital, hospice, or residential medical facility. • Continuing treatment by a licensed health professional. Bonding: Available to parents welcoming a new child into the family through birth, adoption, or foster care placement within the past 12 months. Foster and adopted children must be under the age of 18. A “parent” is defined as an individual, spouse, or registered domestic partner who will be serving as a parent for the child. “Paid Family Leave provided the peace of mind when it provided benefits to me, so I can focus on my family.” Russ D. Cameron Park, California California Employment Development Department DE 2530 Rev. 5 (1-22) (INTERNET) Page 11 of 26 Military Assist: Available to customers to participate in a qualifying event resulting from a spouse, registered domestic partner, parent, or child’s military deployment to a foreign country.] [Title: ELANDIAINTERNATIONALINC_04_25_2007-EX-10.21-Outsourcing Agreement, URI: https://s3.us-east-1.amazonaws.com/qna-llm-data/legal/Outsourcing/ELANDIAINTERNATIONALINC_04_25_2007-EX-10.21-Outsourcing Agreement.PDF, Passage content: As\\xa0referenced\\xa0in\\xa0Section\\xa08.5\\xa0of\\xa0this\\xa0agreement,\\xa0rebates\\xa0will\\xa0be\\xa0applied\\xa0as\\xa0detailed\\xa0in\\xa0Pricing\\xa0Schedule\\xa0C,\\xa0should\\xa0Datec\\xa0not\\xa0achieve\\xa0the\\xa0agreed Service\\xa0Levels.\\xa0 Rebates\\xa0will\\xa0apply\\xa0to\\xa0Severity\\xa0Levels\\xa0One\\xa0(1)\\xa0and\\xa0Two\\xa0(2)\\xa0for\\xa0all\\xa0logged\\xa0jobs\\xa0during\\xa0the\\xa0agreed\\xa0business\\xa0hours\\xa0contained\\xa0in\\xa0this agreement. \\xa0 A. Helpdesk\\xa0/\\xa0Service\\xa0Calls 1(a) During\\xa0Business\\xa0Hours\\xa0(Monday\\xa0to\\xa0Friday\\xa07.30\\xa0to\\xa018.00) Severity Level \\xa0 Time\\xa0to\\xa0Respond \\xa0 Escalation\\xa0Time \\xa0 Comments 1 \\xa0 15\\xa0minutes \\xa0 1\\xa0hour 2 \\xa0 30 2 \\xa0 30\\xa0minutes \\xa0 2\\xa0hours 3 \\xa0 1\\xa0hour \\xa0 4\\xa0hours 4 \\xa0 8\\xa0hours \\xa0 Next\\xa0business\\xa0day \\xa0\\n\\xa0 Commercial\\xa0in\\xa0Confidence \\xa0 Page\\xa045 \\xa0 May\\xa02004 Network\\xa0Management\\xa0Outsourcing\\xa0Agreement After\\xa0hours\\xa0assistance\\xa0Monday\\xa0through\\xa0Friday\\xa0will\\xa0be\\xa0available\\xa0via\\xa0the\\xa0Datec\\xa0Help\\xa0Desk: 1(b). After\\xa0Business\\xa0Hours\\xa0(Outside\\xa0Business\\xa0hours) 1 \\xa0 2\\xa0hours \\xa0 3\\xa0hours 2 \\xa0 3\\xa0hours \\xa0 4\\xa0hours 3 \\xa0 Next\\xa0business\\xa0day \\xa0 Next\\xa0business\\xa0day 4 \\xa0 Next\\xa0business\\xa0day \\xa0 Next\\xa0business\\xa0day \\xa0\\n\\n\\n\\xa0 1(c). minutes \\xa0 2\\xa0hours Severity\\xa0Definitions Severity\\xa0Level Illegible \\xa0 Illegible 2\\xa0High\\xa0Impact Required\\xa0prompt\\xa0corrective\\xa0action.\\xa0 Product\\xa0of\\xa0service\\xa0restricted.\\xa0 Business\\xa0can\\xa0operate\\xa0at\\xa0reduced\\xa0capacity.] [Title: ELANDIAINTERNATIONALINC_04_25_2007-EX-10.21-Outsourcing Agreement, URI: https://s3.us-east-1.amazonaws.com/anycorp-legaldata/Data/Outsourcing/ELANDIAINTERNATIONALINC_04_25_2007-EX-10.21-Outsourcing Agreement.PDF, Passage content: As\\xa0referenced\\xa0in\\xa0Section\\xa08.5\\xa0of\\xa0this\\xa0agreement,\\xa0rebates\\xa0will\\xa0be\\xa0applied\\xa0as\\xa0detailed\\xa0in\\xa0Pricing\\xa0Schedule\\xa0C,\\xa0should\\xa0Datec\\xa0not\\xa0achieve\\xa0the\\xa0agreed Service\\xa0Levels.\\xa0 Rebates\\xa0will\\xa0apply\\xa0to\\xa0Severity\\xa0Levels\\xa0One\\xa0(1)\\xa0and\\xa0Two\\xa0(2)\\xa0for\\xa0all\\xa0logged\\xa0jobs\\xa0during\\xa0the\\xa0agreed\\xa0business\\xa0hours\\xa0contained\\xa0in\\xa0this agreement. \\xa0 A. Helpdesk\\xa0/\\xa0Service\\xa0Calls 1(a) During\\xa0Business\\xa0Hours\\xa0(Monday\\xa0to\\xa0Friday\\xa07.30\\xa0to\\xa018.00) Severity Level \\xa0 Time\\xa0to\\xa0Respond \\xa0 Escalation\\xa0Time \\xa0 Comments 1 \\xa0 15\\xa0minutes \\xa0 1\\xa0hour 2 \\xa0 30 2 \\xa0 30\\xa0minutes \\xa0 2\\xa0hours 3 \\xa0 1\\xa0hour \\xa0 4\\xa0hours 4 \\xa0 8\\xa0hours \\xa0 Next\\xa0business\\xa0day \\xa0\\n\\xa0 Commercial\\xa0in\\xa0Confidence \\xa0 Page\\xa045 \\xa0 May\\xa02004 Network\\xa0Management\\xa0Outsourcing\\xa0Agreement After\\xa0hours\\xa0assistance\\xa0Monday\\xa0through\\xa0Friday\\xa0will\\xa0be\\xa0available\\xa0via\\xa0the\\xa0Datec\\xa0Help\\xa0Desk: 1(b). After\\xa0Business\\xa0Hours\\xa0(Outside\\xa0Business\\xa0hours) 1 \\xa0 2\\xa0hours \\xa0 3\\xa0hours 2 \\xa0 3\\xa0hours \\xa0 4\\xa0hours 3 \\xa0 Next\\xa0business\\xa0day \\xa0 Next\\xa0business\\xa0day 4 \\xa0 Next\\xa0business\\xa0day \\xa0 Next\\xa0business\\xa0day \\xa0\\n\\n\\n\\xa0 1(c). minutes \\xa0 2\\xa0hours Severity\\xa0Definitions Severity\\xa0Level Illegible \\xa0 Illegible 2\\xa0High\\xa0Impact Required\\xa0prompt\\xa0corrective\\xa0action.\\xa0 Product\\xa0of\\xa0service\\xa0restricted.\\xa0 Business\\xa0can\\xa0operate\\xa0at\\xa0reduced\\xa0capacity.] [Title: FamilyLeaveAct-Regulations_New Jersey, URI: https://s3.us-east-1.amazonaws.com/qna-llm-data/HR/FamilyLeaveAct-Regulations_New Jersey.pdf, Passage content: %5d%3e%3c%2fcite%3e&_butType=4&_butStat=0&_butNum=2&_butInline=1&_butinfo=NJCODE%2034%3a11B-3&_fmtstr=FULL&docnum=1&_startdoc=1&wchp=dGLbVzB-zSkAW&_md5=c19c7437f0cc9bec198ad7a2664fe3f8 3 \"Health care provider\" means any person licensed under Federal, state, or local law, or the laws of a foreign nation, to provide health care services; or any other person who has been authorized to provide health care by a licensed health care provider. \"Health insurance policy\" means all health benefits provided by an employer to an employee. Health benefits includes the opportunity provided by an employer to participate in a group health plan. \"Intermittent leave\" means leave due to a single qualifying reason (the serious health condition of a specific family member or the birth or placement for adoption of a child), taken in separate periods of time, where each period of leave is at least one workweek. \"Parent\" means a person who is the biological parent, adoptive parent, resource family parent, step-parent, parent-in-law, or legal guardian, having a \"parent-child relationship\" with a child as defined in N.J.S.A. with a child as defined in N.J.S.A. 34:11B-3, or having sole or joint legal or physical custody, care, guardianship, or visitation with a child.] '"
      ]
     },
     "execution_count": 29,
     "metadata": {},
     "output_type": "execute_result"
    }
   ],
   "source": [
    "kendra_docstore = Kendra(kendra_index_id =\"ea70f4fe-e80b-432b-b160-8cb33205930f\",region_name='us-east-1')\n",
    "#kendra_docstore.search(\"what is the agreement signing date EcoScience Solutions contract ? \")\n",
    "#kendra_docstore.search(\"EcoScience Solutions contract date ? \")\n",
    "#kendra_docstore.search(\"EcoScience Solutions contract  ? \")\n",
    "kendra_docstore.search(\"how much time off  is available for adoptive assistance?\")"
   ]
  },
  {
   "cell_type": "code",
   "execution_count": 30,
   "metadata": {
    "tags": []
   },
   "outputs": [
    {
     "data": {
      "text/plain": [
       "'[Title: EcoScienceSolutions_Sponsorship_Agreement, URI: https://s3.us-east-1.amazonaws.com/qna-llm-data/legal/Sponsorship/EcoScienceSolutions_Sponsorship_Agreement.pdf, Passage content: SPONSORSHIP AGREEMENT This agreement (the \"Agreement\") is made effective this 1st day of April, 2018 (\"Effective Date\") between Fruit of Life Productions LLC, (\"Promoter\") and Eco Science Solutions, Inc.,(\"Sponsor\"), 1135 Makawao Avenue, Suite 103-188, Makawao, Hawaii, 96768. Contribution by Sponsor: In consideration for the right to sponsor the Kaya Fest and to be acknowledged by Fruit of Life Productions LLC., as a Promoter of the event during the term of this Agreement, Sponsor agrees to contract with Fruit of Life Productions LLC., for the amount of $250,000.00 to be paid in full upon signing of this agreement. Bank Wire Transformation Information See Attached Wire Instructions Sponsorship Benefits for Presenting Partner Sponsor: * Main Stage named after your brand * 4 10x10 on site vendor booths * 50 VIP Sponsor Passes / * 50 VIP Sponsor Passes / 50 GA tickets for both days * 4 Parking passes * Opportunity to participate in after party * Banner placement in venue (10) * Approved audio/video assets to be provided as promotional use for Herbo * Name and phrase called out on stage between performers set * Your logo and a link from our website to your website * Your logo on video wall * Your company name] [Title: EcoScienceSolutions_Sponsorship_Agreement, URI: https://s3.us-east-1.amazonaws.com/anycorp-legaldata/Data/Sponsorship/EcoScienceSolutions_Sponsorship_Agreement.pdf, Passage content: SPONSORSHIP AGREEMENT This agreement (the \"Agreement\") is made effective this 1st day of April, 2018 (\"Effective Date\") between Fruit of Life Productions LLC, (\"Promoter\") and Eco Science Solutions, Inc.,(\"Sponsor\"), 1135 Makawao Avenue, Suite 103-188, Makawao, Hawaii, 96768. Contribution by Sponsor: In consideration for the right to sponsor the Kaya Fest and to be acknowledged by Fruit of Life Productions LLC., as a Promoter of the event during the term of this Agreement, Sponsor agrees to contract with Fruit of Life Productions LLC., for the amount of $250,000.00 to be paid in full upon signing of this agreement. Bank Wire Transformation Information See Attached Wire Instructions Sponsorship Benefits for Presenting Partner Sponsor: * Main Stage named after your brand * 4 10x10 on site vendor booths * 50 VIP Sponsor Passes / * 50 VIP Sponsor Passes / 50 GA tickets for both days * 4 Parking passes * Opportunity to participate in after party * Banner placement in venue (10) * Approved audio/video assets to be provided as promotional use for Herbo * Name and phrase called out on stage between performers set * Your logo and a link from our website to your website * Your logo on video wall * Your company name] [Title: EcoScienceSolutions_Sponsorship_Agreement, URI: https://s3.us-east-1.amazonaws.com/anycorp-legaldata/Data/Sponsorship/EcoScienceSolutions_Sponsorship_Agreement.pdf, Passage content: and logo as a presenting sponsor * Banner at main entrance of venue * On stage banner placement * Logo in Backstage/VIP area * Mention on social media * Logo on Step and Repeat * Logo on all promotional print Terms and Termination: The term of this agreement will begin on April 1, 2018 and continue until April 30, 2018 at 11:59pm. Relationship of Parties: The parties are independent contractors with respect to one another. Nothing in this Agreement shall create any association, joint venture, partnership or agency relationship of any kind between the parties. 1 Source: ECO SCIENCE SOLUTIONS, INC., 8-K, 4/6/2018 Intellectual Property: Fruit of Life Productions LLC is the sole owner of all right, title and interest to all Kaya Fest information including Logo, tag lines, (Education before Recreation), Trademarks, trade names and copyrighted information. Sponsor agrees that it will not use Kaya Fest property in a manner that states or implies that Kaya Fest endorses Sponsor (or Sponsors products or services) without written approval from Fruit of Life Productions LLC. Idemnification: Sponsor shall indemnify and hold harmless, Fruit of Life Productions LLC, its related entities, partners, agents, officers, directors, employees, attorneys, heirs, successors,] [Title: EcoScienceSolutions_Sponsorship_Agreement, URI: https://s3.us-east-1.amazonaws.com/qna-llm-data/legal/Sponsorship/EcoScienceSolutions_Sponsorship_Agreement.pdf, Passage content: and logo as a presenting sponsor * Banner at main entrance of venue * On stage banner placement * Logo in Backstage/VIP area * Mention on social media * Logo on Step and Repeat * Logo on all promotional print Terms and Termination: The term of this agreement will begin on April 1, 2018 and continue until April 30, 2018 at 11:59pm. Relationship of Parties: The parties are independent contractors with respect to one another. Nothing in this Agreement shall create any association, joint venture, partnership or agency relationship of any kind between the parties. 1 Source: ECO SCIENCE SOLUTIONS, INC., 8-K, 4/6/2018 Intellectual Property: Fruit of Life Productions LLC is the sole owner of all right, title and interest to all Kaya Fest information including Logo, tag lines, (Education before Recreation), Trademarks, trade names and copyrighted information. Sponsor agrees that it will not use Kaya Fest property in a manner that states or implies that Kaya Fest endorses Sponsor (or Sponsors products or services) without written approval from Fruit of Life Productions LLC. Idemnification: Sponsor shall indemnify and hold harmless, Fruit of Life Productions LLC, its related entities, partners, agents, officers, directors, employees, attorneys, heirs, successors,] '"
      ]
     },
     "execution_count": 30,
     "metadata": {},
     "output_type": "execute_result"
    }
   ],
   "source": [
    "kendra_docstore.search(\"what is the amount paid to Fruit of Life Productions LLC? \")"
   ]
  },
  {
   "cell_type": "markdown",
   "metadata": {},
   "source": [
    "## LLAMA2 13B/70B chat JSON handler"
   ]
  },
  {
   "cell_type": "code",
   "execution_count": 33,
   "metadata": {},
   "outputs": [],
   "source": [
    "class ContentHandler(LLMContentHandler):\n",
    "    content_type = \"application/json\"\n",
    "    accepts = \"application/json\"\n",
    "    def transform_input(self, prompt: str, model_kwargs: Dict) -> bytes:\n",
    "        dialog = [{\"role\": \"user\", \"content\": prompt}]\n",
    "        input_str = json.dumps({ \"inputs\" : [dialog], **model_kwargs})\n",
    "        return input_str.encode('utf-8')\n",
    "    \n",
    "    def transform_output(self, output: bytes) -> str:\n",
    "        model_predictions = json.loads(output.read())\n",
    "        return model_predictions[0]['generation']['content']\n",
    "content_handler = ContentHandler()"
   ]
  },
  {
   "cell_type": "markdown",
   "metadata": {},
   "source": [
    "# Custom AGENT LLM"
   ]
  },
  {
   "cell_type": "code",
   "execution_count": 34,
   "metadata": {
    "tags": []
   },
   "outputs": [],
   "source": [
    "from langchain.agents import ZeroShotAgent, Tool, AgentExecutor ,ReActChain\n",
    "from langchain import  LLMChain"
   ]
  },
  {
   "cell_type": "markdown",
   "metadata": {
    "tags": []
   },
   "source": [
    "## Defining Kendra as a TOOL for Langchain Agents"
   ]
  },
  {
   "cell_type": "code",
   "execution_count": 35,
   "metadata": {
    "tags": []
   },
   "outputs": [],
   "source": [
    "kendra_docstore = Kendra(kendra_index_id =\"ea70f4fe-e80b-432b-b160-8cb33205930f\",region_name='us-east-1')\n",
    "\n",
    "tools = [\n",
    "    Tool(\n",
    "        name=\"Search\",\n",
    "        func=kendra_docstore.search,\n",
    "        description=\"useful for when you need to answer legal questions regarding contract ,regulations, policies\"\n",
    "    )\n",
    "]"
   ]
  },
  {
   "cell_type": "code",
   "execution_count": 331,
   "metadata": {
    "tags": []
   },
   "outputs": [],
   "source": [
    "#endpoint_name=\"jumpstart-dft-meta-textgeneration-llama-2-70b-f\",\n",
    "llm = SagemakerEndpoint(\n",
    "            endpoint_name=\"jumpstart-dft-meta-textgeneration-llama-2-70b-f\",\n",
    "            region_name=\"us-east-1\",\n",
    "            content_handler=content_handler,\n",
    "            endpoint_kwargs={'CustomAttributes':'accept_eula=true'}\n",
    "    )"
   ]
  },
  {
   "cell_type": "markdown",
   "metadata": {
    "tags": []
   },
   "source": [
    "## Custom Prompt template and parser "
   ]
  },
  {
   "cell_type": "code",
   "execution_count": 332,
   "metadata": {
    "tags": []
   },
   "outputs": [],
   "source": [
    "# Set up the base template\n",
    "template = \"\"\"You are a conversational AI bot, Answer the following questions as best you can in less sentences as possible. \n",
    "You have access to the following tools:\n",
    "\n",
    "{tools}\n",
    "\n",
    "To use a tool, STRICTLY follow below format:\n",
    "\n",
    "```\n",
    "Thought: Do I need to use a tool? YES\n",
    "Action: the action to take, should be one of [{tool_names}]\n",
    "Action Input: the search key words ONLY\n",
    "Observation: the result of the search\n",
    "```\n",
    "YOU MUST USE THE BELOW FORMATE ,if you have a response to say to the user, or if you do not need to use a tool, \n",
    "YOU MUST ALWAYS USE PREFIX \"AI:\" TO RESPOND TO USER with FINAL ANSWER ,YOU MUST ALWAYS USE PREFIX \"AI:\" TO RESPOND TO USER with FINAL ANSWER,YOU MUST ALWAYS USE PREFIX \"AI:\" TO RESPOND TO USER with FINAL ANSWER\n",
    "\n",
    "```\n",
    "Thought: Do I need to use a tool? NO\n",
    "AI: [your response here]\n",
    "\n",
    "\n",
    "Example 1 Start:\n",
    "Question: What is the  population of India?\n",
    "Thought: Do I need to use a tool? YES\n",
    "Action: Search\n",
    "Action Input: population of India\n",
    "Observation:  India is in Asia.The current estimated population of India is approximately 1.38 billion. Its capital is D\n",
    "Thought: Do I need to use a tool again ? NO\n",
    "AI: The population of India is approximately 1.38 billion based on the search results\n",
    "Example 1 End\n",
    "\n",
    "Example 2 Start:\n",
    "Question: How are you?\n",
    "Thought: Do I need to use a tool? NO\n",
    "AI: I'm doing good. How are you?\n",
    "Example 2 End\n",
    "\n",
    "YOU MUST ALWAYS USE PREFIX \"AI:\" TO RESPOND TO USER with FINAL ANSWER ,YOU MUST ALWAYS USE PREFIX \"AI:\" TO RESPOND TO USER with FINAL ANSWER,YOU MUST ALWAYS USE PREFIX \"AI:\" TO RESPOND TO USER with FINAL ANSWER\n",
    "\n",
    "Begin!\n",
    "\n",
    "\n",
    "New input: {input}\n",
    "{agent_scratchpad}\"\"\""
   ]
  },
  {
   "cell_type": "code",
   "execution_count": 333,
   "metadata": {
    "tags": []
   },
   "outputs": [],
   "source": [
    "# Set up a prompt template\n",
    "class CustomPromptTemplate(StringPromptTemplate):\n",
    "    # The template to use\n",
    "    template: str\n",
    "    # The list of tools available\n",
    "    tools: List[Tool]\n",
    "    \n",
    "    def format(self, **kwargs) -> str:\n",
    "        # Get the intermediate steps (AgentAction, Observation tuples)\n",
    "        # Format them in a particular way\n",
    "        intermediate_steps = kwargs.pop(\"intermediate_steps\")\n",
    "        thoughts = \"\"\n",
    "        for action, observation in intermediate_steps:\n",
    "            thoughts += action.log\n",
    "            thoughts += f\"\\nObservation: {observation}\\nThought: \"\n",
    "        # Set the agent_scratchpad variable to that value\n",
    "        kwargs[\"agent_scratchpad\"] = thoughts\n",
    "        # Create a tools variable from the list of tools provided\n",
    "        kwargs[\"tools\"] = \"\\n\".join([f\"{tool.name}: {tool.description}\" for tool in self.tools])\n",
    "        # Create a list of tool names for the tools provided\n",
    "        kwargs[\"tool_names\"] = \", \".join([tool.name for tool in self.tools])\n",
    "        return self.template.format(**kwargs)\n"
   ]
  },
  {
   "cell_type": "code",
   "execution_count": 334,
   "metadata": {
    "tags": []
   },
   "outputs": [],
   "source": [
    "prompt = CustomPromptTemplate(\n",
    "    template=template,\n",
    "    tools=tools,\n",
    "    # This omits the `agent_scratchpad`, `tools`, and `tool_names` variables because those are generated dynamically\n",
    "    # This includes the `intermediate_steps` variable because that is needed\n",
    "    input_variables=[\"input\",\"intermediate_steps\"]\n",
    ")"
   ]
  },
  {
   "cell_type": "code",
   "execution_count": 335,
   "metadata": {
    "tags": []
   },
   "outputs": [
    {
     "name": "stdout",
     "output_type": "stream",
     "text": [
      "You are a conversational AI bot, Answer the following questions as best you can in less sentences as possible. \n",
      "You have access to the following tools:\n",
      "\n",
      "{tools}\n",
      "\n",
      "To use a tool, STRICTLY follow below format:\n",
      "\n",
      "```\n",
      "Thought: Do I need to use a tool? YES\n",
      "Action: the action to take, should be one of [{tool_names}]\n",
      "Action Input: the search key words ONLY\n",
      "Observation: the result of the search\n",
      "```\n",
      "YOU MUST USE THE BELOW FORMATE ,if you have a response to say to the user, or if you do not need to use a tool, \n",
      "YOU MUST ALWAYS USE PREFIX \"AI:\" TO RESPOND TO USER with FINAL ANSWER ,YOU MUST ALWAYS USE PREFIX \"AI:\" TO RESPOND TO USER with FINAL ANSWER,YOU MUST ALWAYS USE PREFIX \"AI:\" TO RESPOND TO USER with FINAL ANSWER\n",
      "\n",
      "```\n",
      "Thought: Do I need to use a tool? NO\n",
      "AI: [your response here]\n",
      "\n",
      "\n",
      "Example 1 Start:\n",
      "Question: What is the  population of India?\n",
      "Thought: Do I need to use a tool? YES\n",
      "Action: Search\n",
      "Action Input: population of India\n",
      "Observation:  India is in Asia.The current estimated population of India is approximately 1.38 billion. Its capital is D\n",
      "Thought: Do I need to use a tool again ? NO\n",
      "AI: The population of India is approximately 1.38 billion based on the search results\n",
      "Example 1 End\n",
      "\n",
      "Example 2 Start:\n",
      "Question: How are you?\n",
      "Thought: Do I need to use a tool? NO\n",
      "AI: I'm doing good. How are you?\n",
      "Example 2 End\n",
      "\n",
      "YOU MUST ALWAYS USE PREFIX \"AI:\" TO RESPOND TO USER with FINAL ANSWER ,YOU MUST ALWAYS USE PREFIX \"AI:\" TO RESPOND TO USER with FINAL ANSWER,YOU MUST ALWAYS USE PREFIX \"AI:\" TO RESPOND TO USER with FINAL ANSWER\n",
      "\n",
      "Begin!\n",
      "\n",
      "\n",
      "New input: {input}\n",
      "{agent_scratchpad}\n"
     ]
    }
   ],
   "source": [
    "print(prompt.template)"
   ]
  },
  {
   "cell_type": "code",
   "execution_count": 336,
   "metadata": {
    "tags": []
   },
   "outputs": [],
   "source": [
    "class CustomOutputParser(AgentOutputParser):\n",
    "    ai_prefix: str = \"AI\"\n",
    "    def get_format_instructions(self) -> str:\n",
    "        return FORMAT_INSTRUCTIONS\n",
    "\n",
    "    def parse(self, text: str) -> Union[AgentAction, AgentFinish]:\n",
    "        if f\"{self.ai_prefix}:\" in text:\n",
    "            return AgentFinish(\n",
    "                {\"output\": text.split(f\"{self.ai_prefix}:\")[-1].strip()}, text\n",
    "            )\n",
    "        regex = r\"Action: (.*?)[\\n]*Action Input: ((.|\\n)*)\"\n",
    "        match = re.search(regex, text)\n",
    "        if not match:\n",
    "            \n",
    "            print(\"text :\",text)\n",
    "            raise OutputParserException(f\"Could not parse LLM output: `{text}`\")\n",
    "        action = match.group(1)\n",
    "        action_input = match.group(2)\n",
    "        return AgentAction(action.strip(), action_input.strip(\" \").strip('\"'), text)"
   ]
  },
  {
   "cell_type": "code",
   "execution_count": 337,
   "metadata": {
    "tags": []
   },
   "outputs": [],
   "source": [
    "output_parser = CustomOutputParser()\n",
    "llm_chain = LLMChain(llm=llm, prompt=prompt)"
   ]
  },
  {
   "cell_type": "code",
   "execution_count": 338,
   "metadata": {
    "tags": []
   },
   "outputs": [],
   "source": [
    "tool_names = [tool.name for tool in tools]\n",
    "agent = LLMSingleActionAgent(\n",
    "    llm_chain=llm_chain, \n",
    "    output_parser=output_parser,\n",
    "    stop=[\"\\nObservation:\"], \n",
    "    allowed_tools=tool_names\n",
    ")"
   ]
  },
  {
   "cell_type": "code",
   "execution_count": 339,
   "metadata": {
    "tags": []
   },
   "outputs": [],
   "source": [
    "agent_executor = AgentExecutor.from_agent_and_tools(agent=agent, tools=tools, verbose=True)"
   ]
  },
  {
   "cell_type": "markdown",
   "metadata": {
    "tags": []
   },
   "source": [
    "# Evaluation of LLAMA2(13/70b) to power (Langchain)Agents and Tool usage"
   ]
  },
  {
   "cell_type": "markdown",
   "metadata": {},
   "source": [
    "## 1. LLAMA2 decided to NOT to use tool(Kendra) for casual conversation"
   ]
  },
  {
   "cell_type": "code",
   "execution_count": 340,
   "metadata": {},
   "outputs": [
    {
     "name": "stderr",
     "output_type": "stream",
     "text": [
      "Failed to load default session, using empty session: HTTPConnectionPool(host='localhost', port=8000): Max retries exceeded with url: /sessions?name=default (Caused by NewConnectionError('<urllib3.connection.HTTPConnection object at 0x7f21e9976fa0>: Failed to establish a new connection: [Errno 111] Connection refused'))\n"
     ]
    },
    {
     "name": "stdout",
     "output_type": "stream",
     "text": [
      "\n",
      "\n",
      "\u001b[1m> Entering new AgentExecutor chain...\u001b[0m\n"
     ]
    },
    {
     "name": "stderr",
     "output_type": "stream",
     "text": [
      "Failed to persist run: HTTPConnectionPool(host='localhost', port=8000): Max retries exceeded with url: /chain-runs (Caused by NewConnectionError('<urllib3.connection.HTTPConnection object at 0x7f21e997f370>: Failed to establish a new connection: [Errno 111] Connection refused'))\n"
     ]
    },
    {
     "name": "stdout",
     "output_type": "stream",
     "text": [
      "\u001b[32;1m\u001b[1;3m Thought: Do I need to use a tool? NO\n",
      "AI: Hello Abhishek, I'm just an AI, I don't have a personal identity, but I'm here to help you with any questions or information you might need. How can I assist you today?\u001b[0m\n",
      "\n",
      "\u001b[1m> Finished chain.\u001b[0m\n"
     ]
    },
    {
     "data": {
      "text/plain": [
       "\"Hello Abhishek, I'm just an AI, I don't have a personal identity, but I'm here to help you with any questions or information you might need. How can I assist you today?\""
      ]
     },
     "execution_count": 340,
     "metadata": {},
     "output_type": "execute_result"
    }
   ],
   "source": [
    "agent_executor.run(\"I'm Abhishek ,who are you\")"
   ]
  },
  {
   "cell_type": "code",
   "execution_count": 341,
   "metadata": {
    "tags": []
   },
   "outputs": [
    {
     "name": "stderr",
     "output_type": "stream",
     "text": [
      "Failed to load default session, using empty session: HTTPConnectionPool(host='localhost', port=8000): Max retries exceeded with url: /sessions?name=default (Caused by NewConnectionError('<urllib3.connection.HTTPConnection object at 0x7f21e99e3fd0>: Failed to establish a new connection: [Errno 111] Connection refused'))\n"
     ]
    },
    {
     "name": "stdout",
     "output_type": "stream",
     "text": [
      "\n",
      "\n",
      "\u001b[1m> Entering new AgentExecutor chain...\u001b[0m\n"
     ]
    },
    {
     "name": "stderr",
     "output_type": "stream",
     "text": [
      "Failed to persist run: HTTPConnectionPool(host='localhost', port=8000): Max retries exceeded with url: /chain-runs (Caused by NewConnectionError('<urllib3.connection.HTTPConnection object at 0x7f21e9976a90>: Failed to establish a new connection: [Errno 111] Connection refused'))\n"
     ]
    },
    {
     "name": "stdout",
     "output_type": "stream",
     "text": [
      "\u001b[32;1m\u001b[1;3m Thought: Do I need to use a tool? NO\n",
      "AI: I'm doing well, thanks for asking! How about you?\u001b[0m\n",
      "\n",
      "\u001b[1m> Finished chain.\u001b[0m\n"
     ]
    },
    {
     "data": {
      "text/plain": [
       "\"I'm doing well, thanks for asking! How about you?\""
      ]
     },
     "execution_count": 341,
     "metadata": {},
     "output_type": "execute_result"
    }
   ],
   "source": [
    "agent_executor.run(\"how are you today \")"
   ]
  },
  {
   "cell_type": "markdown",
   "metadata": {
    "tags": []
   },
   "source": [
    "## 2. LLAMA2 decided to use tool(Kendra) for searching about contracts"
   ]
  },
  {
   "cell_type": "code",
   "execution_count": 342,
   "metadata": {
    "tags": []
   },
   "outputs": [
    {
     "name": "stderr",
     "output_type": "stream",
     "text": [
      "Failed to load default session, using empty session: HTTPConnectionPool(host='localhost', port=8000): Max retries exceeded with url: /sessions?name=default (Caused by NewConnectionError('<urllib3.connection.HTTPConnection object at 0x7f21e99874f0>: Failed to establish a new connection: [Errno 111] Connection refused'))\n"
     ]
    },
    {
     "name": "stdout",
     "output_type": "stream",
     "text": [
      "\n",
      "\n",
      "\u001b[1m> Entering new AgentExecutor chain...\u001b[0m\n",
      "\u001b[32;1m\u001b[1;3m Thought: Do I need to use a tool? YES\n",
      "Action: Search\n",
      "Action Input: EcoScience Solutions contract effective date\u001b[0m\n",
      "\n",
      "Observation:\u001b[36;1m\u001b[1;3m[Title: EcoScienceSolutions_Sponsorship_Agreement, URI: https://s3.us-east-1.amazonaws.com/anycorp-legaldata/Data/Sponsorship/EcoScienceSolutions_Sponsorship_Agreement.pdf, Passage content: SPONSORSHIP AGREEMENT This agreement (the \"Agreement\") is made effective this 1st day of April, 2018 (\"Effective Date\") between Fruit of Life Productions LLC, (\"Promoter\") and Eco Science Solutions, Inc.,(\"Sponsor\"), 1135 Makawao Avenue, Suite 103-188, Makawao, Hawaii, 96768. Contribution by Sponsor: In consideration for the right to sponsor the Kaya Fest and to be acknowledged by Fruit of Life Productions LLC., as a Promoter of the event during the term of this Agreement, Sponsor agrees to contract with Fruit of Life Productions LLC., for the amount of $250,000.00 to be paid in full upon signing of this agreement. Bank Wire Transformation Information See Attached Wire Instructions Sponsorship Benefits for Presenting Partner Sponsor: * Main Stage named after your brand * 4 10x10 on site vendor booths * 50 VIP Sponsor Passes /] [Title: EcoScienceSolutions_Sponsorship_Agreement, URI: https://s3.us-east-1.amazonaws.com/qna-llm-data/legal/Sponsorship/EcoScienceSolutions_Sponsorship_Agreement.pdf, Passage content: SPONSORSHIP AGREEMENT This agreement (the \"Agreement\") is made effective this 1st day of April, 2018 (\"Effective Date\") between Fruit of Life Productions LLC, (\"Promoter\") and Eco Science Solutions, Inc.,(\"Sponsor\"), 1135 Makawao Avenue, Suite 103-188, Makawao, Hawaii, 96768. Contribution by Sponsor: In consideration for the right to sponsor the Kaya Fest and to be acknowledged by Fruit of Life Productions LLC., as a Promoter of the event during the term of this Agreement, Sponsor agrees to contract with Fruit of Life Productions LLC., for the amount of $250,000.00 to be paid in full upon signing of this agreement. Bank Wire Transformation Information See Attached Wire Instructions Sponsorship Benefits for Presenting Partner Sponsor: * Main Stage named after your brand * 4 10x10 on site vendor booths * 50 VIP Sponsor Passes /] [Title: BIOPURECORP_06_30_1999-EX-10.13-AGENCY AGREEMENT, URI: https://s3.us-east-1.amazonaws.com/anycorp-legaldata/Data/Agency Agreements/BIOPURECORP_06_30_1999-EX-10.13-AGENCY AGREEMENT.PDF, Passage content: The Agent will promptly advise the Company in writing of any event described in this Paragraph 4.2(b). (c) Either party may, at its option, terminate this Agreement without cause, effective at any time after January 31, 1999, upon giving at least ninety (90) days prior written notice of such termination to the other party. (d) If after exercise of good faith efforts, the parties fail to timely agree upon a Business Plan for any Contract Year before the start of such year (with respect to of such year (with respect to the Business Plan for Contract Year ending October 31, 1999, at least thirty (30) days or on a mutually agreed upon date after the Agent Launch Date), this Agreement may be terminated by either party upon giving at least thirty (30) days prior written notice of such termination to the other party. the Business Plan for Contract Year ending (e) In the event of any publicity concerning the Agent which the Company reasonably believes to have a material adverse affect upon the status or reputation of the Agent and/or the Products, the Company may, at its option, terminate this Agreement upon giving at least five (5) days prior written notice of such termination to the Agent.] [Title: BIOPURECORP_06_30_1999-EX-10.13-AGENCY AGREEMENT, URI: https://s3.us-east-1.amazonaws.com/qna-llm-data/legal/Agency Agreements/BIOPURECORP_06_30_1999-EX-10.13-AGENCY AGREEMENT.PDF, Passage content: The Agent will promptly advise the Company in writing of any event described in this Paragraph 4.2(b). (c) Either party may, at its option, terminate this Agreement without cause, effective at any time after January 31, 1999, upon giving at least ninety (90) days prior written notice of such termination to the other party. (d) If after exercise of good faith efforts, the parties fail to timely agree upon a Business Plan for any Contract Year before the start of such year (with respect to of such year (with respect to the Business Plan for Contract Year ending October 31, 1999, at least thirty (30) days or on a mutually agreed upon date after the Agent Launch Date), this Agreement may be terminated by either party upon giving at least thirty (30) days prior written notice of such termination to the other party. the Business Plan for Contract Year ending (e) In the event of any publicity concerning the Agent which the Company reasonably believes to have a material adverse affect upon the status or reputation of the Agent and/or the Products, the Company may, at its option, terminate this Agreement upon giving at least five (5) days prior written notice of such termination to the Agent.] \u001b[0m\n"
     ]
    },
    {
     "name": "stderr",
     "output_type": "stream",
     "text": [
      "Failed to persist run: HTTPConnectionPool(host='localhost', port=8000): Max retries exceeded with url: /chain-runs (Caused by NewConnectionError('<urllib3.connection.HTTPConnection object at 0x7f21e9987d60>: Failed to establish a new connection: [Errno 111] Connection refused'))\n"
     ]
    },
    {
     "name": "stdout",
     "output_type": "stream",
     "text": [
      "\u001b[32;1m\u001b[1;3m AI: The effective date of EcoScience Solutions contract is April 1st, 2018.\u001b[0m\n",
      "\n",
      "\u001b[1m> Finished chain.\u001b[0m\n"
     ]
    }
   ],
   "source": [
    "try:\n",
    "    agent_executor.run(\"what is the effective date of EcoScience Solutions contract?\")\n",
    "except ValueError as e:\n",
    "    response = str(e)\n",
    "    if not response.startswith(\"Could not parse LLM output: `\"):\n",
    "        raise e\n",
    "    response = response.removeprefix(\"Could not parse LLM output: `\").removesuffix(\"`\")"
   ]
  },
  {
   "cell_type": "code",
   "execution_count": 343,
   "metadata": {
    "tags": []
   },
   "outputs": [
    {
     "name": "stderr",
     "output_type": "stream",
     "text": [
      "Failed to load default session, using empty session: HTTPConnectionPool(host='localhost', port=8000): Max retries exceeded with url: /sessions?name=default (Caused by NewConnectionError('<urllib3.connection.HTTPConnection object at 0x7f21e9976100>: Failed to establish a new connection: [Errno 111] Connection refused'))\n"
     ]
    },
    {
     "name": "stdout",
     "output_type": "stream",
     "text": [
      "\n",
      "\n",
      "\u001b[1m> Entering new AgentExecutor chain...\u001b[0m\n",
      "\u001b[32;1m\u001b[1;3m Thought: Do I need to use a tool? YES\n",
      "Action: Search\n",
      "Action Input: full-time employees work hours\u001b[0m\n",
      "\n",
      "Observation:\u001b[36;1m\u001b[1;3m[Title: New York State Workers’ Compensation Law, URI: https://s3.us-east-1.amazonaws.com/qna-llm-data/HR/New York State Workers’ Compensation Law.pdf, Passage content: b. For any day of family leave during which the employee performed work for the employer for remuneration or profit. c. For any family leave commencing before the employee becomes eligible for PFL benefits. d. For any disability of the employee. B. Eligibility 1. Full-time employees who work a regular schedule of 20 hours or more per week are eligible for Paid Family Leave after 26 consecutive weeks of employment, commencing with the employee’s City Start date. 2. Part-time employees who work a regular schedule of less than 20 hours per week are eligible after working 175 days, which need not be consecutive, commencing with the employee’s City Start date. 3. The annual period during which an employee is eligible for a defined number of weeks of Paid Family Leave, as set forth in subsection “C,” below, is defined as a rolling 12-month period measured backward from the first date that the employee begins using PFL. 4. Once eligibility requirements are met, employees remain eligible until employment is terminated with the City of New York, or if the employee moves to a non-eligible title. 5. The Paid Family Leave benefit is paid through a small payroll deduction.] [Title: New York State Workers’ Compensation Law, URI: https://s3.us-east-1.amazonaws.com/qna-llm-data/HR/New York State Workers’ Compensation Law.pdf, Passage content: 2. No employee shall be entitled to PFL benefits: a. For any disability intentionally caused by the employee to another or resulting from the employee’s illegal act. b. For any day of family leave during which the employee performed work for the employer for remuneration or profit. c. For any family leave commencing before the employee becomes eligible for PFL benefits. d. For any disability of the employee. B. Eligibility 1. Full-time employees who work a regular schedule of 20 hours or more per week are eligible for Paid Family Leave after 26 consecutive weeks of employment, commencing with the employee’s City Start date. Part-time employees who work a regular schedule of less than 20 hours per week are eligible after working 175 days, which need not be consecutive, commencing with the employee’s City Start date. 3. The annual period during which an employee is eligible for a defined number of weeks of Paid Family Leave, as set forth in subsection “C,” below, is defined as a rolling 12-month period measured backward from the first date that the employee begins using PFL. 4.] [Title: BERKELEYLIGHTS,INC_06_26_2020-EX-10.12-COLLABORATION AGREEMENT, URI: https://s3.us-east-1.amazonaws.com/qna-llm-data/legal/Collaboration/BERKELEYLIGHTS,INC_06_26_2020-EX-10.12-COLLABORATION AGREEMENT.PDF, Passage content: , a total of twelve (12) months of [***] work conducted by such employee or (b) with respect to any full-time employee of BLI that is not [***] dedicated to the development of Workflows under this Agreement, a full time equivalent effort consisting of a minimum of a total of [***] ([***]) hours per year of work [***] a Workflow Development Plan by such employee of a Party. In no event shall the work of one (1) employee exceed 1 full FTE. ] 1.61 “FTE Costs” means, with respect to any given activity or activities over any specified period of time, the number of FTEs conducting such activity or activities multiplied by the FTE Rate. 1.62 “FTE Rate” means the rates per annum, listed in Schedule 1.62 (FTE Rate), which rate includes certain allowable allocations and subject to increase on an annual basis as of January 1 of each year, beginning in 2020, by a factor which reflects the increase, if any, in the Consumer Price Index for [***], as reported by] [Title: BERKELEYLIGHTS,INC_06_26_2020-EX-10.12-COLLABORATION AGREEMENT, URI: https://s3.us-east-1.amazonaws.com/anycorp-legaldata/Data/Collaboration/BERKELEYLIGHTS,INC_06_26_2020-EX-10.12-COLLABORATION AGREEMENT.PDF, Passage content: , a total of twelve (12) months of [***] work conducted by such employee or (b) with respect to any full-time employee of BLI that is not [***] dedicated to the development of Workflows under this Agreement, a full time equivalent effort consisting of a minimum of a total of [***] ([***]) hours per year of work [***] a Workflow Development Plan by such employee of a Party. In no event shall the work of one (1) employee exceed 1 full FTE. ] 1.61 “FTE Costs” means, with respect to any given activity or activities over any specified period of time, the number of FTEs conducting such activity or activities multiplied by the FTE Rate. 1.62 “FTE Rate” means the rates per annum, listed in Schedule 1.62 (FTE Rate), which rate includes certain allowable allocations and subject to increase on an annual basis as of January 1 of each year, beginning in 2020, by a factor which reflects the increase, if any, in the Consumer Price Index for [***], as reported by] \u001b[0m\n"
     ]
    },
    {
     "name": "stderr",
     "output_type": "stream",
     "text": [
      "Failed to persist run: HTTPConnectionPool(host='localhost', port=8000): Max retries exceeded with url: /chain-runs (Caused by NewConnectionError('<urllib3.connection.HTTPConnection object at 0x7f21e997f610>: Failed to establish a new connection: [Errno 111] Connection refused'))\n"
     ]
    },
    {
     "name": "stdout",
     "output_type": "stream",
     "text": [
      "\u001b[32;1m\u001b[1;3m AI: Based on the search results, it appears that full-time employees in New York State are entitled to Paid Family Leave (PFL) after working 26 consecutive weeks of employment, commencing with their City Start date. Part-time employees who work a regular schedule of less than 20 hours per week are eligible after working 175 days, which need not be consecutive, commencing with their City Start date. The annual period during which an employee is eligible for a defined number of weeks of PFL is defined as a rolling 12-month period measured backward from the first date that the employee begins using PFL. Additionally, full-time employees who work a regular schedule of 20 hours or more per week are eligible for PFL after 26 consecutive weeks of employment, commencing with their City Start date.\n",
      "\n",
      "It's also worth noting that the Consumer Price Index (CPI) is a measure of inflation and is used to adjust the FTE Rate on an annual basis. The FTE Rate includes certain allowable allocations and is subject to increase on an annual basis as of January 1 of each year, beginning in 2020, by a factor which reflects the increase, if any, in the CPI for [***], as reported by.\n",
      "\n",
      "I hope this information is helpful. Let me know if you have any further questions!\u001b[0m\n",
      "\n",
      "\u001b[1m> Finished chain.\u001b[0m\n"
     ]
    },
    {
     "data": {
      "text/plain": [
       "\"Based on the search results, it appears that full-time employees in New York State are entitled to Paid Family Leave (PFL) after working 26 consecutive weeks of employment, commencing with their City Start date. Part-time employees who work a regular schedule of less than 20 hours per week are eligible after working 175 days, which need not be consecutive, commencing with their City Start date. The annual period during which an employee is eligible for a defined number of weeks of PFL is defined as a rolling 12-month period measured backward from the first date that the employee begins using PFL. Additionally, full-time employees who work a regular schedule of 20 hours or more per week are eligible for PFL after 26 consecutive weeks of employment, commencing with their City Start date.\\n\\nIt's also worth noting that the Consumer Price Index (CPI) is a measure of inflation and is used to adjust the FTE Rate on an annual basis. The FTE Rate includes certain allowable allocations and is subject to increase on an annual basis as of January 1 of each year, beginning in 2020, by a factor which reflects the increase, if any, in the CPI for [***], as reported by.\\n\\nI hope this information is helpful. Let me know if you have any further questions!\""
      ]
     },
     "execution_count": 343,
     "metadata": {},
     "output_type": "execute_result"
    }
   ],
   "source": [
    "agent_executor.run(\"how long fulltime employees have to work\")"
   ]
  },
  {
   "cell_type": "code",
   "execution_count": 344,
   "metadata": {
    "tags": []
   },
   "outputs": [
    {
     "name": "stderr",
     "output_type": "stream",
     "text": [
      "Failed to load default session, using empty session: HTTPConnectionPool(host='localhost', port=8000): Max retries exceeded with url: /sessions?name=default (Caused by NewConnectionError('<urllib3.connection.HTTPConnection object at 0x7f21e998d760>: Failed to establish a new connection: [Errno 111] Connection refused'))\n"
     ]
    },
    {
     "name": "stdout",
     "output_type": "stream",
     "text": [
      "\n",
      "\n",
      "\u001b[1m> Entering new AgentExecutor chain...\u001b[0m\n",
      "\u001b[32;1m\u001b[1;3m Thought: Do I need to use a tool? YES\n",
      "Action: Search\n",
      "Action Input: EcoScience Solutions contract effective date\u001b[0m\n",
      "\n",
      "Observation:\u001b[36;1m\u001b[1;3m[Title: EcoScienceSolutions_Sponsorship_Agreement, URI: https://s3.us-east-1.amazonaws.com/anycorp-legaldata/Data/Sponsorship/EcoScienceSolutions_Sponsorship_Agreement.pdf, Passage content: SPONSORSHIP AGREEMENT This agreement (the \"Agreement\") is made effective this 1st day of April, 2018 (\"Effective Date\") between Fruit of Life Productions LLC, (\"Promoter\") and Eco Science Solutions, Inc.,(\"Sponsor\"), 1135 Makawao Avenue, Suite 103-188, Makawao, Hawaii, 96768. Contribution by Sponsor: In consideration for the right to sponsor the Kaya Fest and to be acknowledged by Fruit of Life Productions LLC., as a Promoter of the event during the term of this Agreement, Sponsor agrees to contract with Fruit of Life Productions LLC., for the amount of $250,000.00 to be paid in full upon signing of this agreement. Bank Wire Transformation Information See Attached Wire Instructions Sponsorship Benefits for Presenting Partner Sponsor: * Main Stage named after your brand * 4 10x10 on site vendor booths * 50 VIP Sponsor Passes /] [Title: EcoScienceSolutions_Sponsorship_Agreement, URI: https://s3.us-east-1.amazonaws.com/qna-llm-data/legal/Sponsorship/EcoScienceSolutions_Sponsorship_Agreement.pdf, Passage content: SPONSORSHIP AGREEMENT This agreement (the \"Agreement\") is made effective this 1st day of April, 2018 (\"Effective Date\") between Fruit of Life Productions LLC, (\"Promoter\") and Eco Science Solutions, Inc.,(\"Sponsor\"), 1135 Makawao Avenue, Suite 103-188, Makawao, Hawaii, 96768. Contribution by Sponsor: In consideration for the right to sponsor the Kaya Fest and to be acknowledged by Fruit of Life Productions LLC., as a Promoter of the event during the term of this Agreement, Sponsor agrees to contract with Fruit of Life Productions LLC., for the amount of $250,000.00 to be paid in full upon signing of this agreement. Bank Wire Transformation Information See Attached Wire Instructions Sponsorship Benefits for Presenting Partner Sponsor: * Main Stage named after your brand * 4 10x10 on site vendor booths * 50 VIP Sponsor Passes /] [Title: BIOPURECORP_06_30_1999-EX-10.13-AGENCY AGREEMENT, URI: https://s3.us-east-1.amazonaws.com/anycorp-legaldata/Data/Agency Agreements/BIOPURECORP_06_30_1999-EX-10.13-AGENCY AGREEMENT.PDF, Passage content: The Agent will promptly advise the Company in writing of any event described in this Paragraph 4.2(b). (c) Either party may, at its option, terminate this Agreement without cause, effective at any time after January 31, 1999, upon giving at least ninety (90) days prior written notice of such termination to the other party. (d) If after exercise of good faith efforts, the parties fail to timely agree upon a Business Plan for any Contract Year before the start of such year (with respect to of such year (with respect to the Business Plan for Contract Year ending October 31, 1999, at least thirty (30) days or on a mutually agreed upon date after the Agent Launch Date), this Agreement may be terminated by either party upon giving at least thirty (30) days prior written notice of such termination to the other party. the Business Plan for Contract Year ending (e) In the event of any publicity concerning the Agent which the Company reasonably believes to have a material adverse affect upon the status or reputation of the Agent and/or the Products, the Company may, at its option, terminate this Agreement upon giving at least five (5) days prior written notice of such termination to the Agent.] [Title: BIOPURECORP_06_30_1999-EX-10.13-AGENCY AGREEMENT, URI: https://s3.us-east-1.amazonaws.com/qna-llm-data/legal/Agency Agreements/BIOPURECORP_06_30_1999-EX-10.13-AGENCY AGREEMENT.PDF, Passage content: The Agent will promptly advise the Company in writing of any event described in this Paragraph 4.2(b). (c) Either party may, at its option, terminate this Agreement without cause, effective at any time after January 31, 1999, upon giving at least ninety (90) days prior written notice of such termination to the other party. (d) If after exercise of good faith efforts, the parties fail to timely agree upon a Business Plan for any Contract Year before the start of such year (with respect to of such year (with respect to the Business Plan for Contract Year ending October 31, 1999, at least thirty (30) days or on a mutually agreed upon date after the Agent Launch Date), this Agreement may be terminated by either party upon giving at least thirty (30) days prior written notice of such termination to the other party. the Business Plan for Contract Year ending (e) In the event of any publicity concerning the Agent which the Company reasonably believes to have a material adverse affect upon the status or reputation of the Agent and/or the Products, the Company may, at its option, terminate this Agreement upon giving at least five (5) days prior written notice of such termination to the Agent.] \u001b[0m\n"
     ]
    },
    {
     "name": "stderr",
     "output_type": "stream",
     "text": [
      "Failed to persist run: HTTPConnectionPool(host='localhost', port=8000): Max retries exceeded with url: /chain-runs (Caused by NewConnectionError('<urllib3.connection.HTTPConnection object at 0x7f21e997f4c0>: Failed to establish a new connection: [Errno 111] Connection refused'))\n"
     ]
    },
    {
     "name": "stdout",
     "output_type": "stream",
     "text": [
      "\u001b[32;1m\u001b[1;3m AI: The effective date of EcoScience Solutions contract is April 1st, 2018.\u001b[0m\n",
      "\n",
      "\u001b[1m> Finished chain.\u001b[0m\n"
     ]
    },
    {
     "data": {
      "text/plain": [
       "'The effective date of EcoScience Solutions contract is April 1st, 2018.'"
      ]
     },
     "execution_count": 344,
     "metadata": {},
     "output_type": "execute_result"
    }
   ],
   "source": [
    "agent_executor.run(\"what is the effective date of EcoScience Solutions contract?\")"
   ]
  },
  {
   "cell_type": "code",
   "execution_count": 57,
   "metadata": {},
   "outputs": [
    {
     "name": "stdout",
     "output_type": "stream",
     "text": [
      "\n",
      "\n",
      "\u001b[1m> Entering new AgentExecutor chain...\u001b[0m\n",
      "\u001b[32;1m\u001b[1;3m Sure, I'll do my best to assist you!\n",
      "\n",
      "Thought: Do I need to use a tool? YES\n",
      "\n",
      "Action: Search\n",
      "\n",
      "Action Input: when will ESSI company have right to terminate Talent\n",
      "\u001b[0m\n",
      "\n",
      "Observation:\u001b[36;1m\u001b[1;3m[Title: EcoScienceSolutionsInc_20171117_8-K_EX-10.1_10956472_EX-10.1_Endorsement Agreement, URI: https://s3.us-east-1.amazonaws.com/anycorp-legaldata/Data/Endorsement/EcoScienceSolutionsInc_20171117_8-K_EX-10.1_10956472_EX-10.1_Endorsement Agreement.pdf, Passage content: Such termination shall relieve ESSI of its obligation to provide any further consideration pursuant to this Agreement. B. Talent shall have the right to terminate this Agreement upon ten (10) days prior written notice to ESSI in the event of the occurrence of any of the following: (1) ESSI adjudicates as insolvent or declares bankruptcy; or (2) ESSI fails to provide consideration due pursuant to this Agreement, within ten (10) days following the date such consideration is due hereunder, provided that ESSI is notified in writing of such non-payment by Talent and such payment by ESSI is not made within three (3) days following such notification; or (3) Talent shall have the right to terminate this Agreement upon ten (10) days prior written notice to ESSI in the event of the non-payment by Talent and such payment by ESSI is not made within three (3) days following such notification; or (3) ESSI breaches any representation, warranty, covenant or agreement set forth herein and fails to cure same (if curable) within seven (7) days of receipt of written notice. Furthermore, ESSI agrees that such termination shall not relieve it of its obligation to provide consideration as contemplated hereunder. ESSI breaches any Talent shall not have waived any of its rights at law or in equity by exercising any provision of this paragraph. C. ESSI's rights to the use of Talent and Talent's Attributes as set forth in Paragraphs 3 and 4 shall end immediately should this Agreement be terminated pursuant to Paragraph 10(A) or Paragraph 10(B) above.] [Title: EcoScienceSolutionsInc_20171117_8-K_EX-10.1_10956472_EX-10.1_Endorsement Agreement, URI: https://s3.us-east-1.amazonaws.com/qna-llm-data/legal/Endorsement/EcoScienceSolutionsInc_20171117_8-K_EX-10.1_10956472_EX-10.1_Endorsement Agreement.pdf, Passage content: Such termination shall relieve ESSI of its obligation to provide any further consideration pursuant to this Agreement. B. Talent shall have the right to terminate this Agreement upon ten (10) days prior written notice to ESSI in the event of the occurrence of any of the following: (1) ESSI adjudicates as insolvent or declares bankruptcy; or (2) ESSI fails to provide consideration due pursuant to this Agreement, within ten (10) days following the date such consideration is due hereunder, provided that ESSI is notified in writing of such non-payment by Talent and such payment by ESSI is not made within three (3) days following such notification; or (3) Talent shall have the right to terminate this Agreement upon ten (10) days prior written notice to ESSI in the event of the non-payment by Talent and such payment by ESSI is not made within three (3) days following such notification; or (3) ESSI breaches any representation, warranty, covenant or agreement set forth herein and fails to cure same (if curable) within seven (7) days of receipt of written notice. Furthermore, ESSI agrees that such termination shall not relieve it of its obligation to provide consideration as contemplated hereunder. ESSI breaches any Talent shall not have waived any of its rights at law or in equity by exercising any provision of this paragraph. C. ESSI's rights to the use of Talent and Talent's Attributes as set forth in Paragraphs 3 and 4 shall end immediately should this Agreement be terminated pursuant to Paragraph 10(A) or Paragraph 10(B) above.] [Title: EcoScienceSolutionsInc_20171117_8-K_EX-10.1_10956472_EX-10.1_Endorsement Agreement, URI: https://s3.us-east-1.amazonaws.com/anycorp-legaldata/Data/Endorsement/EcoScienceSolutionsInc_20171117_8-K_EX-10.1_10956472_EX-10.1_Endorsement Agreement.pdf, Passage content: Such usage may not be sold or transferred. 9.1 Press Releases. Talent may not, at any time, individually, or through his agent, manager, family, friends, or associates publish a press release relative to ESSI without first obtaining the written consent and approval of ESSI's management and counsel. In the event Talent does publish any such press release, this Agreement shall be null and void and any outstanding balance owed to Talent shall be voided and the 1,000,000 Shares of ESSI common stock issued to Talent returned to the Company. 10. Termination for Cause A. ESSI shall have the right to terminate this Agreement upon ten (10) days prior written notice to Talent in the event Talent fails to perform the duties set forth in Paragraph 4 hereof or breaches any other covenant or agreement set forth herein and fails to cure same (if curable) within seven (7) days of receipt of written notice. Such termination shall relieve ESSI of its obligation to provide any further consideration pursuant to this Agreement. B.] [Title: EcoScienceSolutionsInc_20171117_8-K_EX-10.1_10956472_EX-10.1_Endorsement Agreement, URI: https://s3.us-east-1.amazonaws.com/qna-llm-data/legal/Endorsement/EcoScienceSolutionsInc_20171117_8-K_EX-10.1_10956472_EX-10.1_Endorsement Agreement.pdf, Passage content: Such usage may not be sold or transferred. 9.1 Press Releases. Talent may not, at any time, individually, or through his agent, manager, family, friends, or associates publish a press release relative to ESSI without first obtaining the written consent and approval of ESSI's management and counsel. In the event Talent does publish any such press release, this Agreement shall be null and void and any outstanding balance owed to Talent shall be voided and the 1,000,000 Shares of ESSI common stock issued to Talent returned to the Company. 10. Termination for Cause A. ESSI shall have the right to terminate this Agreement upon ten (10) days prior written notice to Talent in the event Talent fails to perform the duties set forth in Paragraph 4 hereof or breaches any other covenant or agreement set forth herein and fails to cure same (if curable) within seven (7) days of receipt of written notice. Such termination shall relieve ESSI of its obligation to provide any further consideration pursuant to this Agreement. B.] \u001b[0m\n",
      "\u001b[32;1m\u001b[1;3m AI: Based on the provided information, it appears that the termination of the agreement can be done by either party with a 10-day prior written notice. Additionally, the agreement can be terminated by ESSI if Talent breaches any of the provisions, including failing to perform the duties set forth in Paragraph 4 or breaching any other covenant or agreement set forth in the agreement. If the agreement is terminated, ESSI shall not be obligated to provide any further consideration pursuant to the agreement.\u001b[0m\n",
      "\n",
      "\u001b[1m> Finished chain.\u001b[0m\n"
     ]
    },
    {
     "data": {
      "text/plain": [
       "'Based on the provided information, it appears that the termination of the agreement can be done by either party with a 10-day prior written notice. Additionally, the agreement can be terminated by ESSI if Talent breaches any of the provisions, including failing to perform the duties set forth in Paragraph 4 or breaching any other covenant or agreement set forth in the agreement. If the agreement is terminated, ESSI shall not be obligated to provide any further consideration pursuant to the agreement.'"
      ]
     },
     "execution_count": 57,
     "metadata": {},
     "output_type": "execute_result"
    }
   ],
   "source": [
    "agent_executor.run(\"when will ESSI company have right to terminate Talent ?\")"
   ]
  },
  {
   "cell_type": "code",
   "execution_count": 557,
   "metadata": {
    "tags": []
   },
   "outputs": [
    {
     "name": "stdout",
     "output_type": "stream",
     "text": [
      "\n",
      "\n",
      "\u001b[1m> Entering new AgentExecutor chain...\u001b[0m\n",
      "\u001b[32;1m\u001b[1;3m Thought: Do I need to use a tool? YES\n",
      "Action: Search\n",
      "Action Input: \"adoptive assistance policy\"\u001b[0m\n",
      "\n",
      "Observation:\u001b[36;1m\u001b[1;3m[Title: New York State Workers’ Compensation Law, URI: https://s3.us-east-1.amazonaws.com/qna-llm-data/HR/New York State Workers’ Compensation Law.pdf, Passage content: 440-16 Subject: Paid Family Leave Benefits for Represented Employees Source: New York State Workers’ Compensation Law, Article 9 Supersedes: 440-16 issued December 21, 2021 Date:   December 19, 2022 1. INTRODUCTION Employees in titles represented by unions that have collectively bargained an agreement to opt into New York State Paid Family Leave Benefits will be eligible to take paid family leave (“PFL”). PFL is an employee-funded insurance policy that provides job-protected, paid time-off to bond with a newly born, adopted, or foster child, to care for a family member with a serious health condition, including preparation and recovery from surgery related to organ or tissue donation, or to assist loved ones when a family member is deployed in a foreign country on active military service. Each Collective Bargaining Unit (CBU) has a specific effective date for this benefit. Please refer to the attachment “List of Covered Unions” for eligibility dates. 2. DEFINITIONS “Family Leave” means any leave taken by an employee from work: (a) to participate in providing care, including physical or psychological care, for a family member of] [Title: PaidFamilyLeaveProgram_California, URI: https://s3.us-east-1.amazonaws.com/qna-llm-data/HR/PaidFamilyLeaveProgram_California.pdf, Passage content: Claim Filing Requirements Care Claims: The customer must complete the Claim for Paid Family Leave (PFL) Benefits (DE 2501F) (edd.ca.gov/pdf_pub_ctr/de2501f-sample.pdf) which includes the care recipient’s authorization. The care recipient’s treating licensed health professional must also certify on the claim form that the care recipient requires care and the length of time care is required. However, we may require the customer to submit a written verification of relationship if there is reason to question the validity of the relationship. Bonding Claims: The customer must complete the Claim for Paid Family Leave (PFL) Benefits (DE 2501F) (edd.ca.gov/pdf_pub_ctr/de2501f-sample.pdf) and provide a proof of relationship document when they file. This document may be a birth certificate, declaration of paternity, foster care placement record, adoptive placement agreement, independent adoption placement agreement, or other documentation that shows evidence of the relationship. California Code of Regulations, Title 22, section 2708(c)-1 specifies the requirements for supporting documents. Note: New moms transitioning from a Disability Insurance (DI) pregnancy claim to a PFL bonding claim receive the Claim for Paid Family Leave (PFL) Benefits - New Mother (DE 2501FP) (edd.ca.gov/pdf_ pub_ctr/de2501fp.pdf) after their final DI payment and do not have to provide proof of relationship documentation.] [Title: FamilyLeaveAct-Regulations_New Jersey, URI: https://s3.us-east-1.amazonaws.com/qna-llm-data/HR/FamilyLeaveAct-Regulations_New Jersey.pdf, Passage content: %5d%3e%3c%2fcite%3e&_butType=4&_butStat=0&_butNum=2&_butInline=1&_butinfo=NJCODE%2034%3a11B-3&_fmtstr=FULL&docnum=1&_startdoc=1&wchp=dGLbVzB-zSkAW&_md5=c19c7437f0cc9bec198ad7a2664fe3f8 3 \"Health care provider\" means any person licensed under Federal, state, or local law, or the laws of a foreign nation, to provide health care services; or any other person who has been authorized to provide health care by a licensed health care provider. \"Health insurance policy\" means all health benefits provided by an employer to an employee. Health benefits includes the opportunity provided by an employer to participate in a group health plan. \"Intermittent leave\" means leave due to a single qualifying reason (the serious health condition of a specific family member or the birth or placement for adoption of a child), taken in separate periods of time, where each period of leave is at least one workweek. \"Parent\" means a person who is the biological parent, adoptive parent, resource family parent, step-parent, parent-in-law, or legal guardian, having a \"parent-child relationship\" with a child as defined in N.J.S.A. with a child as defined in N.J.S.A. 34:11B-3, or having sole or joint legal or physical custody, care, guardianship, or visitation with a child.] [Title: PaidFamilyLeaveProgram_California, URI: https://s3.us-east-1.amazonaws.com/qna-llm-data/HR/PaidFamilyLeaveProgram_California.pdf, Passage content: However, we may require the customer to submit a written verification of relationship if there is reason to question the validity of the relationship. Bonding Claims: The customer must complete the Claim for Paid Family Leave (PFL) Benefits (DE 2501F) (edd.ca.gov/pdf_pub_ctr/de2501f-sample.pdf) and provide a proof of relationship document when they file. This document may be a birth certificate, declaration of paternity, foster care placement record, adoptive placement agreement, independent adoption placement agreement, or other documentation that shows evidence of the relationship. California Code of Regulations, Title 22, section 2708(c)-1 specifies the requirements for supporting documents. Note: New moms transitioning from a Disability Insurance (DI) pregnancy claim to a PFL bonding claim receive the Claim for Paid Family Leave (PFL) Benefits - New Mother (DE 2501FP) (edd.ca.gov/pdf_ pub_ctr/de2501fp.pdf) after their final DI payment and do not have to provide proof of relationship documentation. Military Assist Claims: The customer must complete the Claim for Paid Family Leave (PFL) Benefits (DE 2501F) (edd.ca.gov/pdf_pub_ctr/de2501f-sample.pdf) which includes the Military Assist Certification and provide supporting military documentation. This document may be covered active duty orders, a letter of impending call or order to covered duty, or documentation of military leave signed by the approving authority for the military member’s rest and recuperation.] \u001b[0m\n",
      "\u001b[32;1m\u001b[1;3m AI: Based on the search results, it appears that there are different policies and regulations regarding adoptive assistance in different states. In New York, for example, there is a policy that provides job-protected, paid time-off to bond with a newly born, adopted, or foster child, to care for a family member with a serious health condition, including preparation and recovery from surgery related to organ or tissue donation, or to assist loved ones when a family member is deployed in a foreign country on active military service. In California, there is a Paid Family Leave (PFL) program that provides up to 6 weeks of paid leave to care for a family member with a serious health condition, including a new child. In New Jersey, there is a Family Leave Act that provides up to 12 weeks of leave for certain family-related reasons, including the adoption of a child.\n",
      "\n",
      "It's important to note that these policies and regulations are subject to change and may have specific requirements and restrictions. It's always best to consult with the relevant authorities or a qualified legal professional to get the most up-to-date information and advice on adoptive assistance policies.\n",
      "\n",
      "AI: Do you have any other questions or concerns regarding adoptive assistance policies?\u001b[0m\n",
      "\n",
      "\u001b[1m> Finished chain.\u001b[0m\n"
     ]
    },
    {
     "data": {
      "text/plain": [
       "'Do you have any other questions or concerns regarding adoptive assistance policies?'"
      ]
     },
     "execution_count": 557,
     "metadata": {},
     "output_type": "execute_result"
    }
   ],
   "source": [
    "agent_executor.run(\"summarize leaves available for adoptive assistance based on policy?\")"
   ]
  },
  {
   "cell_type": "code",
   "execution_count": 345,
   "metadata": {
    "tags": []
   },
   "outputs": [
    {
     "name": "stderr",
     "output_type": "stream",
     "text": [
      "Failed to load default session, using empty session: HTTPConnectionPool(host='localhost', port=8000): Max retries exceeded with url: /sessions?name=default (Caused by NewConnectionError('<urllib3.connection.HTTPConnection object at 0x7f21e997fd60>: Failed to establish a new connection: [Errno 111] Connection refused'))\n"
     ]
    },
    {
     "name": "stdout",
     "output_type": "stream",
     "text": [
      "\n",
      "\n",
      "\u001b[1m> Entering new AgentExecutor chain...\u001b[0m\n",
      "\u001b[32;1m\u001b[1;3m Thought: Do I need to use a tool? YES\n",
      "Action: Search\n",
      "Action Input: Michael Gorzynski\u001b[0m\n",
      "\n",
      "Observation:\u001b[36;1m\u001b[1;3m[Title: HC2HOLDINGS,INC_05_14_2020-EX-10.1-COOPERATION AGREEMENT, URI: https://s3.us-east-1.amazonaws.com/anycorp-legaldata/Data/Collaboration/HC2HOLDINGS,INC_05_14_2020-EX-10.1-COOPERATION AGREEMENT.PDF, Passage content: “Avie” Glazer is the principal of Lancer Capital. In addition, he currently serves as Executive Co-Chairman and Director of Manchester United Plc (NYSE: MANU). Mr. Glazer served as President and Chief Executive Officer of Zapata Corporation, a U.S. public company between from March 1995 to July 2009 and Chairman of the board of Zapata Corporation from March 2002 to July 2009. In addition to his professional experience, Mr. Glazer received a business degree from Washington University in St. Louis and received a law degree from American University, Washington College of Law. Michael Gorzynski is the Managing Member of MG Capital, an investment firm focused on complex value-oriented investments. Previously, he invested in special situations globally at Third Point LLC, a large asset management firm, where he focused on macro, event-driven, distressed, and private investments across the capital structure. He is an expert in restructurings and in the insurance and banking industries, having participated in multiple large-scale bank and insurance company restructurings. He began his career at Credit Suisse First Boston in the technology investment banking group and at Spectrum Equity Investors a private equity fund in Boston. He earned a BA from the University of California, Berkeley, and received an MBA from Harvard Business School.] [Title: HC2HOLDINGS,INC_05_14_2020-EX-10.1-COOPERATION AGREEMENT, URI: https://s3.us-east-1.amazonaws.com/qna-llm-data/legal/Collaboration/HC2HOLDINGS,INC_05_14_2020-EX-10.1-COOPERATION AGREEMENT.PDF, Passage content: “Avie” Glazer is the principal of Lancer Capital. In addition, he currently serves as Executive Co-Chairman and Director of Manchester United Plc (NYSE: MANU). Mr. Glazer served as President and Chief Executive Officer of Zapata Corporation, a U.S. public company between from March 1995 to July 2009 and Chairman of the board of Zapata Corporation from March 2002 to July 2009. In addition to his professional experience, Mr. Glazer received a business degree from Washington University in St. Louis and received a law degree from American University, Washington College of Law. Michael Gorzynski is the Managing Member of MG Capital, an investment firm focused on complex value-oriented investments. Previously, he invested in special situations globally at Third Point LLC, a large asset management firm, where he focused on macro, event-driven, distressed, and private investments across the capital structure. He is an expert in restructurings and in the insurance and banking industries, having participated in multiple large-scale bank and insurance company restructurings. He began his career at Credit Suisse First Boston in the technology investment banking group and at Spectrum Equity Investors a private equity fund in Boston. He earned a BA from the University of California, Berkeley, and received an MBA from Harvard Business School.] [Title: HC2HOLDINGS,INC_05_14_2020-EX-10.1-COOPERATION AGREEMENT, URI: https://s3.us-east-1.amazonaws.com/qna-llm-data/legal/Collaboration/HC2HOLDINGS,INC_05_14_2020-EX-10.1-COOPERATION AGREEMENT.PDF, Passage content: THE COMPANY: HC2 Holdings, Inc. By: /s/Joseph Ferraro Name: Joseph Ferraro Title: Chief Legal Officer [Signature Page to Cooperation Agreement] MG CAPITAL PARTIES: MG Capital Management Ltd. By:/s/ Michael Gorzynski Name: Michael Gorzynski Title: Sole Director Percy Rockdale LLC Title: Sole Manager Rio Royal LLC Exhibit A MG CAPITAL PARTIES MG CAPITAL MANAGEMENT LTD. PERCY ROCKDALE LLC RIO ROYAL LLC Exhibit B Form Michael Gorzynski Form of Press Release HC2 HOLDINGS AND MG CAPITAL ANNOUNCE SETTLEMENT AGREEMENT AND PLAN TO RECONSTITUTE BOARD OF DIRECTORS Announces Immediate Appointment of Two New Directors: MG Capital Nominees Kenneth S. Courtis and Michael Gorzynski Previously Announced Additions Avram A. “Avie” Glazer and Shelly C. Lombard Will Also Begin Serving as Directors Immediately, With Mr. Glazer to Serve as Chairman of the Board Recent Collaboration With Stockholders Will Result in More Than of Press Release Recent Collaboration With Stockholders Will Result in More Than 50% of the Board Being Refreshed Following the 2020 Annual Meeting MG Capital Agrees to Withdraw its Consent Solicitation and Nomination Notice NEW YORK, May 14, 2020 (GLOBE NEWSWIRE)—HC2 Holdings, Inc. (“HC2” or the “Company”) (NYSE: HCHC), a diversified holding company, and MG Capital Management, Ltd. (together with Percy Rockdale] [Title: HC2HOLDINGS,INC_05_14_2020-EX-10.1-COOPERATION AGREEMENT, URI: https://s3.us-east-1.amazonaws.com/anycorp-legaldata/Data/Collaboration/HC2HOLDINGS,INC_05_14_2020-EX-10.1-COOPERATION AGREEMENT.PDF, Passage content: THE COMPANY: HC2 Holdings, Inc. By: /s/Joseph Ferraro Name: Joseph Ferraro Title: Chief Legal Officer [Signature Page to Cooperation Agreement] MG CAPITAL PARTIES: MG Capital Management Ltd. By:/s/ Michael Gorzynski Name: Michael Gorzynski Title: Sole Director Percy Rockdale LLC Title: Sole Manager Rio Royal LLC Exhibit A MG CAPITAL PARTIES MG CAPITAL MANAGEMENT LTD. PERCY ROCKDALE LLC RIO ROYAL LLC Exhibit B Form Michael Gorzynski Form of Press Release HC2 HOLDINGS AND MG CAPITAL ANNOUNCE SETTLEMENT AGREEMENT AND PLAN TO RECONSTITUTE BOARD OF DIRECTORS Announces Immediate Appointment of Two New Directors: MG Capital Nominees Kenneth S. Courtis and Michael Gorzynski Previously Announced Additions Avram A. “Avie” Glazer and Shelly C. Lombard Will Also Begin Serving as Directors Immediately, With Mr. Glazer to Serve as Chairman of the Board Recent Collaboration With Stockholders Will Result in More Than of Press Release Recent Collaboration With Stockholders Will Result in More Than 50% of the Board Being Refreshed Following the 2020 Annual Meeting MG Capital Agrees to Withdraw its Consent Solicitation and Nomination Notice NEW YORK, May 14, 2020 (GLOBE NEWSWIRE)—HC2 Holdings, Inc. (“HC2” or the “Company”) (NYSE: HCHC), a diversified holding company, and MG Capital Management, Ltd. (together with Percy Rockdale] \u001b[0m\n"
     ]
    },
    {
     "name": "stderr",
     "output_type": "stream",
     "text": [
      "Failed to persist run: HTTPConnectionPool(host='localhost', port=8000): Max retries exceeded with url: /chain-runs (Caused by NewConnectionError('<urllib3.connection.HTTPConnection object at 0x7f21e9987070>: Failed to establish a new connection: [Errno 111] Connection refused'))\n"
     ]
    },
    {
     "name": "stdout",
     "output_type": "stream",
     "text": [
      "text :  Based on the information provided, Michael Gorzynski is the Managing Member of MG Capital, an investment firm focused on complex value-oriented investments. He has a background in investing in special situations globally at Third Point LLC, and has expertise in restructurings and in the insurance and banking industries. He is also a director of HC2 Holdings, Inc. and has been involved in the company's collaboration with stockholders to refresh the board of directors.\n"
     ]
    },
    {
     "ename": "NameError",
     "evalue": "name 'OutputParserException' is not defined",
     "output_type": "error",
     "traceback": [
      "\u001b[0;31m---------------------------------------------------------------------------\u001b[0m",
      "\u001b[0;31mNameError\u001b[0m                                 Traceback (most recent call last)",
      "Cell \u001b[0;32mIn[345], line 1\u001b[0m\n\u001b[0;32m----> 1\u001b[0m \u001b[43magent_executor\u001b[49m\u001b[38;5;241;43m.\u001b[39;49m\u001b[43mrun\u001b[49m\u001b[43m(\u001b[49m\u001b[38;5;124;43m\"\u001b[39;49m\u001b[38;5;124;43mwho is Michael Gorzynski?\u001b[39;49m\u001b[38;5;124;43m\"\u001b[39;49m\u001b[43m)\u001b[49m\n",
      "File \u001b[0;32m/opt/conda/lib/python3.8/site-packages/langchain/chains/base.py:451\u001b[0m, in \u001b[0;36mChain.run\u001b[0;34m(self, callbacks, tags, metadata, *args, **kwargs)\u001b[0m\n\u001b[1;32m    449\u001b[0m     \u001b[38;5;28;01mif\u001b[39;00m \u001b[38;5;28mlen\u001b[39m(args) \u001b[38;5;241m!=\u001b[39m \u001b[38;5;241m1\u001b[39m:\n\u001b[1;32m    450\u001b[0m         \u001b[38;5;28;01mraise\u001b[39;00m \u001b[38;5;167;01mValueError\u001b[39;00m(\u001b[38;5;124m\"\u001b[39m\u001b[38;5;124m`run` supports only one positional argument.\u001b[39m\u001b[38;5;124m\"\u001b[39m)\n\u001b[0;32m--> 451\u001b[0m     \u001b[38;5;28;01mreturn\u001b[39;00m \u001b[38;5;28;43mself\u001b[39;49m\u001b[43m(\u001b[49m\u001b[43margs\u001b[49m\u001b[43m[\u001b[49m\u001b[38;5;241;43m0\u001b[39;49m\u001b[43m]\u001b[49m\u001b[43m,\u001b[49m\u001b[43m \u001b[49m\u001b[43mcallbacks\u001b[49m\u001b[38;5;241;43m=\u001b[39;49m\u001b[43mcallbacks\u001b[49m\u001b[43m,\u001b[49m\u001b[43m \u001b[49m\u001b[43mtags\u001b[49m\u001b[38;5;241;43m=\u001b[39;49m\u001b[43mtags\u001b[49m\u001b[43m,\u001b[49m\u001b[43m \u001b[49m\u001b[43mmetadata\u001b[49m\u001b[38;5;241;43m=\u001b[39;49m\u001b[43mmetadata\u001b[49m\u001b[43m)\u001b[49m[\n\u001b[1;32m    452\u001b[0m         _output_key\n\u001b[1;32m    453\u001b[0m     ]\n\u001b[1;32m    455\u001b[0m \u001b[38;5;28;01mif\u001b[39;00m kwargs \u001b[38;5;129;01mand\u001b[39;00m \u001b[38;5;129;01mnot\u001b[39;00m args:\n\u001b[1;32m    456\u001b[0m     \u001b[38;5;28;01mreturn\u001b[39;00m \u001b[38;5;28mself\u001b[39m(kwargs, callbacks\u001b[38;5;241m=\u001b[39mcallbacks, tags\u001b[38;5;241m=\u001b[39mtags, metadata\u001b[38;5;241m=\u001b[39mmetadata)[\n\u001b[1;32m    457\u001b[0m         _output_key\n\u001b[1;32m    458\u001b[0m     ]\n",
      "File \u001b[0;32m/opt/conda/lib/python3.8/site-packages/langchain/chains/base.py:258\u001b[0m, in \u001b[0;36mChain.__call__\u001b[0;34m(self, inputs, return_only_outputs, callbacks, tags, metadata, include_run_info)\u001b[0m\n\u001b[1;32m    256\u001b[0m \u001b[38;5;28;01mexcept\u001b[39;00m (\u001b[38;5;167;01mKeyboardInterrupt\u001b[39;00m, \u001b[38;5;167;01mException\u001b[39;00m) \u001b[38;5;28;01mas\u001b[39;00m e:\n\u001b[1;32m    257\u001b[0m     run_manager\u001b[38;5;241m.\u001b[39mon_chain_error(e)\n\u001b[0;32m--> 258\u001b[0m     \u001b[38;5;28;01mraise\u001b[39;00m e\n\u001b[1;32m    259\u001b[0m run_manager\u001b[38;5;241m.\u001b[39mon_chain_end(outputs)\n\u001b[1;32m    260\u001b[0m final_outputs: Dict[\u001b[38;5;28mstr\u001b[39m, Any] \u001b[38;5;241m=\u001b[39m \u001b[38;5;28mself\u001b[39m\u001b[38;5;241m.\u001b[39mprep_outputs(\n\u001b[1;32m    261\u001b[0m     inputs, outputs, return_only_outputs\n\u001b[1;32m    262\u001b[0m )\n",
      "File \u001b[0;32m/opt/conda/lib/python3.8/site-packages/langchain/chains/base.py:252\u001b[0m, in \u001b[0;36mChain.__call__\u001b[0;34m(self, inputs, return_only_outputs, callbacks, tags, metadata, include_run_info)\u001b[0m\n\u001b[1;32m    246\u001b[0m run_manager \u001b[38;5;241m=\u001b[39m callback_manager\u001b[38;5;241m.\u001b[39mon_chain_start(\n\u001b[1;32m    247\u001b[0m     dumpd(\u001b[38;5;28mself\u001b[39m),\n\u001b[1;32m    248\u001b[0m     inputs,\n\u001b[1;32m    249\u001b[0m )\n\u001b[1;32m    250\u001b[0m \u001b[38;5;28;01mtry\u001b[39;00m:\n\u001b[1;32m    251\u001b[0m     outputs \u001b[38;5;241m=\u001b[39m (\n\u001b[0;32m--> 252\u001b[0m         \u001b[38;5;28;43mself\u001b[39;49m\u001b[38;5;241;43m.\u001b[39;49m\u001b[43m_call\u001b[49m\u001b[43m(\u001b[49m\u001b[43minputs\u001b[49m\u001b[43m,\u001b[49m\u001b[43m \u001b[49m\u001b[43mrun_manager\u001b[49m\u001b[38;5;241;43m=\u001b[39;49m\u001b[43mrun_manager\u001b[49m\u001b[43m)\u001b[49m\n\u001b[1;32m    253\u001b[0m         \u001b[38;5;28;01mif\u001b[39;00m new_arg_supported\n\u001b[1;32m    254\u001b[0m         \u001b[38;5;28;01melse\u001b[39;00m \u001b[38;5;28mself\u001b[39m\u001b[38;5;241m.\u001b[39m_call(inputs)\n\u001b[1;32m    255\u001b[0m     )\n\u001b[1;32m    256\u001b[0m \u001b[38;5;28;01mexcept\u001b[39;00m (\u001b[38;5;167;01mKeyboardInterrupt\u001b[39;00m, \u001b[38;5;167;01mException\u001b[39;00m) \u001b[38;5;28;01mas\u001b[39;00m e:\n\u001b[1;32m    257\u001b[0m     run_manager\u001b[38;5;241m.\u001b[39mon_chain_error(e)\n",
      "File \u001b[0;32m/opt/conda/lib/python3.8/site-packages/langchain/agents/agent.py:1029\u001b[0m, in \u001b[0;36mAgentExecutor._call\u001b[0;34m(self, inputs, run_manager)\u001b[0m\n\u001b[1;32m   1027\u001b[0m \u001b[38;5;66;03m# We now enter the agent loop (until it returns something).\u001b[39;00m\n\u001b[1;32m   1028\u001b[0m \u001b[38;5;28;01mwhile\u001b[39;00m \u001b[38;5;28mself\u001b[39m\u001b[38;5;241m.\u001b[39m_should_continue(iterations, time_elapsed):\n\u001b[0;32m-> 1029\u001b[0m     next_step_output \u001b[38;5;241m=\u001b[39m \u001b[38;5;28;43mself\u001b[39;49m\u001b[38;5;241;43m.\u001b[39;49m\u001b[43m_take_next_step\u001b[49m\u001b[43m(\u001b[49m\n\u001b[1;32m   1030\u001b[0m \u001b[43m        \u001b[49m\u001b[43mname_to_tool_map\u001b[49m\u001b[43m,\u001b[49m\n\u001b[1;32m   1031\u001b[0m \u001b[43m        \u001b[49m\u001b[43mcolor_mapping\u001b[49m\u001b[43m,\u001b[49m\n\u001b[1;32m   1032\u001b[0m \u001b[43m        \u001b[49m\u001b[43minputs\u001b[49m\u001b[43m,\u001b[49m\n\u001b[1;32m   1033\u001b[0m \u001b[43m        \u001b[49m\u001b[43mintermediate_steps\u001b[49m\u001b[43m,\u001b[49m\n\u001b[1;32m   1034\u001b[0m \u001b[43m        \u001b[49m\u001b[43mrun_manager\u001b[49m\u001b[38;5;241;43m=\u001b[39;49m\u001b[43mrun_manager\u001b[49m\u001b[43m,\u001b[49m\n\u001b[1;32m   1035\u001b[0m \u001b[43m    \u001b[49m\u001b[43m)\u001b[49m\n\u001b[1;32m   1036\u001b[0m     \u001b[38;5;28;01mif\u001b[39;00m \u001b[38;5;28misinstance\u001b[39m(next_step_output, AgentFinish):\n\u001b[1;32m   1037\u001b[0m         \u001b[38;5;28;01mreturn\u001b[39;00m \u001b[38;5;28mself\u001b[39m\u001b[38;5;241m.\u001b[39m_return(\n\u001b[1;32m   1038\u001b[0m             next_step_output, intermediate_steps, run_manager\u001b[38;5;241m=\u001b[39mrun_manager\n\u001b[1;32m   1039\u001b[0m         )\n",
      "File \u001b[0;32m/opt/conda/lib/python3.8/site-packages/langchain/agents/agent.py:832\u001b[0m, in \u001b[0;36mAgentExecutor._take_next_step\u001b[0;34m(self, name_to_tool_map, color_mapping, inputs, intermediate_steps, run_manager)\u001b[0m\n\u001b[1;32m    829\u001b[0m     intermediate_steps \u001b[38;5;241m=\u001b[39m \u001b[38;5;28mself\u001b[39m\u001b[38;5;241m.\u001b[39m_prepare_intermediate_steps(intermediate_steps)\n\u001b[1;32m    831\u001b[0m     \u001b[38;5;66;03m# Call the LLM to see what to do.\u001b[39;00m\n\u001b[0;32m--> 832\u001b[0m     output \u001b[38;5;241m=\u001b[39m \u001b[38;5;28;43mself\u001b[39;49m\u001b[38;5;241;43m.\u001b[39;49m\u001b[43magent\u001b[49m\u001b[38;5;241;43m.\u001b[39;49m\u001b[43mplan\u001b[49m\u001b[43m(\u001b[49m\n\u001b[1;32m    833\u001b[0m \u001b[43m        \u001b[49m\u001b[43mintermediate_steps\u001b[49m\u001b[43m,\u001b[49m\n\u001b[1;32m    834\u001b[0m \u001b[43m        \u001b[49m\u001b[43mcallbacks\u001b[49m\u001b[38;5;241;43m=\u001b[39;49m\u001b[43mrun_manager\u001b[49m\u001b[38;5;241;43m.\u001b[39;49m\u001b[43mget_child\u001b[49m\u001b[43m(\u001b[49m\u001b[43m)\u001b[49m\u001b[43m \u001b[49m\u001b[38;5;28;43;01mif\u001b[39;49;00m\u001b[43m \u001b[49m\u001b[43mrun_manager\u001b[49m\u001b[43m \u001b[49m\u001b[38;5;28;43;01melse\u001b[39;49;00m\u001b[43m \u001b[49m\u001b[38;5;28;43;01mNone\u001b[39;49;00m\u001b[43m,\u001b[49m\n\u001b[1;32m    835\u001b[0m \u001b[43m        \u001b[49m\u001b[38;5;241;43m*\u001b[39;49m\u001b[38;5;241;43m*\u001b[39;49m\u001b[43minputs\u001b[49m\u001b[43m,\u001b[49m\n\u001b[1;32m    836\u001b[0m \u001b[43m    \u001b[49m\u001b[43m)\u001b[49m\n\u001b[1;32m    837\u001b[0m \u001b[38;5;28;01mexcept\u001b[39;00m OutputParserException \u001b[38;5;28;01mas\u001b[39;00m e:\n\u001b[1;32m    838\u001b[0m     \u001b[38;5;28;01mif\u001b[39;00m \u001b[38;5;28misinstance\u001b[39m(\u001b[38;5;28mself\u001b[39m\u001b[38;5;241m.\u001b[39mhandle_parsing_errors, \u001b[38;5;28mbool\u001b[39m):\n",
      "File \u001b[0;32m/opt/conda/lib/python3.8/site-packages/langchain/agents/agent.py:358\u001b[0m, in \u001b[0;36mLLMSingleActionAgent.plan\u001b[0;34m(self, intermediate_steps, callbacks, **kwargs)\u001b[0m\n\u001b[1;32m    341\u001b[0m \u001b[38;5;124;03m\"\"\"Given input, decided what to do.\u001b[39;00m\n\u001b[1;32m    342\u001b[0m \n\u001b[1;32m    343\u001b[0m \u001b[38;5;124;03mArgs:\u001b[39;00m\n\u001b[0;32m   (...)\u001b[0m\n\u001b[1;32m    350\u001b[0m \u001b[38;5;124;03m    Action specifying what tool to use.\u001b[39;00m\n\u001b[1;32m    351\u001b[0m \u001b[38;5;124;03m\"\"\"\u001b[39;00m\n\u001b[1;32m    352\u001b[0m output \u001b[38;5;241m=\u001b[39m \u001b[38;5;28mself\u001b[39m\u001b[38;5;241m.\u001b[39mllm_chain\u001b[38;5;241m.\u001b[39mrun(\n\u001b[1;32m    353\u001b[0m     intermediate_steps\u001b[38;5;241m=\u001b[39mintermediate_steps,\n\u001b[1;32m    354\u001b[0m     stop\u001b[38;5;241m=\u001b[39m\u001b[38;5;28mself\u001b[39m\u001b[38;5;241m.\u001b[39mstop,\n\u001b[1;32m    355\u001b[0m     callbacks\u001b[38;5;241m=\u001b[39mcallbacks,\n\u001b[1;32m    356\u001b[0m     \u001b[38;5;241m*\u001b[39m\u001b[38;5;241m*\u001b[39mkwargs,\n\u001b[1;32m    357\u001b[0m )\n\u001b[0;32m--> 358\u001b[0m \u001b[38;5;28;01mreturn\u001b[39;00m \u001b[38;5;28;43mself\u001b[39;49m\u001b[38;5;241;43m.\u001b[39;49m\u001b[43moutput_parser\u001b[49m\u001b[38;5;241;43m.\u001b[39;49m\u001b[43mparse\u001b[49m\u001b[43m(\u001b[49m\u001b[43moutput\u001b[49m\u001b[43m)\u001b[49m\n",
      "Cell \u001b[0;32mIn[336], line 16\u001b[0m, in \u001b[0;36mCustomOutputParser.parse\u001b[0;34m(self, text)\u001b[0m\n\u001b[1;32m     13\u001b[0m \u001b[38;5;28;01mif\u001b[39;00m \u001b[38;5;129;01mnot\u001b[39;00m match:\n\u001b[1;32m     15\u001b[0m     \u001b[38;5;28mprint\u001b[39m(\u001b[38;5;124m\"\u001b[39m\u001b[38;5;124mtext :\u001b[39m\u001b[38;5;124m\"\u001b[39m,text)\n\u001b[0;32m---> 16\u001b[0m     \u001b[38;5;28;01mraise\u001b[39;00m \u001b[43mOutputParserException\u001b[49m(\u001b[38;5;124mf\u001b[39m\u001b[38;5;124m\"\u001b[39m\u001b[38;5;124mCould not parse LLM output: `\u001b[39m\u001b[38;5;132;01m{\u001b[39;00mtext\u001b[38;5;132;01m}\u001b[39;00m\u001b[38;5;124m`\u001b[39m\u001b[38;5;124m\"\u001b[39m)\n\u001b[1;32m     17\u001b[0m action \u001b[38;5;241m=\u001b[39m match\u001b[38;5;241m.\u001b[39mgroup(\u001b[38;5;241m1\u001b[39m)\n\u001b[1;32m     18\u001b[0m action_input \u001b[38;5;241m=\u001b[39m match\u001b[38;5;241m.\u001b[39mgroup(\u001b[38;5;241m2\u001b[39m)\n",
      "\u001b[0;31mNameError\u001b[0m: name 'OutputParserException' is not defined"
     ]
    }
   ],
   "source": [
    "agent_executor.run(\"who is Michael Gorzynski?\")"
   ]
  },
  {
   "cell_type": "code",
   "execution_count": 487,
   "metadata": {
    "tags": []
   },
   "outputs": [
    {
     "name": "stdout",
     "output_type": "stream",
     "text": [
      "\n",
      "\n",
      "\u001b[1m> Entering new AgentExecutor chain...\u001b[0m\n",
      "\u001b[32;1m\u001b[1;3m Sure, I'd be happy to help!\n",
      "\n",
      "Thought: Do I need to use a tool? YES\n",
      "\n",
      "Action: Search\n",
      "\n",
      "Action Input: retouch of images photo session contract\n",
      "\u001b[0m\n",
      "\n",
      "Observation:\u001b[36;1m\u001b[1;3m[Title: AMBASSADOREYEWEARGROUPINC_11_17_1997-EX-10.28-ENDORSEMENT AGREEMENT, URI: https://s3.us-east-1.amazonaws.com/qna-llm-data/legal/Endorsement Agreement/AMBASSADOREYEWEARGROUPINC_11_17_1997-EX-10.28-ENDORSEMENT AGREEMENT.PDF, Passage content: The photo sessions shall be scheduled at KI's convenience upon not less than two (2) weeks prior notice, and shall be subject to KI's preexisting personal and professional commitments. The photo sessions shall be up to two (2) consecutive days in duration, each day to consist of no more than eight (8) working hours. The photo shoots shall be produced by SW, approved in writing by Diplomat (which approval shall not be unreasonably withheld), and all images produced from the photo sessions shall be the property of SW. The parties agree that all images from the photo sessions shall be retouched at the expense of Diplomat. In recognition of SW's expenses in connection with the above photo sessions, Diplomat shall pay SW the sum of $       per day for each day (or partial day) of such photo sessions. It is understood by the parties that such sum shall include all expenses required to provide Diplomat with positive film (excluding travel expenses of KI, as set forth in this Agreement), and that such sum contemplates a typical location for such photo sessions. If a more elaborate set-up for such photo sessions is required, and such set-up is mutually agreed to by the parties, then the above sum shall be increased to such amount as the parties shall agree. The above sum shall not include retouching images.] [Title: AMBASSADOREYEWEARGROUPINC_11_17_1997-EX-10.28-ENDORSEMENT AGREEMENT, URI: https://s3.us-east-1.amazonaws.com/anycorp-legaldata/Data/Endorsement/AMBASSADOREYEWEARGROUPINC_11_17_1997-EX-10.28-ENDORSEMENT AGREEMENT.PDF, Passage content: The photo sessions shall be scheduled at KI's convenience upon not less than two (2) weeks prior notice, and shall be subject to KI's preexisting personal and professional commitments. The photo sessions shall be up to two (2) consecutive days in duration, each day to consist of no more than eight (8) working hours. The photo shoots shall be produced by SW, approved in writing by Diplomat (which approval shall not be unreasonably withheld), and all images produced from the photo sessions shall be the property of SW. The parties agree that all images from the photo sessions shall be retouched at the expense of Diplomat. In recognition of SW's expenses in connection with the above photo sessions, Diplomat shall pay SW the sum of $       per day for each day (or partial day) of such photo sessions. It is understood by the parties that such sum shall include all expenses required to provide Diplomat with positive film (excluding travel expenses of KI, as set forth in this Agreement), and that such sum contemplates a typical location for such photo sessions. If a more elaborate set-up for such photo sessions is required, and such set-up is mutually agreed to by the parties, then the above sum shall be increased to such amount as the parties shall agree. The above sum shall not include retouching images.] [Title: AMBASSADOREYEWEARGROUPINC_11_17_1997-EX-10.28-ENDORSEMENT AGREEMENT, URI: https://s3.us-east-1.amazonaws.com/qna-llm-data/legal/Endorsement/AMBASSADOREYEWEARGROUPINC_11_17_1997-EX-10.28-ENDORSEMENT AGREEMENT.PDF, Passage content: The photo sessions shall be scheduled at KI's convenience upon not less than two (2) weeks prior notice, and shall be subject to KI's preexisting personal and professional commitments. The photo sessions shall be up to two (2) consecutive days in duration, each day to consist of no more than eight (8) working hours. The photo shoots shall be produced by SW, approved in writing by Diplomat (which approval shall not be unreasonably withheld), and all images produced from the photo sessions shall be the property of SW. The parties agree that all images from the photo sessions shall be retouched at the expense of Diplomat. In recognition of SW's expenses in connection with the above photo sessions, Diplomat shall pay SW the sum of $       per day for each day (or partial day) of such photo sessions. It is understood by the parties that such sum shall include all expenses required to provide Diplomat with positive film (excluding travel expenses of KI, as set forth in this Agreement), and that such sum contemplates a typical location for such photo sessions. If a more elaborate set-up for such photo sessions is required, and such set-up is mutually agreed to by the parties, then the above sum shall be increased to such amount as the parties shall agree. The above sum shall not include retouching images.] [Title: AMBASSADOREYEWEARGROUPINC_11_17_1997-EX-10.28-ENDORSEMENT AGREEMENT, URI: https://s3.us-east-1.amazonaws.com/anycorp-legaldata/Data/Endorsement Agreement/AMBASSADOREYEWEARGROUPINC_11_17_1997-EX-10.28-ENDORSEMENT AGREEMENT.PDF, Passage content: The photo sessions shall be scheduled at KI's convenience upon not less than two (2) weeks prior notice, and shall be subject to KI's preexisting personal and professional commitments. The photo sessions shall be up to two (2) consecutive days in duration, each day to consist of no more than eight (8) working hours. The photo shoots shall be produced by SW, approved in writing by Diplomat (which approval shall not be unreasonably withheld), and all images produced from the photo sessions shall be the property of SW. The parties agree that all images from the photo sessions shall be retouched at the expense of Diplomat. In recognition of SW's expenses in connection with the above photo sessions, Diplomat shall pay SW the sum of $       per day for each day (or partial day) of such photo sessions. It is understood by the parties that such sum shall include all expenses required to provide Diplomat with positive film (excluding travel expenses of KI, as set forth in this Agreement), and that such sum contemplates a typical location for such photo sessions. If a more elaborate set-up for such photo sessions is required, and such set-up is mutually agreed to by the parties, then the above sum shall be increased to such amount as the parties shall agree. The above sum shall not include retouching images.] \u001b[0m\n",
      "\u001b[32;1m\u001b[1;3m Sure, I'd be happy to help!\n",
      "\n",
      "Action: Search\n",
      "\n",
      "Action Input: retouch of images photo session contract\n",
      "\u001b[0m\n",
      "\n",
      "Observation:\u001b[36;1m\u001b[1;3m[Title: AMBASSADOREYEWEARGROUPINC_11_17_1997-EX-10.28-ENDORSEMENT AGREEMENT, URI: https://s3.us-east-1.amazonaws.com/qna-llm-data/legal/Endorsement Agreement/AMBASSADOREYEWEARGROUPINC_11_17_1997-EX-10.28-ENDORSEMENT AGREEMENT.PDF, Passage content: The photo sessions shall be scheduled at KI's convenience upon not less than two (2) weeks prior notice, and shall be subject to KI's preexisting personal and professional commitments. The photo sessions shall be up to two (2) consecutive days in duration, each day to consist of no more than eight (8) working hours. The photo shoots shall be produced by SW, approved in writing by Diplomat (which approval shall not be unreasonably withheld), and all images produced from the photo sessions shall be the property of SW. The parties agree that all images from the photo sessions shall be retouched at the expense of Diplomat. In recognition of SW's expenses in connection with the above photo sessions, Diplomat shall pay SW the sum of $       per day for each day (or partial day) of such photo sessions. It is understood by the parties that such sum shall include all expenses required to provide Diplomat with positive film (excluding travel expenses of KI, as set forth in this Agreement), and that such sum contemplates a typical location for such photo sessions. If a more elaborate set-up for such photo sessions is required, and such set-up is mutually agreed to by the parties, then the above sum shall be increased to such amount as the parties shall agree. The above sum shall not include retouching images.] [Title: AMBASSADOREYEWEARGROUPINC_11_17_1997-EX-10.28-ENDORSEMENT AGREEMENT, URI: https://s3.us-east-1.amazonaws.com/anycorp-legaldata/Data/Endorsement/AMBASSADOREYEWEARGROUPINC_11_17_1997-EX-10.28-ENDORSEMENT AGREEMENT.PDF, Passage content: The photo sessions shall be scheduled at KI's convenience upon not less than two (2) weeks prior notice, and shall be subject to KI's preexisting personal and professional commitments. The photo sessions shall be up to two (2) consecutive days in duration, each day to consist of no more than eight (8) working hours. The photo shoots shall be produced by SW, approved in writing by Diplomat (which approval shall not be unreasonably withheld), and all images produced from the photo sessions shall be the property of SW. The parties agree that all images from the photo sessions shall be retouched at the expense of Diplomat. In recognition of SW's expenses in connection with the above photo sessions, Diplomat shall pay SW the sum of $       per day for each day (or partial day) of such photo sessions. It is understood by the parties that such sum shall include all expenses required to provide Diplomat with positive film (excluding travel expenses of KI, as set forth in this Agreement), and that such sum contemplates a typical location for such photo sessions. If a more elaborate set-up for such photo sessions is required, and such set-up is mutually agreed to by the parties, then the above sum shall be increased to such amount as the parties shall agree. The above sum shall not include retouching images.] [Title: AMBASSADOREYEWEARGROUPINC_11_17_1997-EX-10.28-ENDORSEMENT AGREEMENT, URI: https://s3.us-east-1.amazonaws.com/qna-llm-data/legal/Endorsement/AMBASSADOREYEWEARGROUPINC_11_17_1997-EX-10.28-ENDORSEMENT AGREEMENT.PDF, Passage content: The photo sessions shall be scheduled at KI's convenience upon not less than two (2) weeks prior notice, and shall be subject to KI's preexisting personal and professional commitments. The photo sessions shall be up to two (2) consecutive days in duration, each day to consist of no more than eight (8) working hours. The photo shoots shall be produced by SW, approved in writing by Diplomat (which approval shall not be unreasonably withheld), and all images produced from the photo sessions shall be the property of SW. The parties agree that all images from the photo sessions shall be retouched at the expense of Diplomat. In recognition of SW's expenses in connection with the above photo sessions, Diplomat shall pay SW the sum of $       per day for each day (or partial day) of such photo sessions. It is understood by the parties that such sum shall include all expenses required to provide Diplomat with positive film (excluding travel expenses of KI, as set forth in this Agreement), and that such sum contemplates a typical location for such photo sessions. If a more elaborate set-up for such photo sessions is required, and such set-up is mutually agreed to by the parties, then the above sum shall be increased to such amount as the parties shall agree. The above sum shall not include retouching images.] [Title: AMBASSADOREYEWEARGROUPINC_11_17_1997-EX-10.28-ENDORSEMENT AGREEMENT, URI: https://s3.us-east-1.amazonaws.com/anycorp-legaldata/Data/Endorsement Agreement/AMBASSADOREYEWEARGROUPINC_11_17_1997-EX-10.28-ENDORSEMENT AGREEMENT.PDF, Passage content: The photo sessions shall be scheduled at KI's convenience upon not less than two (2) weeks prior notice, and shall be subject to KI's preexisting personal and professional commitments. The photo sessions shall be up to two (2) consecutive days in duration, each day to consist of no more than eight (8) working hours. The photo shoots shall be produced by SW, approved in writing by Diplomat (which approval shall not be unreasonably withheld), and all images produced from the photo sessions shall be the property of SW. The parties agree that all images from the photo sessions shall be retouched at the expense of Diplomat. In recognition of SW's expenses in connection with the above photo sessions, Diplomat shall pay SW the sum of $       per day for each day (or partial day) of such photo sessions. It is understood by the parties that such sum shall include all expenses required to provide Diplomat with positive film (excluding travel expenses of KI, as set forth in this Agreement), and that such sum contemplates a typical location for such photo sessions. If a more elaborate set-up for such photo sessions is required, and such set-up is mutually agreed to by the parties, then the above sum shall be increased to such amount as the parties shall agree. The above sum shall not include retouching images.] \u001b[0m\n",
      "\u001b[32;1m\u001b[1;3m AI: Based on the search results, it appears that the retouching of images is the responsibility of Diplomat, and it is included in the sum paid to SW\u001b[0m\n",
      "\n",
      "\u001b[1m> Finished chain.\u001b[0m\n"
     ]
    },
    {
     "data": {
      "text/plain": [
       "'Based on the search results, it appears that the retouching of images is the responsibility of Diplomat, and it is included in the sum paid to SW'"
      ]
     },
     "execution_count": 487,
     "metadata": {},
     "output_type": "execute_result"
    }
   ],
   "source": [
    "agent_executor.run(\"who pays for the retouch of images of photo session according to contract?\")"
   ]
  },
  {
   "cell_type": "code",
   "execution_count": 490,
   "metadata": {
    "tags": []
   },
   "outputs": [
    {
     "name": "stdout",
     "output_type": "stream",
     "text": [
      "\n",
      "\n",
      "\u001b[1m> Entering new AgentExecutor chain...\u001b[0m\n",
      "\u001b[32;1m\u001b[1;3m Sure, I'll do my best to assist you with your questions!\n",
      "\n",
      "Thought: Do I need to use a tool? YES\n",
      "\n",
      "Action: Search\n",
      "\n",
      "Action Input: when will Talent be able to terminate agreement with ESSI?\n",
      "\u001b[0m\n",
      "\n",
      "Observation:\u001b[36;1m\u001b[1;3m[Title: EcoScienceSolutionsInc_20171117_8-K_EX-10.1_10956472_EX-10.1_Endorsement Agreement, URI: https://s3.us-east-1.amazonaws.com/anycorp-legaldata/Data/Endorsement/EcoScienceSolutionsInc_20171117_8-K_EX-10.1_10956472_EX-10.1_Endorsement Agreement.pdf, Passage content: Such termination shall relieve ESSI of its obligation to provide any further consideration pursuant to this Agreement. B. Talent shall have the right to terminate this Agreement upon ten (10) days prior written notice to ESSI in the event of the occurrence of any of the following: (1) ESSI adjudicates as insolvent or declares bankruptcy; or (2) ESSI fails to provide consideration due pursuant to this Agreement, within ten (10) days following the date such consideration is due hereunder, provided that ESSI is notified in writing of such non-payment by Talent and such payment by ESSI is not made within three (3) days following such notification; or (3) Talent shall have the right to terminate this Agreement upon ten (10) days prior written notice to ESSI in the event of the non-payment by Talent and such payment by ESSI is not made within three (3) days following such notification; or (3) ESSI breaches any representation, warranty, covenant or agreement set forth herein and fails to cure same (if curable) within seven (7) days of receipt of written notice. Furthermore, ESSI agrees that such termination shall not relieve it of its obligation to provide consideration as contemplated hereunder. ESSI breaches any Talent shall not have waived any of its rights at law or in equity by exercising any provision of this paragraph. C. ESSI's rights to the use of Talent and Talent's Attributes as set forth in Paragraphs 3 and 4 shall end immediately should this Agreement be terminated pursuant to Paragraph 10(A) or Paragraph 10(B) above.] [Title: EcoScienceSolutionsInc_20171117_8-K_EX-10.1_10956472_EX-10.1_Endorsement Agreement, URI: https://s3.us-east-1.amazonaws.com/qna-llm-data/legal/Endorsement/EcoScienceSolutionsInc_20171117_8-K_EX-10.1_10956472_EX-10.1_Endorsement Agreement.pdf, Passage content: Such termination shall relieve ESSI of its obligation to provide any further consideration pursuant to this Agreement. B. Talent shall have the right to terminate this Agreement upon ten (10) days prior written notice to ESSI in the event of the occurrence of any of the following: (1) ESSI adjudicates as insolvent or declares bankruptcy; or (2) ESSI fails to provide consideration due pursuant to this Agreement, within ten (10) days following the date such consideration is due hereunder, provided that ESSI is notified in writing of such non-payment by Talent and such payment by ESSI is not made within three (3) days following such notification; or (3) Talent shall have the right to terminate this Agreement upon ten (10) days prior written notice to ESSI in the event of the non-payment by Talent and such payment by ESSI is not made within three (3) days following such notification; or (3) ESSI breaches any representation, warranty, covenant or agreement set forth herein and fails to cure same (if curable) within seven (7) days of receipt of written notice. Furthermore, ESSI agrees that such termination shall not relieve it of its obligation to provide consideration as contemplated hereunder. ESSI breaches any Talent shall not have waived any of its rights at law or in equity by exercising any provision of this paragraph. C. ESSI's rights to the use of Talent and Talent's Attributes as set forth in Paragraphs 3 and 4 shall end immediately should this Agreement be terminated pursuant to Paragraph 10(A) or Paragraph 10(B) above.] [Title: EcoScienceSolutionsInc_20171117_8-K_EX-10.1_10956472_EX-10.1_Endorsement Agreement, URI: https://s3.us-east-1.amazonaws.com/qna-llm-data/legal/Endorsement/EcoScienceSolutionsInc_20171117_8-K_EX-10.1_10956472_EX-10.1_Endorsement Agreement.pdf, Passage content: In the event Talent does publish any such press release, this Agreement shall be null and void and any outstanding balance owed to Talent shall be voided and the 1,000,000 Shares of ESSI common stock issued to Talent returned to the Company. 10. Termination for Cause A. ESSI shall have the right to terminate this Agreement upon ten (10) days prior written notice to Talent in the event Talent fails to perform the duties set forth in Paragraph 4 hereof or breaches any other covenant or agreement set forth herein and fails to cure same (if curable) within seven (7) days of receipt of written notice. Such termination shall relieve ESSI of its obligation to provide any further consideration pursuant to this Agreement. B. B. Talent shall have the right to terminate this Agreement upon ten (10) days prior written notice to ESSI in the event of the occurrence of any of the following: (1) ESSI adjudicates as insolvent or declares bankruptcy; or (2) ESSI fails to provide consideration due pursuant to this Agreement, within ten (10) days following the date such consideration is due hereunder, provided that ESSI is notified in writing of such non-payment by Talent and such payment by ESSI is not made within three (3) days following such notification; or (3)] [Title: EcoScienceSolutionsInc_20171117_8-K_EX-10.1_10956472_EX-10.1_Endorsement Agreement, URI: https://s3.us-east-1.amazonaws.com/anycorp-legaldata/Data/Endorsement/EcoScienceSolutionsInc_20171117_8-K_EX-10.1_10956472_EX-10.1_Endorsement Agreement.pdf, Passage content: In the event Talent does publish any such press release, this Agreement shall be null and void and any outstanding balance owed to Talent shall be voided and the 1,000,000 Shares of ESSI common stock issued to Talent returned to the Company. 10. Termination for Cause A. ESSI shall have the right to terminate this Agreement upon ten (10) days prior written notice to Talent in the event Talent fails to perform the duties set forth in Paragraph 4 hereof or breaches any other covenant or agreement set forth herein and fails to cure same (if curable) within seven (7) days of receipt of written notice. Such termination shall relieve ESSI of its obligation to provide any further consideration pursuant to this Agreement. B. B. Talent shall have the right to terminate this Agreement upon ten (10) days prior written notice to ESSI in the event of the occurrence of any of the following: (1) ESSI adjudicates as insolvent or declares bankruptcy; or (2) ESSI fails to provide consideration due pursuant to this Agreement, within ten (10) days following the date such consideration is due hereunder, provided that ESSI is notified in writing of such non-payment by Talent and such payment by ESSI is not made within three (3) days following such notification; or (3)] \u001b[0m\n",
      "\u001b[32;1m\u001b[1;3m AI: I understand that you would like me to assist you with answering a question regarding the termination of an agreement. Please provide the actual agreement document or the relevant passage content, and I will be happy to help you with your question.\u001b[0m\n",
      "\n",
      "\u001b[1m> Finished chain.\u001b[0m\n"
     ]
    },
    {
     "data": {
      "text/plain": [
       "'I understand that you would like me to assist you with answering a question regarding the termination of an agreement. Please provide the actual agreement document or the relevant passage content, and I will be happy to help you with your question.'"
      ]
     },
     "execution_count": 490,
     "metadata": {},
     "output_type": "execute_result"
    }
   ],
   "source": [
    "agent_executor.run(\"when will Talent be able to terminate agreement with ESSI? explain\")"
   ]
  },
  {
   "cell_type": "code",
   "execution_count": 555,
   "metadata": {},
   "outputs": [
    {
     "name": "stdout",
     "output_type": "stream",
     "text": [
      "\n",
      "\n",
      "\u001b[1m> Entering new AgentExecutor chain...\u001b[0m\n",
      "\u001b[32;1m\u001b[1;3m Thought: Do I need to use a tool? YES\n",
      "Action: Search\n",
      "Action Input: employee holidays\u001b[0m\n",
      "\n",
      "Observation:\u001b[36;1m\u001b[1;3m[Title: THERAVANCEBIOPHARMA,INC_05_08_2020-EX-10.2-SERVICE AGREEMENT, URI: https://s3.us-east-1.amazonaws.com/anycorp-legaldata/Data/Service/THERAVANCEBIOPHARMA,INC_05_08_2020-EX-10.2-SERVICE AGREEMENT.PDF, Passage content: The Executive’s participation in any such benefit plans are subject to the terms and conditions of any such plan. The Company reserves the right to discontinue, vary or amend each benefit plan (including the level of cover) at any time on reasonable notice to the Executive. 12. Holidays 12.1 The Executive shall be entitled to 28 days' paid holiday in each holiday year (which includes public holidays) to be taken at times convenient to the Company and authorised in advance. 12.2 The Company's holiday year runs from 1 January to 31 December. If the Executive’s employment commences or terminates part way through a holiday year, the Executive's entitlement during that holiday year shall be calculated on a pro rata basis rounded up to the nearest whole day. 12.3 The Executive shall have no entitlement to any payment in lieu of accrued but untaken holiday except on Termination. The amount of such payment in lieu shall be 1/260  of the Executive's salary for each untaken day of entitlement. 12.4 If on Termination the Executive has taken in excess of their accrued holiday entitlement, the Company shall be entitled to recover from the Executive by way of deduction from any payments due to] [Title: THERAVANCEBIOPHARMA,INC_05_08_2020-EX-10.2-SERVICE AGREEMENT, URI: https://s3.us-east-1.amazonaws.com/qna-llm-data/legal/Service/THERAVANCEBIOPHARMA,INC_05_08_2020-EX-10.2-SERVICE AGREEMENT.PDF, Passage content: The Executive’s participation in any such benefit plans are subject to the terms and conditions of any such plan. The Company reserves the right to discontinue, vary or amend each benefit plan (including the level of cover) at any time on reasonable notice to the Executive. 12. Holidays 12.1 The Executive shall be entitled to 28 days' paid holiday in each holiday year (which includes public holidays) to be taken at times convenient to the Company and authorised in advance. 12.2 The Company's holiday year runs from 1 January to 31 December. If the Executive’s employment commences or terminates part way through a holiday year, the Executive's entitlement during that holiday year shall be calculated on a pro rata basis rounded up to the nearest whole day. 12.3 The Executive shall have no entitlement to any payment in lieu of accrued but untaken holiday except on Termination. The amount of such payment in lieu shall be 1/260  of the Executive's salary for each untaken day of entitlement. 12.4 If on Termination the Executive has taken in excess of their accrued holiday entitlement, the Company shall be entitled to recover from the Executive by way of deduction from any payments due to] [Title: WPPPLC_04_30_2020-EX-4.28-SERVICE AGREEMENT, URI: https://s3.us-east-1.amazonaws.com/anycorp-legaldata/Data/Service/WPPPLC_04_30_2020-EX-4.28-SERVICE AGREEMENT.PDF, Passage content: ’s duties and to exercise his powers until the Executive is able to resume his duties, following which such substitute will cease to act in the Executive’s role. 10.4 The Company reserves the right to terminate the Appointment under the terms of this Agreement even when this would or might cause the Executive to forfeit any entitlement to sick pay or Group income protection benefit. 11. HOLIDAYS 11.1 The Company’s holiday year runs from 1 January to 31 December (the Holiday Year). The Executive is entitled to 25 days’ paid holiday in addition to the usual public or bank holidays in England) in every Holiday Year, to be taken at times convenient to the Company. 11.2 No accrued but untaken holiday may be carried forward to the next holiday year and will lapse unless the Executive has been prevented from taking holiday due to sickness or statutory family leave to which he is or may be entitled further to Company policy from time to time. 11.3 The Company reserves the right to require the Executive to take any outstanding holiday during any period of notice of termination of employment or to make a payment in lieu of holiday outstanding at the Termination Date. If, at the Termination Date, the Executive has taken more holiday than he has accrued, the Executive hereby expressly consents to the Company deducting an appropriate amount from any payments otherwise due him.] [Title: WPPPLC_04_30_2020-EX-4.28-SERVICE AGREEMENT, URI: https://s3.us-east-1.amazonaws.com/qna-llm-data/legal/Service/WPPPLC_04_30_2020-EX-4.28-SERVICE AGREEMENT.PDF, Passage content: ’s duties and to exercise his powers until the Executive is able to resume his duties, following which such substitute will cease to act in the Executive’s role. 10.4 The Company reserves the right to terminate the Appointment under the terms of this Agreement even when this would or might cause the Executive to forfeit any entitlement to sick pay or Group income protection benefit. 11. HOLIDAYS 11.1 The Company’s holiday year runs from 1 January to 31 December (the Holiday Year). The Executive is entitled to 25 days’ paid holiday in addition to the usual public or bank holidays in England) in every Holiday Year, to be taken at times convenient to the Company. 11.2 No accrued but untaken holiday may be carried forward to the next holiday year and will lapse unless the Executive has been prevented from taking holiday due to sickness or statutory family leave to which he is or may be entitled further to Company policy from time to time. 11.3 The Company reserves the right to require the Executive to take any outstanding holiday during any period of notice of termination of employment or to make a payment in lieu of holiday outstanding at the Termination Date. If, at the Termination Date, the Executive has taken more holiday than he has accrued, the Executive hereby expressly consents to the Company deducting an appropriate amount from any payments otherwise due him.] \u001b[0m\n",
      "\u001b[32;1m\u001b[1;3m AI: Based on the search results, it appears that full-time employees are entitled to 28 days of paid holiday per year, which includes public holidays. The holiday year runs from January 1 to December 31, and employees are required to take their holidays at times convenient to the company and authorized in advance. If an employee's employment commences or terminates partway through a holiday year, their entitlement during that year will be calculated on a pro-rata basis rounded up to the nearest whole day.\n",
      "\n",
      "It's also worth noting that employees have no entitlement to payment in lieu of accrued but untaken holiday, except on termination of employment. In such cases, the amount of payment in lieu shall be 1/260 of the employee's salary for each untaken day of entitlement.\n",
      "\n",
      "Finally, it's important to mention that the company reserves the right to discontinue, vary, or amend each benefit plan, including holidays, at any time on reasonable notice to the employee.\u001b[0m\n",
      "\n",
      "\u001b[1m> Finished chain.\u001b[0m\n"
     ]
    },
    {
     "data": {
      "text/plain": [
       "\"Based on the search results, it appears that full-time employees are entitled to 28 days of paid holiday per year, which includes public holidays. The holiday year runs from January 1 to December 31, and employees are required to take their holidays at times convenient to the company and authorized in advance. If an employee's employment commences or terminates partway through a holiday year, their entitlement during that year will be calculated on a pro-rata basis rounded up to the nearest whole day.\\n\\nIt's also worth noting that employees have no entitlement to payment in lieu of accrued but untaken holiday, except on termination of employment. In such cases, the amount of payment in lieu shall be 1/260 of the employee's salary for each untaken day of entitlement.\\n\\nFinally, it's important to mention that the company reserves the right to discontinue, vary, or amend each benefit plan, including holidays, at any time on reasonable notice to the employee.\""
      ]
     },
     "execution_count": 555,
     "metadata": {},
     "output_type": "execute_result"
    }
   ],
   "source": [
    "agent_executor.run(\"what are the holidays for fulltime employees?\")"
   ]
  },
  {
   "cell_type": "markdown",
   "metadata": {
    "tags": []
   },
   "source": [
    "## 3. LLAMA2 figured out to use or not to use Tool(Kendra) depending on the question and it does consistently."
   ]
  },
  {
   "cell_type": "code",
   "execution_count": 346,
   "metadata": {},
   "outputs": [
    {
     "name": "stderr",
     "output_type": "stream",
     "text": [
      "Failed to load default session, using empty session: HTTPConnectionPool(host='localhost', port=8000): Max retries exceeded with url: /sessions?name=default (Caused by NewConnectionError('<urllib3.connection.HTTPConnection object at 0x7f21e9987b80>: Failed to establish a new connection: [Errno 111] Connection refused'))\n"
     ]
    },
    {
     "name": "stdout",
     "output_type": "stream",
     "text": [
      "\n",
      "\n",
      "\u001b[1m> Entering new AgentExecutor chain...\u001b[0m\n",
      "\u001b[32;1m\u001b[1;3m Thought: Do I need to use a tool? YES\n",
      "Action: Search\n",
      "Action Input: amount paid to Fruit of Life Productions LLC\u001b[0m\n",
      "\n",
      "Observation:\u001b[36;1m\u001b[1;3m[Title: EcoScienceSolutions_Sponsorship_Agreement, URI: https://s3.us-east-1.amazonaws.com/qna-llm-data/legal/Sponsorship/EcoScienceSolutions_Sponsorship_Agreement.pdf, Passage content: SPONSORSHIP AGREEMENT This agreement (the \"Agreement\") is made effective this 1st day of April, 2018 (\"Effective Date\") between Fruit of Life Productions LLC, (\"Promoter\") and Eco Science Solutions, Inc.,(\"Sponsor\"), 1135 Makawao Avenue, Suite 103-188, Makawao, Hawaii, 96768. Contribution by Sponsor: In consideration for the right to sponsor the Kaya Fest and to be acknowledged by Fruit of Life Productions LLC., as a Promoter of the event during the term of this Agreement, Sponsor agrees to contract with Fruit of Life Productions LLC., for the amount of $250,000.00 to be paid in full upon signing of this agreement. Bank Wire Transformation Information See Attached Wire Instructions Sponsorship Benefits for Presenting Partner Sponsor: * Main Stage named after your brand * 4 10x10 on site vendor booths * 50 VIP Sponsor Passes / * 50 VIP Sponsor Passes / 50 GA tickets for both days * 4 Parking passes * Opportunity to participate in after party * Banner placement in venue (10) * Approved audio/video assets to be provided as promotional use for Herbo * Name and phrase called out on stage between performers set * Your logo and a link from our website to your website * Your logo on video wall * Your company name] [Title: EcoScienceSolutions_Sponsorship_Agreement, URI: https://s3.us-east-1.amazonaws.com/anycorp-legaldata/Data/Sponsorship/EcoScienceSolutions_Sponsorship_Agreement.pdf, Passage content: SPONSORSHIP AGREEMENT This agreement (the \"Agreement\") is made effective this 1st day of April, 2018 (\"Effective Date\") between Fruit of Life Productions LLC, (\"Promoter\") and Eco Science Solutions, Inc.,(\"Sponsor\"), 1135 Makawao Avenue, Suite 103-188, Makawao, Hawaii, 96768. Contribution by Sponsor: In consideration for the right to sponsor the Kaya Fest and to be acknowledged by Fruit of Life Productions LLC., as a Promoter of the event during the term of this Agreement, Sponsor agrees to contract with Fruit of Life Productions LLC., for the amount of $250,000.00 to be paid in full upon signing of this agreement. Bank Wire Transformation Information See Attached Wire Instructions Sponsorship Benefits for Presenting Partner Sponsor: * Main Stage named after your brand * 4 10x10 on site vendor booths * 50 VIP Sponsor Passes / * 50 VIP Sponsor Passes / 50 GA tickets for both days * 4 Parking passes * Opportunity to participate in after party * Banner placement in venue (10) * Approved audio/video assets to be provided as promotional use for Herbo * Name and phrase called out on stage between performers set * Your logo and a link from our website to your website * Your logo on video wall * Your company name] [Title: EcoScienceSolutions_Sponsorship_Agreement, URI: https://s3.us-east-1.amazonaws.com/anycorp-legaldata/Data/Sponsorship/EcoScienceSolutions_Sponsorship_Agreement.pdf, Passage content: and logo as a presenting sponsor * Banner at main entrance of venue * On stage banner placement * Logo in Backstage/VIP area * Mention on social media * Logo on Step and Repeat * Logo on all promotional print Terms and Termination: The term of this agreement will begin on April 1, 2018 and continue until April 30, 2018 at 11:59pm. Relationship of Parties: The parties are independent contractors with respect to one another. Nothing in this Agreement shall create any association, joint venture, partnership or agency relationship of any kind between the parties. 1 Source: ECO SCIENCE SOLUTIONS, INC., 8-K, 4/6/2018 Intellectual Property: Fruit of Life Productions LLC is the sole owner of all right, title and interest to all Kaya Fest information including Logo, tag lines, (Education before Recreation), Trademarks, trade names and copyrighted information. Sponsor agrees that it will not use Kaya Fest property in a manner that states or implies that Kaya Fest endorses Sponsor (or Sponsors products or services) without written approval from Fruit of Life Productions LLC. Idemnification: Sponsor shall indemnify and hold harmless, Fruit of Life Productions LLC, its related entities, partners, agents, officers, directors, employees, attorneys, heirs, successors,] [Title: EcoScienceSolutions_Sponsorship_Agreement, URI: https://s3.us-east-1.amazonaws.com/qna-llm-data/legal/Sponsorship/EcoScienceSolutions_Sponsorship_Agreement.pdf, Passage content: and logo as a presenting sponsor * Banner at main entrance of venue * On stage banner placement * Logo in Backstage/VIP area * Mention on social media * Logo on Step and Repeat * Logo on all promotional print Terms and Termination: The term of this agreement will begin on April 1, 2018 and continue until April 30, 2018 at 11:59pm. Relationship of Parties: The parties are independent contractors with respect to one another. Nothing in this Agreement shall create any association, joint venture, partnership or agency relationship of any kind between the parties. 1 Source: ECO SCIENCE SOLUTIONS, INC., 8-K, 4/6/2018 Intellectual Property: Fruit of Life Productions LLC is the sole owner of all right, title and interest to all Kaya Fest information including Logo, tag lines, (Education before Recreation), Trademarks, trade names and copyrighted information. Sponsor agrees that it will not use Kaya Fest property in a manner that states or implies that Kaya Fest endorses Sponsor (or Sponsors products or services) without written approval from Fruit of Life Productions LLC. Idemnification: Sponsor shall indemnify and hold harmless, Fruit of Life Productions LLC, its related entities, partners, agents, officers, directors, employees, attorneys, heirs, successors,] \u001b[0m\n"
     ]
    },
    {
     "name": "stderr",
     "output_type": "stream",
     "text": [
      "Failed to persist run: HTTPConnectionPool(host='localhost', port=8000): Max retries exceeded with url: /chain-runs (Caused by NewConnectionError('<urllib3.connection.HTTPConnection object at 0x7f21e9959250>: Failed to establish a new connection: [Errno 111] Connection refused'))\n"
     ]
    },
    {
     "name": "stdout",
     "output_type": "stream",
     "text": [
      "\u001b[32;1m\u001b[1;3m Based on the information provided, the amount paid to Fruit of Life Productions LLC by Eco Science Solutions, Inc. is $250,000.00. This is stated in the Sponsorship Agreement between the two parties, which was signed on April 1, 2018. The agreement outlines the terms and conditions of the sponsorship, including the amount to be paid, the benefits of sponsorship, and the intellectual property rights of Fruit of Life Productions LLC.\n",
      "\n",
      "AI: The amount paid to Fruit of Life Productions LLC by Eco Science Solutions, Inc. is $250,000.00, as stated in the Sponsorship Agreement between the two parties.\u001b[0m\n",
      "\n",
      "\u001b[1m> Finished chain.\u001b[0m\n"
     ]
    },
    {
     "data": {
      "text/plain": [
       "'The amount paid to Fruit of Life Productions LLC by Eco Science Solutions, Inc. is $250,000.00, as stated in the Sponsorship Agreement between the two parties.'"
      ]
     },
     "execution_count": 346,
     "metadata": {},
     "output_type": "execute_result"
    }
   ],
   "source": [
    "agent_executor.run(\"what is the amount paid to Fruit of Life Productions LLC?\")"
   ]
  },
  {
   "cell_type": "markdown",
   "metadata": {},
   "source": [
    "."
   ]
  },
  {
   "cell_type": "markdown",
   "metadata": {},
   "source": [
    "."
   ]
  },
  {
   "cell_type": "markdown",
   "metadata": {},
   "source": [
    "."
   ]
  },
  {
   "cell_type": "markdown",
   "metadata": {
    "tags": []
   },
   "source": [
    "# Switching gears to introduce Memory to Agents.."
   ]
  },
  {
   "cell_type": "markdown",
   "metadata": {},
   "source": [
    "."
   ]
  },
  {
   "cell_type": "markdown",
   "metadata": {},
   "source": [
    "."
   ]
  },
  {
   "cell_type": "markdown",
   "metadata": {},
   "source": [
    "."
   ]
  },
  {
   "cell_type": "markdown",
   "metadata": {},
   "source": [
    "# Conversation Agent (for Chat Models) with LLAMA2"
   ]
  },
  {
   "cell_type": "code",
   "execution_count": 281,
   "metadata": {
    "tags": []
   },
   "outputs": [],
   "source": [
    "import os"
   ]
  },
  {
   "cell_type": "code",
   "execution_count": 347,
   "metadata": {
    "tags": []
   },
   "outputs": [],
   "source": [
    "from langchain.agents import Tool\n",
    "from langchain.memory import ConversationBufferWindowMemory\n",
    "from langchain.agents import initialize_agent\n",
    "#from langchain import Kendra\n",
    "from langchain.agents import initialize_agent, Tool\n",
    "from langchain.agents.react.base import DocstoreExplorer\n",
    "from langchain import SagemakerEndpoint "
   ]
  },
  {
   "cell_type": "code",
   "execution_count": 348,
   "metadata": {
    "tags": []
   },
   "outputs": [],
   "source": [
    "kendra_docstore = Kendra(kendra_index_id =\"ea70f4fe-e80b-432b-b160-8cb33205930f\",region_name='us-east-1')\n",
    "tools = [\n",
    "    Tool(\n",
    "        name=\"Search\",\n",
    "        func=kendra_docstore.search,\n",
    "        description=\"useful for when you need to answer  questions about Legal contracts,Agreements from document store\"\n",
    "    )\n",
    "]"
   ]
  },
  {
   "cell_type": "code",
   "execution_count": 349,
   "metadata": {
    "tags": []
   },
   "outputs": [],
   "source": [
    "# Set up the base template\n",
    "template = \"\"\"You are a conversational AI bot, Answer the following questions as best you can in less sentences as possible. \n",
    "You have access to the following tools:\n",
    "\n",
    "{tools}\n",
    "\n",
    "To use a tool, STRICTLY follow below format:\n",
    "\n",
    "```\n",
    "Thought: Do I need to use a tool? YES\n",
    "Action: the action to take, should be one of [{tool_names}]\n",
    "Action Input: the search key words ONLY\n",
    "Observation: the result of the search\n",
    "```\n",
    "YOU MUST USE THE BELOW FORMATE ,if you have a response to say to the user, or if you do not need to use a tool, \n",
    "YOU MUST ALWAYS USE PREFIX \"AI:\" TO RESPOND TO USER with FINAL ANSWER ,YOU MUST ALWAYS USE PREFIX \"AI:\" TO RESPOND TO USER with FINAL ANSWER,YOU MUST ALWAYS USE PREFIX \"AI:\" TO RESPOND TO USER with FINAL ANSWER\n",
    "\n",
    "```\n",
    "Thought: Do I need to use a tool? NO\n",
    "AI: [your response here]\n",
    "\n",
    "\n",
    "Example 1 Start:\n",
    "Question: What is the  population of India?\n",
    "Thought: Do I need to use a tool? YES\n",
    "Action: Search\n",
    "Action Input: population of India\n",
    "Observation:  India is in Asia.The current estimated population of India is approximately 1.38 billion. Its capital is D\n",
    "Thought: Do I need to use a tool again ? NO\n",
    "AI: The population of India is approximately 1.38 billion based on the search results\n",
    "Example 1 End\n",
    "\n",
    "Example 2 Start:\n",
    "Question: How are you?\n",
    "Thought: Do I need to use a tool? NO\n",
    "AI: I'm doing good. How are you?\n",
    "Example 2 End\n",
    "\n",
    "YOU MUST ALWAYS USE PREFIX \"AI:\" TO RESPOND TO USER with FINAL ANSWER ,YOU MUST ALWAYS USE PREFIX \"AI:\" TO RESPOND TO USER with FINAL ANSWER,YOU MUST ALWAYS USE PREFIX \"AI:\" TO RESPOND TO USER with FINAL ANSWER\n",
    "\n",
    "Begin!\n",
    "\n",
    "\n",
    "Previous conversation history:\n",
    "{history}\n",
    "\n",
    "New input: {input}\n",
    "{agent_scratchpad}\"\"\""
   ]
  },
  {
   "cell_type": "code",
   "execution_count": 350,
   "metadata": {
    "tags": []
   },
   "outputs": [
    {
     "name": "stdout",
     "output_type": "stream",
     "text": [
      "You are a conversational AI bot, Answer the following questions as best you can in less sentences as possible. \n",
      "You have access to the following tools:\n",
      "\n",
      "{tools}\n",
      "\n",
      "To use a tool, STRICTLY follow below format:\n",
      "\n",
      "```\n",
      "Thought: Do I need to use a tool? YES\n",
      "Action: the action to take, should be one of [{tool_names}]\n",
      "Action Input: the search key words ONLY\n",
      "Observation: the result of the search\n",
      "```\n",
      "YOU MUST USE THE BELOW FORMATE ,if you have a response to say to the user, or if you do not need to use a tool, \n",
      "YOU MUST ALWAYS USE PREFIX \"AI:\" TO RESPOND TO USER with FINAL ANSWER ,YOU MUST ALWAYS USE PREFIX \"AI:\" TO RESPOND TO USER with FINAL ANSWER,YOU MUST ALWAYS USE PREFIX \"AI:\" TO RESPOND TO USER with FINAL ANSWER\n",
      "\n",
      "```\n",
      "Thought: Do I need to use a tool? NO\n",
      "AI: [your response here]\n",
      "\n",
      "\n",
      "Example 1 Start:\n",
      "Question: What is the  population of India?\n",
      "Thought: Do I need to use a tool? YES\n",
      "Action: Search\n",
      "Action Input: population of India\n",
      "Observation:  India is in Asia.The current estimated population of India is approximately 1.38 billion. Its capital is D\n",
      "Thought: Do I need to use a tool again ? NO\n",
      "AI: The population of India is approximately 1.38 billion based on the search results\n",
      "Example 1 End\n",
      "\n",
      "Example 2 Start:\n",
      "Question: How are you?\n",
      "Thought: Do I need to use a tool? NO\n",
      "AI: I'm doing good. How are you?\n",
      "Example 2 End\n",
      "\n",
      "YOU MUST ALWAYS USE PREFIX \"AI:\" TO RESPOND TO USER with FINAL ANSWER ,YOU MUST ALWAYS USE PREFIX \"AI:\" TO RESPOND TO USER with FINAL ANSWER,YOU MUST ALWAYS USE PREFIX \"AI:\" TO RESPOND TO USER with FINAL ANSWER\n",
      "\n",
      "Begin!\n",
      "\n",
      "\n",
      "New input: {input}\n",
      "{agent_scratchpad}\n"
     ]
    }
   ],
   "source": [
    "print(prompt.template)"
   ]
  },
  {
   "cell_type": "code",
   "execution_count": 351,
   "metadata": {
    "tags": []
   },
   "outputs": [],
   "source": [
    "# Set up a prompt template\n",
    "class CustomPromptTemplate(StringPromptTemplate):\n",
    "    # The template to use\n",
    "    template: str\n",
    "    # The list of tools available\n",
    "    tools: List[Tool]\n",
    "    def format(self, **kwargs) -> str:\n",
    "        # Get the intermediate steps (AgentAction, Observation tuples)\n",
    "        # Format them in a particular way\n",
    "        intermediate_steps = kwargs.pop(\"intermediate_steps\")\n",
    "        thoughts = \"\"\n",
    "        for action, observation in intermediate_steps:\n",
    "            thoughts += action.log\n",
    "            thoughts += f\"\\nObservation: {observation}\\nThought: \"\n",
    "        # Set the agent_scratchpad variable to that value\n",
    "        kwargs[\"agent_scratchpad\"] = thoughts\n",
    "        # Create a tools variable from the list of tools provided\n",
    "        kwargs[\"tools\"] = \"\\n\".join([f\"{tool.name}: {tool.description}\" for tool in self.tools])\n",
    "        # Create a list of tool names for the tools provided\n",
    "        kwargs[\"tool_names\"] = \", \".join([tool.name for tool in self.tools])\n",
    "        return self.template.format(**kwargs)\n"
   ]
  },
  {
   "cell_type": "code",
   "execution_count": 352,
   "metadata": {
    "tags": []
   },
   "outputs": [],
   "source": [
    "class CustomOutputParser(AgentOutputParser):\n",
    "    \n",
    "    ai_prefix: str = \"AI\"\n",
    "\n",
    "    def parse(self, text: str) -> Union[AgentAction, AgentFinish]:\n",
    "        if f\"{self.ai_prefix}:\" in text:\n",
    "            return AgentFinish(\n",
    "                {\"output\": text.split(f\"{self.ai_prefix}:\")[-1].strip()}, text\n",
    "            )\n",
    "        regex = r\"Action: (.*?)[\\n]*Action Input: (.*)\"\n",
    "        match = re.search(regex, text)\n",
    "        if not match:\n",
    "            return AgentFinish({\"output\": text}, text)\n",
    "        action = match.group(1)\n",
    "        action_input = match.group(2)\n",
    "        return AgentAction(action.strip(), action_input.strip(\" \").strip('\"'), text)"
   ]
  },
  {
   "cell_type": "code",
   "execution_count": 353,
   "metadata": {
    "tags": []
   },
   "outputs": [],
   "source": [
    "output_parser = CustomOutputParser()"
   ]
  },
  {
   "cell_type": "code",
   "execution_count": 354,
   "metadata": {
    "tags": []
   },
   "outputs": [],
   "source": [
    "prompt = CustomPromptTemplate(\n",
    "    template=template,\n",
    "    tools=tools,\n",
    "    input_variables=[\"input\",\"intermediate_steps\",\"history\"]\n",
    ")"
   ]
  },
  {
   "cell_type": "code",
   "execution_count": 355,
   "metadata": {
    "tags": []
   },
   "outputs": [],
   "source": [
    "memory=ConversationBufferWindowMemory(k=4)"
   ]
  },
  {
   "cell_type": "code",
   "execution_count": 356,
   "metadata": {
    "tags": []
   },
   "outputs": [],
   "source": [
    "tool_names = [tool.name for tool in tools]\n",
    "llm_chain = LLMChain(llm=llm, prompt=prompt)"
   ]
  },
  {
   "cell_type": "code",
   "execution_count": 357,
   "metadata": {
    "tags": []
   },
   "outputs": [],
   "source": [
    "agent= LLMSingleActionAgent(\n",
    "    llm_chain=llm_chain,\n",
    "    output_parser=output_parser,\n",
    "    stop=[\"\\nObservation:\"], \n",
    "    allowed_tools=tool_names,\n",
    "    verbose=True,\n",
    "   \n",
    ")"
   ]
  },
  {
   "cell_type": "code",
   "execution_count": 358,
   "metadata": {
    "tags": []
   },
   "outputs": [],
   "source": [
    "agent_executor = AgentExecutor.from_agent_and_tools(agent=agent, tools=tools, verbose=True,memory=memory)"
   ]
  },
  {
   "cell_type": "code",
   "execution_count": 359,
   "metadata": {
    "tags": []
   },
   "outputs": [
    {
     "data": {
      "text/plain": [
       "[]"
      ]
     },
     "execution_count": 359,
     "metadata": {},
     "output_type": "execute_result"
    }
   ],
   "source": [
    "memory.chat_memory.messages"
   ]
  },
  {
   "cell_type": "code",
   "execution_count": 360,
   "metadata": {
    "tags": []
   },
   "outputs": [
    {
     "name": "stderr",
     "output_type": "stream",
     "text": [
      "Failed to load default session, using empty session: HTTPConnectionPool(host='localhost', port=8000): Max retries exceeded with url: /sessions?name=default (Caused by NewConnectionError('<urllib3.connection.HTTPConnection object at 0x7f21e98b6820>: Failed to establish a new connection: [Errno 111] Connection refused'))\n"
     ]
    },
    {
     "name": "stdout",
     "output_type": "stream",
     "text": [
      "\n",
      "\n",
      "\u001b[1m> Entering new AgentExecutor chain...\u001b[0m\n"
     ]
    },
    {
     "name": "stderr",
     "output_type": "stream",
     "text": [
      "Failed to persist run: HTTPConnectionPool(host='localhost', port=8000): Max retries exceeded with url: /chain-runs (Caused by NewConnectionError('<urllib3.connection.HTTPConnection object at 0x7f21e98b6f40>: Failed to establish a new connection: [Errno 111] Connection refused'))\n"
     ]
    },
    {
     "name": "stdout",
     "output_type": "stream",
     "text": [
      "\u001b[32;1m\u001b[1;3m Thought: Do I need to use a tool? NO\n",
      "AI: Hello Abhishek, it's nice to meet you. How can I assist you today?\u001b[0m\n",
      "\n",
      "\u001b[1m> Finished chain.\u001b[0m\n"
     ]
    },
    {
     "data": {
      "text/plain": [
       "\"Hello Abhishek, it's nice to meet you. How can I assist you today?\""
      ]
     },
     "execution_count": 360,
     "metadata": {},
     "output_type": "execute_result"
    }
   ],
   "source": [
    "agent_executor.run(input=\"my name is Abhishek\")"
   ]
  },
  {
   "cell_type": "markdown",
   "metadata": {},
   "source": [
    "## 4. LLAMA2 recalls from conversation history (Difficulty Level : EASY)"
   ]
  },
  {
   "cell_type": "code",
   "execution_count": 361,
   "metadata": {
    "tags": []
   },
   "outputs": [
    {
     "name": "stderr",
     "output_type": "stream",
     "text": [
      "Failed to load default session, using empty session: HTTPConnectionPool(host='localhost', port=8000): Max retries exceeded with url: /sessions?name=default (Caused by NewConnectionError('<urllib3.connection.HTTPConnection object at 0x7f21e98b6340>: Failed to establish a new connection: [Errno 111] Connection refused'))\n"
     ]
    },
    {
     "name": "stdout",
     "output_type": "stream",
     "text": [
      "\n",
      "\n",
      "\u001b[1m> Entering new AgentExecutor chain...\u001b[0m\n"
     ]
    },
    {
     "name": "stderr",
     "output_type": "stream",
     "text": [
      "Failed to persist run: HTTPConnectionPool(host='localhost', port=8000): Max retries exceeded with url: /chain-runs (Caused by NewConnectionError('<urllib3.connection.HTTPConnection object at 0x7f21e9920e80>: Failed to establish a new connection: [Errno 111] Connection refused'))\n"
     ]
    },
    {
     "name": "stdout",
     "output_type": "stream",
     "text": [
      "\u001b[32;1m\u001b[1;3m Thought: Do I need to use a tool? NO\n",
      "AI: Your name is Abhishek, based on our previous conversation. Is there anything else I can help you with?\u001b[0m\n",
      "\n",
      "\u001b[1m> Finished chain.\u001b[0m\n"
     ]
    },
    {
     "data": {
      "text/plain": [
       "'Your name is Abhishek, based on our previous conversation. Is there anything else I can help you with?'"
      ]
     },
     "execution_count": 361,
     "metadata": {},
     "output_type": "execute_result"
    }
   ],
   "source": [
    "agent_executor.run(input=\"what is my name\")"
   ]
  },
  {
   "cell_type": "code",
   "execution_count": 362,
   "metadata": {
    "tags": []
   },
   "outputs": [
    {
     "data": {
      "text/plain": [
       "[HumanMessage(content='my name is Abhishek', additional_kwargs={}, example=False),\n",
       " AIMessage(content=\"Hello Abhishek, it's nice to meet you. How can I assist you today?\", additional_kwargs={}, example=False),\n",
       " HumanMessage(content='what is my name', additional_kwargs={}, example=False),\n",
       " AIMessage(content='Your name is Abhishek, based on our previous conversation. Is there anything else I can help you with?', additional_kwargs={}, example=False)]"
      ]
     },
     "execution_count": 362,
     "metadata": {},
     "output_type": "execute_result"
    }
   ],
   "source": [
    "memory.chat_memory.messages"
   ]
  },
  {
   "cell_type": "markdown",
   "metadata": {
    "tags": []
   },
   "source": [
    "## 5. LLAMA2 picks the tool (Kendra) and rephrased the question to search tool"
   ]
  },
  {
   "cell_type": "code",
   "execution_count": 363,
   "metadata": {
    "tags": []
   },
   "outputs": [
    {
     "name": "stderr",
     "output_type": "stream",
     "text": [
      "Failed to load default session, using empty session: HTTPConnectionPool(host='localhost', port=8000): Max retries exceeded with url: /sessions?name=default (Caused by NewConnectionError('<urllib3.connection.HTTPConnection object at 0x7f21e98b1970>: Failed to establish a new connection: [Errno 111] Connection refused'))\n"
     ]
    },
    {
     "name": "stdout",
     "output_type": "stream",
     "text": [
      "\n",
      "\n",
      "\u001b[1m> Entering new AgentExecutor chain...\u001b[0m\n",
      "\u001b[32;1m\u001b[1;3m Thought: Do I need to use a tool? YES\n",
      "Action: Search\n",
      "Action Input: sponsorship agreement Kaya fest\u001b[0m\n",
      "\n",
      "Observation:\u001b[36;1m\u001b[1;3m[Title: EcoScienceSolutions_Sponsorship_Agreement, URI: https://s3.us-east-1.amazonaws.com/qna-llm-data/legal/Sponsorship/EcoScienceSolutions_Sponsorship_Agreement.pdf, Passage content: SPONSORSHIP AGREEMENT This agreement (the \"Agreement\") is made effective this 1st day of April, 2018 (\"Effective Date\") between Fruit of Life Productions LLC, (\"Promoter\") and Eco Science Solutions, Inc.,(\"Sponsor\"), 1135 Makawao Avenue, Suite 103-188, Makawao, Hawaii, 96768. Contribution by Sponsor: In consideration for the right to sponsor the Kaya Fest and to be acknowledged by Fruit of Life Productions LLC., as a Promoter of the event during the term of this Agreement, Sponsor agrees to contract with Fruit of Life Productions LLC., for the amount of $250,000.00 to be paid in full upon signing of this agreement. Bank Wire Transformation Information See Attached Wire Instructions Sponsorship Benefits for Presenting Partner Sponsor: * Main Stage named after your brand * 4 10x10 on site vendor booths * 50 VIP Sponsor Passes /] [Title: EcoScienceSolutions_Sponsorship_Agreement, URI: https://s3.us-east-1.amazonaws.com/anycorp-legaldata/Data/Sponsorship/EcoScienceSolutions_Sponsorship_Agreement.pdf, Passage content: SPONSORSHIP AGREEMENT This agreement (the \"Agreement\") is made effective this 1st day of April, 2018 (\"Effective Date\") between Fruit of Life Productions LLC, (\"Promoter\") and Eco Science Solutions, Inc.,(\"Sponsor\"), 1135 Makawao Avenue, Suite 103-188, Makawao, Hawaii, 96768. Contribution by Sponsor: In consideration for the right to sponsor the Kaya Fest and to be acknowledged by Fruit of Life Productions LLC., as a Promoter of the event during the term of this Agreement, Sponsor agrees to contract with Fruit of Life Productions LLC., for the amount of $250,000.00 to be paid in full upon signing of this agreement. Bank Wire Transformation Information See Attached Wire Instructions Sponsorship Benefits for Presenting Partner Sponsor: * Main Stage named after your brand * 4 10x10 on site vendor booths * 50 VIP Sponsor Passes /] [Title: EcoScienceSolutions_Sponsorship_Agreement, URI: https://s3.us-east-1.amazonaws.com/qna-llm-data/legal/Sponsorship/EcoScienceSolutions_Sponsorship_Agreement.pdf, Passage content: SPONSORSHIP AGREEMENT This agreement (the \"Agreement\") is made effective this 1st day of April, 2018 (\"Effective Date\") between Fruit of Life Productions LLC, (\"Promoter\") and Eco Science Solutions, Inc.,(\"Sponsor\"), 1135 Makawao Avenue, Suite 103-188, Makawao, Hawaii, 96768. Contribution by Sponsor: In consideration for the right to sponsor the Kaya Fest and to be acknowledged by Fruit of Life Productions LLC., as a Promoter of the event during the term of this Agreement, Sponsor agrees to contract with Fruit of Life Productions LLC., for the amount of $250,000.00 to be paid in full upon signing of this agreement. Bank Wire Transformation Information See Attached Wire Instructions Sponsorship Benefits for Presenting Partner Sponsor: * Main Stage named after your brand * 4 10x10 on site vendor booths * 50 VIP Sponsor Passes / * 50 VIP Sponsor Passes / 50 GA tickets for both days * 4 Parking passes * Opportunity to participate in after party * Banner placement in venue (10) * Approved audio/video assets to be provided as promotional use for Herbo * Name and phrase called out on stage between performers set * Your logo and a link from our website to your website * Your logo on video wall * Your company name] [Title: EcoScienceSolutions_Sponsorship_Agreement, URI: https://s3.us-east-1.amazonaws.com/anycorp-legaldata/Data/Sponsorship/EcoScienceSolutions_Sponsorship_Agreement.pdf, Passage content: SPONSORSHIP AGREEMENT This agreement (the \"Agreement\") is made effective this 1st day of April, 2018 (\"Effective Date\") between Fruit of Life Productions LLC, (\"Promoter\") and Eco Science Solutions, Inc.,(\"Sponsor\"), 1135 Makawao Avenue, Suite 103-188, Makawao, Hawaii, 96768. Contribution by Sponsor: In consideration for the right to sponsor the Kaya Fest and to be acknowledged by Fruit of Life Productions LLC., as a Promoter of the event during the term of this Agreement, Sponsor agrees to contract with Fruit of Life Productions LLC., for the amount of $250,000.00 to be paid in full upon signing of this agreement. Bank Wire Transformation Information See Attached Wire Instructions Sponsorship Benefits for Presenting Partner Sponsor: * Main Stage named after your brand * 4 10x10 on site vendor booths * 50 VIP Sponsor Passes / * 50 VIP Sponsor Passes / 50 GA tickets for both days * 4 Parking passes * Opportunity to participate in after party * Banner placement in venue (10) * Approved audio/video assets to be provided as promotional use for Herbo * Name and phrase called out on stage between performers set * Your logo and a link from our website to your website * Your logo on video wall * Your company name] \u001b[0m\n"
     ]
    },
    {
     "name": "stderr",
     "output_type": "stream",
     "text": [
      "Failed to persist run: HTTPConnectionPool(host='localhost', port=8000): Max retries exceeded with url: /chain-runs (Caused by NewConnectionError('<urllib3.connection.HTTPConnection object at 0x7f21e9920850>: Failed to establish a new connection: [Errno 111] Connection refused'))\n"
     ]
    },
    {
     "name": "stdout",
     "output_type": "stream",
     "text": [
      "\u001b[32;1m\u001b[1;3m Based on the search results, it appears that the sponsorship agreement related to Kaya Fest is a contract between Fruit of Life Productions LLC and Eco Science Solutions, Inc. The agreement outlines the terms and conditions of Eco Science Solutions' sponsorship of the Kaya Fest event, including the amount of $250,000.00 to be paid in full upon signing of the agreement, and various sponsorship benefits such as naming rights, vendor booths, VIP passes, and logo placement.\n",
      "\n",
      "AI: The sponsorship agreement related to Kaya Fest appears to be a contract between Fruit of Life Productions LLC and Eco Science Solutions, Inc., outlining the terms and conditions of Eco Science Solutions' sponsorship of the event. Is there anything else I can help you with?\u001b[0m\n",
      "\n",
      "\u001b[1m> Finished chain.\u001b[0m\n"
     ]
    },
    {
     "data": {
      "text/plain": [
       "\"The sponsorship agreement related to Kaya Fest appears to be a contract between Fruit of Life Productions LLC and Eco Science Solutions, Inc., outlining the terms and conditions of Eco Science Solutions' sponsorship of the event. Is there anything else I can help you with?\""
      ]
     },
     "execution_count": 363,
     "metadata": {},
     "output_type": "execute_result"
    }
   ],
   "source": [
    "agent_executor.run(input=\"What is the sponsorship agreement related to Kaya fest?\")"
   ]
  },
  {
   "cell_type": "markdown",
   "metadata": {
    "tags": []
   },
   "source": [
    "## 6. LLAMA2 recalls from conversation history (Difficulty Level : Medium)"
   ]
  },
  {
   "cell_type": "code",
   "execution_count": 364,
   "metadata": {
    "tags": []
   },
   "outputs": [
    {
     "name": "stderr",
     "output_type": "stream",
     "text": [
      "Failed to load default session, using empty session: HTTPConnectionPool(host='localhost', port=8000): Max retries exceeded with url: /sessions?name=default (Caused by NewConnectionError('<urllib3.connection.HTTPConnection object at 0x7f21e99253a0>: Failed to establish a new connection: [Errno 111] Connection refused'))\n"
     ]
    },
    {
     "name": "stdout",
     "output_type": "stream",
     "text": [
      "\n",
      "\n",
      "\u001b[1m> Entering new AgentExecutor chain...\u001b[0m\n",
      "\u001b[32;1m\u001b[1;3m Thought: Do I need to use a tool? YES\n",
      "Action: Search\n",
      "Action Input: sponsorship agreement Kaya Fest parties\u001b[0m\n",
      "\n",
      "Observation:\u001b[36;1m\u001b[1;3m[Title: EcoScienceSolutions_Sponsorship_Agreement, URI: https://s3.us-east-1.amazonaws.com/anycorp-legaldata/Data/Sponsorship/EcoScienceSolutions_Sponsorship_Agreement.pdf, Passage content: SPONSORSHIP AGREEMENT This agreement (the \"Agreement\") is made effective this 1st day of April, 2018 (\"Effective Date\") between Fruit of Life Productions LLC, (\"Promoter\") and Eco Science Solutions, Inc.,(\"Sponsor\"), 1135 Makawao Avenue, Suite 103-188, Makawao, Hawaii, 96768. Contribution by Sponsor: In consideration for the right to sponsor the Kaya Fest and to be acknowledged by Fruit of Life Productions LLC., as a Promoter of the event during the term of this Agreement, Sponsor agrees to contract with Fruit of Life Productions LLC., for the amount of $250,000.00 to be paid in full upon signing of this agreement. Bank Wire Transformation Information See Attached Wire Instructions Sponsorship Benefits for Presenting Partner Sponsor: * Main Stage named after your brand * 4 10x10 on site vendor booths * 50 VIP Sponsor Passes /] [Title: EcoScienceSolutions_Sponsorship_Agreement, URI: https://s3.us-east-1.amazonaws.com/qna-llm-data/legal/Sponsorship/EcoScienceSolutions_Sponsorship_Agreement.pdf, Passage content: SPONSORSHIP AGREEMENT This agreement (the \"Agreement\") is made effective this 1st day of April, 2018 (\"Effective Date\") between Fruit of Life Productions LLC, (\"Promoter\") and Eco Science Solutions, Inc.,(\"Sponsor\"), 1135 Makawao Avenue, Suite 103-188, Makawao, Hawaii, 96768. Contribution by Sponsor: In consideration for the right to sponsor the Kaya Fest and to be acknowledged by Fruit of Life Productions LLC., as a Promoter of the event during the term of this Agreement, Sponsor agrees to contract with Fruit of Life Productions LLC., for the amount of $250,000.00 to be paid in full upon signing of this agreement. Bank Wire Transformation Information See Attached Wire Instructions Sponsorship Benefits for Presenting Partner Sponsor: * Main Stage named after your brand * 4 10x10 on site vendor booths * 50 VIP Sponsor Passes /] [Title: EcoScienceSolutions_Sponsorship_Agreement, URI: https://s3.us-east-1.amazonaws.com/qna-llm-data/legal/Sponsorship/EcoScienceSolutions_Sponsorship_Agreement.pdf, Passage content: SPONSORSHIP AGREEMENT This agreement (the \"Agreement\") is made effective this 1st day of April, 2018 (\"Effective Date\") between Fruit of Life Productions LLC, (\"Promoter\") and Eco Science Solutions, Inc.,(\"Sponsor\"), 1135 Makawao Avenue, Suite 103-188, Makawao, Hawaii, 96768. Contribution by Sponsor: In consideration for the right to sponsor the Kaya Fest and to be acknowledged by Fruit of Life Productions LLC., as a Promoter of the event during the term of this Agreement, Sponsor agrees to contract with Fruit of Life Productions LLC., for the amount of $250,000.00 to be paid in full upon signing of this agreement. Bank Wire Transformation Information See Attached Wire Instructions Sponsorship Benefits for Presenting Partner Sponsor: * Main Stage named after your brand * 4 10x10 on site vendor booths * 50 VIP Sponsor Passes / * 50 VIP Sponsor Passes / 50 GA tickets for both days * 4 Parking passes * Opportunity to participate in after party * Banner placement in venue (10) * Approved audio/video assets to be provided as promotional use for Herbo * Name and phrase called out on stage between performers set * Your logo and a link from our website to your website * Your logo on video wall * Your company name] [Title: EcoScienceSolutions_Sponsorship_Agreement, URI: https://s3.us-east-1.amazonaws.com/anycorp-legaldata/Data/Sponsorship/EcoScienceSolutions_Sponsorship_Agreement.pdf, Passage content: SPONSORSHIP AGREEMENT This agreement (the \"Agreement\") is made effective this 1st day of April, 2018 (\"Effective Date\") between Fruit of Life Productions LLC, (\"Promoter\") and Eco Science Solutions, Inc.,(\"Sponsor\"), 1135 Makawao Avenue, Suite 103-188, Makawao, Hawaii, 96768. Contribution by Sponsor: In consideration for the right to sponsor the Kaya Fest and to be acknowledged by Fruit of Life Productions LLC., as a Promoter of the event during the term of this Agreement, Sponsor agrees to contract with Fruit of Life Productions LLC., for the amount of $250,000.00 to be paid in full upon signing of this agreement. Bank Wire Transformation Information See Attached Wire Instructions Sponsorship Benefits for Presenting Partner Sponsor: * Main Stage named after your brand * 4 10x10 on site vendor booths * 50 VIP Sponsor Passes / * 50 VIP Sponsor Passes / 50 GA tickets for both days * 4 Parking passes * Opportunity to participate in after party * Banner placement in venue (10) * Approved audio/video assets to be provided as promotional use for Herbo * Name and phrase called out on stage between performers set * Your logo and a link from our website to your website * Your logo on video wall * Your company name] \u001b[0m\n"
     ]
    },
    {
     "name": "stderr",
     "output_type": "stream",
     "text": [
      "Failed to persist run: HTTPConnectionPool(host='localhost', port=8000): Max retries exceeded with url: /chain-runs (Caused by NewConnectionError('<urllib3.connection.HTTPConnection object at 0x7f21e98b1850>: Failed to establish a new connection: [Errno 111] Connection refused'))\n"
     ]
    },
    {
     "name": "stdout",
     "output_type": "stream",
     "text": [
      "\u001b[32;1m\u001b[1;3m Based on the information provided, the parties involved in the sponsorship agreement for Kaya Fest are Fruit of Life Productions LLC (the promoter) and Eco Science Solutions, Inc. (the sponsor). The sponsor, Eco Science Solutions, has agreed to pay $250,000 to Fruit of Life Productions LLC in exchange for various sponsorship benefits, including the naming of the main stage after their brand, 4 10x10 on-site vendor booths, 50 VIP sponsor passes, and other perks.\u001b[0m\n",
      "\n",
      "\u001b[1m> Finished chain.\u001b[0m\n"
     ]
    },
    {
     "data": {
      "text/plain": [
       "' Based on the information provided, the parties involved in the sponsorship agreement for Kaya Fest are Fruit of Life Productions LLC (the promoter) and Eco Science Solutions, Inc. (the sponsor). The sponsor, Eco Science Solutions, has agreed to pay $250,000 to Fruit of Life Productions LLC in exchange for various sponsorship benefits, including the naming of the main stage after their brand, 4 10x10 on-site vendor booths, 50 VIP sponsor passes, and other perks.'"
      ]
     },
     "execution_count": 364,
     "metadata": {},
     "output_type": "execute_result"
    }
   ],
   "source": [
    "agent_executor.run(input=\"Who are the parties of this agreement and who is the sponsor?\")"
   ]
  },
  {
   "cell_type": "markdown",
   "metadata": {
    "tags": []
   },
   "source": [
    "## 7. LLAMA2 rephrased the search term based on conversation memory and uses tool(Kendra) to search ( difficulty level : HIGH)"
   ]
  },
  {
   "cell_type": "code",
   "execution_count": 370,
   "metadata": {
    "tags": []
   },
   "outputs": [
    {
     "name": "stderr",
     "output_type": "stream",
     "text": [
      "Failed to load default session, using empty session: HTTPConnectionPool(host='localhost', port=8000): Max retries exceeded with url: /sessions?name=default (Caused by NewConnectionError('<urllib3.connection.HTTPConnection object at 0x7f21e9740220>: Failed to establish a new connection: [Errno 111] Connection refused'))\n"
     ]
    },
    {
     "name": "stdout",
     "output_type": "stream",
     "text": [
      "\n",
      "\n",
      "\u001b[1m> Entering new AgentExecutor chain...\u001b[0m\n",
      "\u001b[32;1m\u001b[1;3m Thought: Do I need to use a tool? YES\n",
      "Action: Search\n",
      "Action Input: Eco Science Solutions, Inc. address\u001b[0m\n",
      "\n",
      "Observation:\u001b[36;1m\u001b[1;3m[Title: EcoScienceSolutionsInc_20171117_8-K_EX-10.1_10956472_EX-10.1_Endorsement Agreement, URI: https://s3.us-east-1.amazonaws.com/anycorp-legaldata/Data/Endorsement/EcoScienceSolutionsInc_20171117_8-K_EX-10.1_10956472_EX-10.1_Endorsement Agreement.pdf, Passage content: 10. Notices. All notices provided for herein shall be given in writing by hand delivery, courier service, or by certified mail return receipt requested to the addresses of the parties set forth as follows (unless change of address by notice to the other party is given as provided in this paragraph 10): 3 Source: ECO SCIENCE SOLUTIONS, INC., 8-K, 11/17/2017 If to Talent: Mr. Stephen Marley 16115 SW 117t h Ave Suite 21-A Miami, Florida 33177 If to ESSI: Mr. Jeffery Taylor, President 1135 Makawao Avenue, Suite 103-188 Makawao, Hawaii 96768 with with a copy to: Sharon Mitchell, Corporate Counsel for ESSI Sharon D. Mitchell SD Mitchell & Associates, PLC 829 Harcourt Rd. Grosse Pointe Park, Michigan 48230 11. Licensing. a copy to: Sharon Mitchell, Corporate Counsel for ESSI Nothing contained herein shall be construed to convey to ESSI any right to use the names, trademarks, service marks, symbols, logos, emblems colors, etc. (\"Marks\"), of the Bob Marley Family Foundation, or any other organization with which the Talent is or has been associated. All rights to the use of such Marks must be acquired from the appropriate rights holder, and if such Marks are used by ESSI then, in such event ESSI (a) shall] [Title: EcoScienceSolutionsInc_20171117_8-K_EX-10.1_10956472_EX-10.1_Endorsement Agreement, URI: https://s3.us-east-1.amazonaws.com/qna-llm-data/legal/Endorsement/EcoScienceSolutionsInc_20171117_8-K_EX-10.1_10956472_EX-10.1_Endorsement Agreement.pdf, Passage content: 10. Notices. All notices provided for herein shall be given in writing by hand delivery, courier service, or by certified mail return receipt requested to the addresses of the parties set forth as follows (unless change of address by notice to the other party is given as provided in this paragraph 10): 3 Source: ECO SCIENCE SOLUTIONS, INC., 8-K, 11/17/2017 If to Talent: Mr. Stephen Marley 16115 SW 117t h Ave Suite 21-A Miami, Florida 33177 If to ESSI: Mr. Jeffery Taylor, President 1135 Makawao Avenue, Suite 103-188 Makawao, Hawaii 96768 with with a copy to: Sharon Mitchell, Corporate Counsel for ESSI Sharon D. Mitchell SD Mitchell & Associates, PLC 829 Harcourt Rd. Grosse Pointe Park, Michigan 48230 11. Licensing. a copy to: Sharon Mitchell, Corporate Counsel for ESSI Nothing contained herein shall be construed to convey to ESSI any right to use the names, trademarks, service marks, symbols, logos, emblems colors, etc. (\"Marks\"), of the Bob Marley Family Foundation, or any other organization with which the Talent is or has been associated. All rights to the use of such Marks must be acquired from the appropriate rights holder, and if such Marks are used by ESSI then, in such event ESSI (a) shall] [Title: EcoScienceSolutionsInc_20171117_8-K_EX-10.1_10956472_EX-10.1_Endorsement Agreement, URI: https://s3.us-east-1.amazonaws.com/qna-llm-data/legal/Endorsement/EcoScienceSolutionsInc_20171117_8-K_EX-10.1_10956472_EX-10.1_Endorsement Agreement.pdf, Passage content: Talent shall not have waived any of its rights at law or in equity by exercising any provision of this paragraph. C. ESSI's rights to the use of Talent and Talent's Attributes as set forth in Paragraphs 3 and 4 shall end immediately should this Agreement be terminated pursuant to Paragraph 10(A) or Paragraph 10(B) above. 10. Notices. All notices provided for herein shall be given in writing by hand delivery, courier service, or by certified mail return receipt requested to the addresses of the parties set forth as follows (unless change of address by notice to the other party is given as provided in this paragraph 10): 3 Source: ECO SCIENCE SOLUTIONS, INC., 8-K, 11/17/2017 If to Talent: Mr. Stephen Marley 16115 SW 117t h Ave Suite 21-A Miami, Florida 33177 If to ESSI: Mr. Jeffery Taylor, President 1135 Makawao Avenue, Suite 103-188 Makawao, Hawaii 96768 with with a copy to: Sharon Mitchell, Corporate Counsel for ESSI Sharon D. Mitchell SD Mitchell & Associates, PLC 829 Harcourt Rd. Grosse Pointe Park, Michigan 48230 11. Licensing.] [Title: EcoScienceSolutionsInc_20171117_8-K_EX-10.1_10956472_EX-10.1_Endorsement Agreement, URI: https://s3.us-east-1.amazonaws.com/anycorp-legaldata/Data/Endorsement/EcoScienceSolutionsInc_20171117_8-K_EX-10.1_10956472_EX-10.1_Endorsement Agreement.pdf, Passage content: Talent shall not have waived any of its rights at law or in equity by exercising any provision of this paragraph. C. ESSI's rights to the use of Talent and Talent's Attributes as set forth in Paragraphs 3 and 4 shall end immediately should this Agreement be terminated pursuant to Paragraph 10(A) or Paragraph 10(B) above. 10. Notices. All notices provided for herein shall be given in writing by hand delivery, courier service, or by certified mail return receipt requested to the addresses of the parties set forth as follows (unless change of address by notice to the other party is given as provided in this paragraph 10): 3 Source: ECO SCIENCE SOLUTIONS, INC., 8-K, 11/17/2017 If to Talent: Mr. Stephen Marley 16115 SW 117t h Ave Suite 21-A Miami, Florida 33177 If to ESSI: Mr. Jeffery Taylor, President 1135 Makawao Avenue, Suite 103-188 Makawao, Hawaii 96768 with with a copy to: Sharon Mitchell, Corporate Counsel for ESSI Sharon D. Mitchell SD Mitchell & Associates, PLC 829 Harcourt Rd. Grosse Pointe Park, Michigan 48230 11. Licensing.] \u001b[0m\n"
     ]
    },
    {
     "name": "stderr",
     "output_type": "stream",
     "text": [
      "Failed to persist run: HTTPConnectionPool(host='localhost', port=8000): Max retries exceeded with url: /chain-runs (Caused by NewConnectionError('<urllib3.connection.HTTPConnection object at 0x7f21e9740700>: Failed to establish a new connection: [Errno 111] Connection refused'))\n"
     ]
    },
    {
     "name": "stdout",
     "output_type": "stream",
     "text": [
      "\u001b[32;1m\u001b[1;3m Based on the information provided, the address of Eco Science Solutions, Inc. is not explicitly stated. However, the agreement mentions the addresses of the parties involved, which include:\n",
      "\n",
      "* Mr. Stephen Marley: 16115 SW 117th Ave Suite 21-A Miami, Florida 33177\n",
      "* Mr. Jeffery Taylor, President of ESSI: 1135 Makawao Avenue, Suite 103-188 Makawao, Hawaii 96768\n",
      "* Sharon Mitchell, Corporate Counsel for ESSI: 829 Harcourt Rd. Grosse Pointe Park, Michigan 48230\n",
      "\n",
      "Therefore, based on the information provided, the address of Eco Science Solutions, Inc. is not explicitly stated, but the addresses of the parties involved in the agreement are provided.\u001b[0m\n",
      "\n",
      "\u001b[1m> Finished chain.\u001b[0m\n"
     ]
    },
    {
     "data": {
      "text/plain": [
       "' Based on the information provided, the address of Eco Science Solutions, Inc. is not explicitly stated. However, the agreement mentions the addresses of the parties involved, which include:\\n\\n* Mr. Stephen Marley: 16115 SW 117th Ave Suite 21-A Miami, Florida 33177\\n* Mr. Jeffery Taylor, President of ESSI: 1135 Makawao Avenue, Suite 103-188 Makawao, Hawaii 96768\\n* Sharon Mitchell, Corporate Counsel for ESSI: 829 Harcourt Rd. Grosse Pointe Park, Michigan 48230\\n\\nTherefore, based on the information provided, the address of Eco Science Solutions, Inc. is not explicitly stated, but the addresses of the parties involved in the agreement are provided.'"
      ]
     },
     "execution_count": 370,
     "metadata": {},
     "output_type": "execute_result"
    }
   ],
   "source": [
    "agent_executor.run(input=\"What is the address of this sponsor\")"
   ]
  },
  {
   "cell_type": "code",
   "execution_count": 366,
   "metadata": {
    "tags": []
   },
   "outputs": [
    {
     "data": {
      "text/plain": [
       "[HumanMessage(content='my name is Abhishek', additional_kwargs={}, example=False),\n",
       " AIMessage(content=\"Hello Abhishek, it's nice to meet you. How can I assist you today?\", additional_kwargs={}, example=False),\n",
       " HumanMessage(content='what is my name', additional_kwargs={}, example=False),\n",
       " AIMessage(content='Your name is Abhishek, based on our previous conversation. Is there anything else I can help you with?', additional_kwargs={}, example=False),\n",
       " HumanMessage(content='What is the sponsorship agreement related to Kaya fest?', additional_kwargs={}, example=False),\n",
       " AIMessage(content=\"The sponsorship agreement related to Kaya Fest appears to be a contract between Fruit of Life Productions LLC and Eco Science Solutions, Inc., outlining the terms and conditions of Eco Science Solutions' sponsorship of the event. Is there anything else I can help you with?\", additional_kwargs={}, example=False),\n",
       " HumanMessage(content='Who are the parties of this agreement and who is the sponsor?', additional_kwargs={}, example=False),\n",
       " AIMessage(content=' Based on the information provided, the parties involved in the sponsorship agreement for Kaya Fest are Fruit of Life Productions LLC (the promoter) and Eco Science Solutions, Inc. (the sponsor). The sponsor, Eco Science Solutions, has agreed to pay $250,000 to Fruit of Life Productions LLC in exchange for various sponsorship benefits, including the naming of the main stage after their brand, 4 10x10 on-site vendor booths, 50 VIP sponsor passes, and other perks.', additional_kwargs={}, example=False),\n",
       " HumanMessage(content='What are the terms of this agreement based on the contract', additional_kwargs={}, example=False),\n",
       " AIMessage(content='The terms of the sponsorship agreement for Kaya Fest between Fruit of Life Productions LLC and Eco Science Solutions, Inc. include sponsorship benefits, contribution, intellectual property, and indemnification.', additional_kwargs={}, example=False)]"
      ]
     },
     "execution_count": 366,
     "metadata": {},
     "output_type": "execute_result"
    }
   ],
   "source": [
    "memory.chat_memory.messages"
   ]
  },
  {
   "cell_type": "code",
   "execution_count": 270,
   "metadata": {
    "tags": []
   },
   "outputs": [
    {
     "data": {
      "text/plain": [
       "ChatMessageHistory(messages=[])"
      ]
     },
     "execution_count": 270,
     "metadata": {},
     "output_type": "execute_result"
    }
   ],
   "source": [
    "memory.chat_memory.clear()\n",
    "memory.chat_memory"
   ]
  },
  {
   "cell_type": "code",
   "execution_count": null,
   "metadata": {},
   "outputs": [],
   "source": []
  }
 ],
 "metadata": {
  "availableInstances": [
   {
    "_defaultOrder": 0,
    "_isFastLaunch": true,
    "category": "General purpose",
    "gpuNum": 0,
    "hideHardwareSpecs": false,
    "memoryGiB": 4,
    "name": "ml.t3.medium",
    "vcpuNum": 2
   },
   {
    "_defaultOrder": 1,
    "_isFastLaunch": false,
    "category": "General purpose",
    "gpuNum": 0,
    "hideHardwareSpecs": false,
    "memoryGiB": 8,
    "name": "ml.t3.large",
    "vcpuNum": 2
   },
   {
    "_defaultOrder": 2,
    "_isFastLaunch": false,
    "category": "General purpose",
    "gpuNum": 0,
    "hideHardwareSpecs": false,
    "memoryGiB": 16,
    "name": "ml.t3.xlarge",
    "vcpuNum": 4
   },
   {
    "_defaultOrder": 3,
    "_isFastLaunch": false,
    "category": "General purpose",
    "gpuNum": 0,
    "hideHardwareSpecs": false,
    "memoryGiB": 32,
    "name": "ml.t3.2xlarge",
    "vcpuNum": 8
   },
   {
    "_defaultOrder": 4,
    "_isFastLaunch": true,
    "category": "General purpose",
    "gpuNum": 0,
    "hideHardwareSpecs": false,
    "memoryGiB": 8,
    "name": "ml.m5.large",
    "vcpuNum": 2
   },
   {
    "_defaultOrder": 5,
    "_isFastLaunch": false,
    "category": "General purpose",
    "gpuNum": 0,
    "hideHardwareSpecs": false,
    "memoryGiB": 16,
    "name": "ml.m5.xlarge",
    "vcpuNum": 4
   },
   {
    "_defaultOrder": 6,
    "_isFastLaunch": false,
    "category": "General purpose",
    "gpuNum": 0,
    "hideHardwareSpecs": false,
    "memoryGiB": 32,
    "name": "ml.m5.2xlarge",
    "vcpuNum": 8
   },
   {
    "_defaultOrder": 7,
    "_isFastLaunch": false,
    "category": "General purpose",
    "gpuNum": 0,
    "hideHardwareSpecs": false,
    "memoryGiB": 64,
    "name": "ml.m5.4xlarge",
    "vcpuNum": 16
   },
   {
    "_defaultOrder": 8,
    "_isFastLaunch": false,
    "category": "General purpose",
    "gpuNum": 0,
    "hideHardwareSpecs": false,
    "memoryGiB": 128,
    "name": "ml.m5.8xlarge",
    "vcpuNum": 32
   },
   {
    "_defaultOrder": 9,
    "_isFastLaunch": false,
    "category": "General purpose",
    "gpuNum": 0,
    "hideHardwareSpecs": false,
    "memoryGiB": 192,
    "name": "ml.m5.12xlarge",
    "vcpuNum": 48
   },
   {
    "_defaultOrder": 10,
    "_isFastLaunch": false,
    "category": "General purpose",
    "gpuNum": 0,
    "hideHardwareSpecs": false,
    "memoryGiB": 256,
    "name": "ml.m5.16xlarge",
    "vcpuNum": 64
   },
   {
    "_defaultOrder": 11,
    "_isFastLaunch": false,
    "category": "General purpose",
    "gpuNum": 0,
    "hideHardwareSpecs": false,
    "memoryGiB": 384,
    "name": "ml.m5.24xlarge",
    "vcpuNum": 96
   },
   {
    "_defaultOrder": 12,
    "_isFastLaunch": false,
    "category": "General purpose",
    "gpuNum": 0,
    "hideHardwareSpecs": false,
    "memoryGiB": 8,
    "name": "ml.m5d.large",
    "vcpuNum": 2
   },
   {
    "_defaultOrder": 13,
    "_isFastLaunch": false,
    "category": "General purpose",
    "gpuNum": 0,
    "hideHardwareSpecs": false,
    "memoryGiB": 16,
    "name": "ml.m5d.xlarge",
    "vcpuNum": 4
   },
   {
    "_defaultOrder": 14,
    "_isFastLaunch": false,
    "category": "General purpose",
    "gpuNum": 0,
    "hideHardwareSpecs": false,
    "memoryGiB": 32,
    "name": "ml.m5d.2xlarge",
    "vcpuNum": 8
   },
   {
    "_defaultOrder": 15,
    "_isFastLaunch": false,
    "category": "General purpose",
    "gpuNum": 0,
    "hideHardwareSpecs": false,
    "memoryGiB": 64,
    "name": "ml.m5d.4xlarge",
    "vcpuNum": 16
   },
   {
    "_defaultOrder": 16,
    "_isFastLaunch": false,
    "category": "General purpose",
    "gpuNum": 0,
    "hideHardwareSpecs": false,
    "memoryGiB": 128,
    "name": "ml.m5d.8xlarge",
    "vcpuNum": 32
   },
   {
    "_defaultOrder": 17,
    "_isFastLaunch": false,
    "category": "General purpose",
    "gpuNum": 0,
    "hideHardwareSpecs": false,
    "memoryGiB": 192,
    "name": "ml.m5d.12xlarge",
    "vcpuNum": 48
   },
   {
    "_defaultOrder": 18,
    "_isFastLaunch": false,
    "category": "General purpose",
    "gpuNum": 0,
    "hideHardwareSpecs": false,
    "memoryGiB": 256,
    "name": "ml.m5d.16xlarge",
    "vcpuNum": 64
   },
   {
    "_defaultOrder": 19,
    "_isFastLaunch": false,
    "category": "General purpose",
    "gpuNum": 0,
    "hideHardwareSpecs": false,
    "memoryGiB": 384,
    "name": "ml.m5d.24xlarge",
    "vcpuNum": 96
   },
   {
    "_defaultOrder": 20,
    "_isFastLaunch": false,
    "category": "General purpose",
    "gpuNum": 0,
    "hideHardwareSpecs": true,
    "memoryGiB": 0,
    "name": "ml.geospatial.interactive",
    "supportedImageNames": [
     "sagemaker-geospatial-v1-0"
    ],
    "vcpuNum": 0
   },
   {
    "_defaultOrder": 21,
    "_isFastLaunch": true,
    "category": "Compute optimized",
    "gpuNum": 0,
    "hideHardwareSpecs": false,
    "memoryGiB": 4,
    "name": "ml.c5.large",
    "vcpuNum": 2
   },
   {
    "_defaultOrder": 22,
    "_isFastLaunch": false,
    "category": "Compute optimized",
    "gpuNum": 0,
    "hideHardwareSpecs": false,
    "memoryGiB": 8,
    "name": "ml.c5.xlarge",
    "vcpuNum": 4
   },
   {
    "_defaultOrder": 23,
    "_isFastLaunch": false,
    "category": "Compute optimized",
    "gpuNum": 0,
    "hideHardwareSpecs": false,
    "memoryGiB": 16,
    "name": "ml.c5.2xlarge",
    "vcpuNum": 8
   },
   {
    "_defaultOrder": 24,
    "_isFastLaunch": false,
    "category": "Compute optimized",
    "gpuNum": 0,
    "hideHardwareSpecs": false,
    "memoryGiB": 32,
    "name": "ml.c5.4xlarge",
    "vcpuNum": 16
   },
   {
    "_defaultOrder": 25,
    "_isFastLaunch": false,
    "category": "Compute optimized",
    "gpuNum": 0,
    "hideHardwareSpecs": false,
    "memoryGiB": 72,
    "name": "ml.c5.9xlarge",
    "vcpuNum": 36
   },
   {
    "_defaultOrder": 26,
    "_isFastLaunch": false,
    "category": "Compute optimized",
    "gpuNum": 0,
    "hideHardwareSpecs": false,
    "memoryGiB": 96,
    "name": "ml.c5.12xlarge",
    "vcpuNum": 48
   },
   {
    "_defaultOrder": 27,
    "_isFastLaunch": false,
    "category": "Compute optimized",
    "gpuNum": 0,
    "hideHardwareSpecs": false,
    "memoryGiB": 144,
    "name": "ml.c5.18xlarge",
    "vcpuNum": 72
   },
   {
    "_defaultOrder": 28,
    "_isFastLaunch": false,
    "category": "Compute optimized",
    "gpuNum": 0,
    "hideHardwareSpecs": false,
    "memoryGiB": 192,
    "name": "ml.c5.24xlarge",
    "vcpuNum": 96
   },
   {
    "_defaultOrder": 29,
    "_isFastLaunch": true,
    "category": "Accelerated computing",
    "gpuNum": 1,
    "hideHardwareSpecs": false,
    "memoryGiB": 16,
    "name": "ml.g4dn.xlarge",
    "vcpuNum": 4
   },
   {
    "_defaultOrder": 30,
    "_isFastLaunch": false,
    "category": "Accelerated computing",
    "gpuNum": 1,
    "hideHardwareSpecs": false,
    "memoryGiB": 32,
    "name": "ml.g4dn.2xlarge",
    "vcpuNum": 8
   },
   {
    "_defaultOrder": 31,
    "_isFastLaunch": false,
    "category": "Accelerated computing",
    "gpuNum": 1,
    "hideHardwareSpecs": false,
    "memoryGiB": 64,
    "name": "ml.g4dn.4xlarge",
    "vcpuNum": 16
   },
   {
    "_defaultOrder": 32,
    "_isFastLaunch": false,
    "category": "Accelerated computing",
    "gpuNum": 1,
    "hideHardwareSpecs": false,
    "memoryGiB": 128,
    "name": "ml.g4dn.8xlarge",
    "vcpuNum": 32
   },
   {
    "_defaultOrder": 33,
    "_isFastLaunch": false,
    "category": "Accelerated computing",
    "gpuNum": 4,
    "hideHardwareSpecs": false,
    "memoryGiB": 192,
    "name": "ml.g4dn.12xlarge",
    "vcpuNum": 48
   },
   {
    "_defaultOrder": 34,
    "_isFastLaunch": false,
    "category": "Accelerated computing",
    "gpuNum": 1,
    "hideHardwareSpecs": false,
    "memoryGiB": 256,
    "name": "ml.g4dn.16xlarge",
    "vcpuNum": 64
   },
   {
    "_defaultOrder": 35,
    "_isFastLaunch": false,
    "category": "Accelerated computing",
    "gpuNum": 1,
    "hideHardwareSpecs": false,
    "memoryGiB": 61,
    "name": "ml.p3.2xlarge",
    "vcpuNum": 8
   },
   {
    "_defaultOrder": 36,
    "_isFastLaunch": false,
    "category": "Accelerated computing",
    "gpuNum": 4,
    "hideHardwareSpecs": false,
    "memoryGiB": 244,
    "name": "ml.p3.8xlarge",
    "vcpuNum": 32
   },
   {
    "_defaultOrder": 37,
    "_isFastLaunch": false,
    "category": "Accelerated computing",
    "gpuNum": 8,
    "hideHardwareSpecs": false,
    "memoryGiB": 488,
    "name": "ml.p3.16xlarge",
    "vcpuNum": 64
   },
   {
    "_defaultOrder": 38,
    "_isFastLaunch": false,
    "category": "Accelerated computing",
    "gpuNum": 8,
    "hideHardwareSpecs": false,
    "memoryGiB": 768,
    "name": "ml.p3dn.24xlarge",
    "vcpuNum": 96
   },
   {
    "_defaultOrder": 39,
    "_isFastLaunch": false,
    "category": "Memory Optimized",
    "gpuNum": 0,
    "hideHardwareSpecs": false,
    "memoryGiB": 16,
    "name": "ml.r5.large",
    "vcpuNum": 2
   },
   {
    "_defaultOrder": 40,
    "_isFastLaunch": false,
    "category": "Memory Optimized",
    "gpuNum": 0,
    "hideHardwareSpecs": false,
    "memoryGiB": 32,
    "name": "ml.r5.xlarge",
    "vcpuNum": 4
   },
   {
    "_defaultOrder": 41,
    "_isFastLaunch": false,
    "category": "Memory Optimized",
    "gpuNum": 0,
    "hideHardwareSpecs": false,
    "memoryGiB": 64,
    "name": "ml.r5.2xlarge",
    "vcpuNum": 8
   },
   {
    "_defaultOrder": 42,
    "_isFastLaunch": false,
    "category": "Memory Optimized",
    "gpuNum": 0,
    "hideHardwareSpecs": false,
    "memoryGiB": 128,
    "name": "ml.r5.4xlarge",
    "vcpuNum": 16
   },
   {
    "_defaultOrder": 43,
    "_isFastLaunch": false,
    "category": "Memory Optimized",
    "gpuNum": 0,
    "hideHardwareSpecs": false,
    "memoryGiB": 256,
    "name": "ml.r5.8xlarge",
    "vcpuNum": 32
   },
   {
    "_defaultOrder": 44,
    "_isFastLaunch": false,
    "category": "Memory Optimized",
    "gpuNum": 0,
    "hideHardwareSpecs": false,
    "memoryGiB": 384,
    "name": "ml.r5.12xlarge",
    "vcpuNum": 48
   },
   {
    "_defaultOrder": 45,
    "_isFastLaunch": false,
    "category": "Memory Optimized",
    "gpuNum": 0,
    "hideHardwareSpecs": false,
    "memoryGiB": 512,
    "name": "ml.r5.16xlarge",
    "vcpuNum": 64
   },
   {
    "_defaultOrder": 46,
    "_isFastLaunch": false,
    "category": "Memory Optimized",
    "gpuNum": 0,
    "hideHardwareSpecs": false,
    "memoryGiB": 768,
    "name": "ml.r5.24xlarge",
    "vcpuNum": 96
   },
   {
    "_defaultOrder": 47,
    "_isFastLaunch": false,
    "category": "Accelerated computing",
    "gpuNum": 1,
    "hideHardwareSpecs": false,
    "memoryGiB": 16,
    "name": "ml.g5.xlarge",
    "vcpuNum": 4
   },
   {
    "_defaultOrder": 48,
    "_isFastLaunch": false,
    "category": "Accelerated computing",
    "gpuNum": 1,
    "hideHardwareSpecs": false,
    "memoryGiB": 32,
    "name": "ml.g5.2xlarge",
    "vcpuNum": 8
   },
   {
    "_defaultOrder": 49,
    "_isFastLaunch": false,
    "category": "Accelerated computing",
    "gpuNum": 1,
    "hideHardwareSpecs": false,
    "memoryGiB": 64,
    "name": "ml.g5.4xlarge",
    "vcpuNum": 16
   },
   {
    "_defaultOrder": 50,
    "_isFastLaunch": false,
    "category": "Accelerated computing",
    "gpuNum": 1,
    "hideHardwareSpecs": false,
    "memoryGiB": 128,
    "name": "ml.g5.8xlarge",
    "vcpuNum": 32
   },
   {
    "_defaultOrder": 51,
    "_isFastLaunch": false,
    "category": "Accelerated computing",
    "gpuNum": 1,
    "hideHardwareSpecs": false,
    "memoryGiB": 256,
    "name": "ml.g5.16xlarge",
    "vcpuNum": 64
   },
   {
    "_defaultOrder": 52,
    "_isFastLaunch": false,
    "category": "Accelerated computing",
    "gpuNum": 4,
    "hideHardwareSpecs": false,
    "memoryGiB": 192,
    "name": "ml.g5.12xlarge",
    "vcpuNum": 48
   },
   {
    "_defaultOrder": 53,
    "_isFastLaunch": false,
    "category": "Accelerated computing",
    "gpuNum": 4,
    "hideHardwareSpecs": false,
    "memoryGiB": 384,
    "name": "ml.g5.24xlarge",
    "vcpuNum": 96
   },
   {
    "_defaultOrder": 54,
    "_isFastLaunch": false,
    "category": "Accelerated computing",
    "gpuNum": 8,
    "hideHardwareSpecs": false,
    "memoryGiB": 768,
    "name": "ml.g5.48xlarge",
    "vcpuNum": 192
   },
   {
    "_defaultOrder": 55,
    "_isFastLaunch": false,
    "category": "Accelerated computing",
    "gpuNum": 8,
    "hideHardwareSpecs": false,
    "memoryGiB": 1152,
    "name": "ml.p4d.24xlarge",
    "vcpuNum": 96
   },
   {
    "_defaultOrder": 56,
    "_isFastLaunch": false,
    "category": "Accelerated computing",
    "gpuNum": 8,
    "hideHardwareSpecs": false,
    "memoryGiB": 1152,
    "name": "ml.p4de.24xlarge",
    "vcpuNum": 96
   }
  ],
  "instance_type": "ml.m5.large",
  "kernelspec": {
   "display_name": "Python 3 (Data Science 2.0)",
   "language": "python",
   "name": "python3__SAGEMAKER_INTERNAL__arn:aws:sagemaker:us-east-1:081325390199:image/sagemaker-data-science-38"
  },
  "language_info": {
   "codemirror_mode": {
    "name": "ipython",
    "version": 3
   },
   "file_extension": ".py",
   "mimetype": "text/x-python",
   "name": "python",
   "nbconvert_exporter": "python",
   "pygments_lexer": "ipython3",
   "version": "3.8.13"
  },
  "vscode": {
   "interpreter": {
    "hash": "31f2aee4e71d21fbe5cf8b01ff0e069b9275f58929596ceb00d14d90e3e16cd6"
   }
  }
 },
 "nbformat": 4,
 "nbformat_minor": 4
}
